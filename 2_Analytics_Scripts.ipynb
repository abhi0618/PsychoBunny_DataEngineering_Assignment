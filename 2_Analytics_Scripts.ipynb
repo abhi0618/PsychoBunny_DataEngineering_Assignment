{
 "cells": [
  {
   "cell_type": "code",
   "execution_count": 1,
   "id": "4e2a41eb",
   "metadata": {},
   "outputs": [],
   "source": [
    "import pandas as pd\n",
    "import numpy as np\n",
    "import plotly.express as px\n",
    "import snowflake.connector\n",
    "import ipywidgets as widgets\n",
    "from IPython.display import display, clear_output\n",
    "\n",
    "# -----------------------------\n",
    "# Snowflake config\n",
    "# -----------------------------\n",
    "SNOWFLAKE_USER = \"ABHRJ5665\"\n",
    "SNOWFLAKE_PASSWORD = \"Abhrj@0000005665\"\n",
    "SNOWFLAKE_ACCOUNT = \"XOCWKMU-NOC12545\"\n",
    "SNOWFLAKE_WAREHOUSE = \"PIPELINE_WH\"\n",
    "SNOWFLAKE_DATABASE = \"SHOP_DB\"\n",
    "SNOWFLAKE_SCHEMA = \"PUBLIC\"\n",
    "\n",
    "\n",
    "def snowflake_conn():\n",
    "    return snowflake.connector.connect(\n",
    "        user=SNOWFLAKE_USER,\n",
    "        password=SNOWFLAKE_PASSWORD,\n",
    "        account=SNOWFLAKE_ACCOUNT,\n",
    "        warehouse=SNOWFLAKE_WAREHOUSE,\n",
    "        database=SNOWFLAKE_DATABASE,\n",
    "        schema=SNOWFLAKE_SCHEMA\n",
    "    )\n"
   ]
  },
  {
   "cell_type": "markdown",
   "id": "647d3a66",
   "metadata": {},
   "source": [
    "Add Standardised ORDERDATE column , new column STD_ORDERDATE  to match with the date format of the dates table"
   ]
  },
  {
   "cell_type": "code",
   "execution_count": 9,
   "id": "101fe678",
   "metadata": {},
   "outputs": [
    {
     "name": "stdout",
     "output_type": "stream",
     "text": [
      "('2/24/2003 0:00', datetime.date(2003, 2, 24))\n",
      "('5/7/2003 0:00', datetime.date(2003, 5, 7))\n",
      "('7/1/2003 0:00', datetime.date(2003, 7, 1))\n",
      "('8/25/2003 0:00', datetime.date(2003, 8, 25))\n",
      "('10/10/2003 0:00', datetime.date(2003, 10, 10))\n"
     ]
    }
   ],
   "source": [
    "conn = snowflake_conn()\n",
    "cur = conn.cursor()\n",
    "\n",
    "# Add STD_ORDERDATE if not exists\n",
    "cur.execute(\"\"\"\n",
    "ALTER TABLE TRANSACTIONS\n",
    "ADD COLUMN IF NOT EXISTS STD_ORDERDATE DATE;\n",
    "\"\"\")\n",
    "\n",
    "# Populate STD_ORDERDATE from ORDERDATE strings\n",
    "cur.execute(\"\"\"\n",
    "UPDATE TRANSACTIONS\n",
    "SET STD_ORDERDATE = TRY_TO_DATE(ORDERDATE, 'MM/DD/YYYY HH24:MI');\n",
    "\"\"\")\n",
    "\n",
    "# Quick check\n",
    "cur.execute(\"SELECT ORDERDATE, STD_ORDERDATE FROM TRANSACTIONS LIMIT 5\")\n",
    "for row in cur.fetchall():\n",
    "    print(row)\n",
    "\n",
    "cur.close()\n",
    "conn.close()\n"
   ]
  },
  {
   "cell_type": "markdown",
   "id": "40d4890c",
   "metadata": {},
   "source": [
    "Analytics Q1-3\n",
    "\n",
    "Provide the weekly, monthly and quarterly amount of sales\n",
    "Provide  the weekly, monthly and quarterly total amount of refunds\n",
    "Provide the total amount of items\n"
   ]
  },
  {
   "cell_type": "code",
   "execution_count": 2,
   "id": "d4e4e5e5",
   "metadata": {},
   "outputs": [
    {
     "name": "stderr",
     "output_type": "stream",
     "text": [
      "C:\\Users\\Abhi0618\\AppData\\Local\\Temp\\ipykernel_13280\\2056638500.py:13: UserWarning: pandas only supports SQLAlchemy connectable (engine/connection) or database string URI or sqlite3 DBAPI2 connection. Other DBAPI2 objects are not tested. Please consider using SQLAlchemy.\n",
      "  df = pd.read_sql(query, conn)\n"
     ]
    },
    {
     "data": {
      "application/vnd.jupyter.widget-view+json": {
       "model_id": "7893a624be1c46cbb590856c966ab8e9",
       "version_major": 2,
       "version_minor": 0
      },
      "text/plain": [
       "IntRangeSlider(value=(2003, 2005), continuous_update=False, description='Year Range:', layout=Layout(width='60…"
      ]
     },
     "metadata": {},
     "output_type": "display_data"
    },
    {
     "data": {
      "application/vnd.jupyter.widget-view+json": {
       "model_id": "bac0b605b6aa4168bbfa1fae948dc583",
       "version_major": 2,
       "version_minor": 0
      },
      "text/plain": [
       "Output()"
      ]
     },
     "metadata": {},
     "output_type": "display_data"
    }
   ],
   "source": [
    "# -----------------------------\n",
    "# Pull transactions from Snowflake\n",
    "# -----------------------------\n",
    "conn = snowflake_conn()\n",
    "query = \"\"\"\n",
    "SELECT \n",
    "    ORDERNUMBER,\n",
    "    QUANTITYORDERED,\n",
    "    TOTAL_AMOUNT,\n",
    "    STD_ORDERDATE\n",
    "FROM TRANSACTIONS\n",
    "\"\"\"\n",
    "df = pd.read_sql(query, conn)\n",
    "conn.close()\n",
    "\n",
    "# -----------------------------\n",
    "# Clean & convert types\n",
    "# -----------------------------\n",
    "df['ORDER_DATE'] = pd.to_datetime(df['STD_ORDERDATE'], errors='coerce')\n",
    "df['QUANTITYORDERED'] = pd.to_numeric(df['QUANTITYORDERED'], errors='coerce')\n",
    "df['TOTAL_AMOUNT'] = pd.to_numeric(df['TOTAL_AMOUNT'], errors='coerce')\n",
    "\n",
    "# -----------------------------\n",
    "# Compute metrics\n",
    "# -----------------------------\n",
    "df['SALES_AMOUNT'] = np.where(df['TOTAL_AMOUNT'] > 0, df['TOTAL_AMOUNT'], 0)\n",
    "df['REFUND_AMOUNT'] = np.where(df['TOTAL_AMOUNT'] < 0, -df['TOTAL_AMOUNT'], 0)\n",
    "df['TOTAL_ITEMS'] = df['QUANTITYORDERED'].fillna(0)\n",
    "\n",
    "# -----------------------------\n",
    "# Derive fiscal week/month/quarter\n",
    "# -----------------------------\n",
    "df['FISCAL_YEAR'] = df['ORDER_DATE'].dt.year\n",
    "df['FISCAL_WEEK'] = df['ORDER_DATE'].dt.isocalendar().week\n",
    "df['FISCAL_MONTH'] = df['ORDER_DATE'].dt.month\n",
    "df['FISCAL_MONTH_NAME'] = df['ORDER_DATE'].dt.strftime('%b')\n",
    "df['FISCAL_QUARTER'] = df['ORDER_DATE'].dt.quarter\n",
    "\n",
    "df['WEEK_KEY'] = df['FISCAL_YEAR'].astype(str) + \"-W\" + df['FISCAL_WEEK'].astype(str)\n",
    "df['MONTH_KEY'] = df['FISCAL_YEAR'].astype(str) + \"-M\" + df['FISCAL_MONTH'].astype(str)\n",
    "df['QUARTER_KEY'] = df['FISCAL_YEAR'].astype(str) + \"-Q\" + df['FISCAL_QUARTER'].astype(str)\n",
    "\n",
    "# -----------------------------\n",
    "# Aggregation function\n",
    "# -----------------------------\n",
    "def aggregate_metrics(df, group_col):\n",
    "    return df.groupby(group_col).agg(\n",
    "        total_sales=('SALES_AMOUNT','sum'),\n",
    "        total_refunds=('REFUND_AMOUNT','sum'),\n",
    "        total_items=('TOTAL_ITEMS','sum'),\n",
    "        orders=('ORDERNUMBER','nunique')\n",
    "    ).reset_index()\n",
    "\n",
    "# -----------------------------\n",
    "# Multi-year interactive filter\n",
    "# -----------------------------\n",
    "\n",
    "\n",
    "year_min, year_max = int(df['FISCAL_YEAR'].min()), int(df['FISCAL_YEAR'].max())\n",
    "\n",
    "year_range_slider = widgets.IntRangeSlider(\n",
    "    value=[year_min, year_max],\n",
    "    min=year_min,\n",
    "    max=year_max,\n",
    "    step=1,\n",
    "    description='Year Range:',\n",
    "    continuous_update=False,\n",
    "    style={'description_width': 'initial'},\n",
    "    layout={'width': '600px'}\n",
    ")\n",
    "\n",
    "output = widgets.Output()\n",
    "\n",
    "def update_dashboard(change):\n",
    "    with output:\n",
    "        clear_output()\n",
    "        start_year, end_year = year_range_slider.value\n",
    "        df_filtered = df[(df['FISCAL_YEAR'] >= start_year) & (df['FISCAL_YEAR'] <= end_year)]\n",
    "\n",
    "        # Aggregations\n",
    "        weekly_metrics = aggregate_metrics(df_filtered, 'WEEK_KEY')\n",
    "        monthly_metrics = aggregate_metrics(df_filtered, 'MONTH_KEY')\n",
    "        quarterly_metrics = aggregate_metrics(df_filtered, 'QUARTER_KEY')\n",
    "\n",
    "        # Display tables\n",
    "        print(f\"📊 Weekly Metrics ({start_year}-{end_year})\")\n",
    "        display(weekly_metrics.head(10))\n",
    "        print(f\"📊 Monthly Metrics ({start_year}-{end_year})\")\n",
    "        display(monthly_metrics.head(10))\n",
    "        print(f\"📊 Quarterly Metrics ({start_year}-{end_year})\")\n",
    "        display(quarterly_metrics.head(10))\n",
    "\n",
    "        # Charts\n",
    "        fig_week = px.bar(weekly_metrics, x='WEEK_KEY', y='total_sales', title=f'Weekly Sales Amount ({start_year}-{end_year})')\n",
    "        fig_week.show()\n",
    "\n",
    "        fig_month = px.line(monthly_metrics, x='MONTH_KEY', y='total_refunds', title=f'Monthly Refund Amounts ({start_year}-{end_year})')\n",
    "        fig_month.show()\n",
    "\n",
    "        fig_quarter = px.bar(quarterly_metrics, x='QUARTER_KEY', y='total_items', title=f'Quarterly Total Items ({start_year}-{end_year})')\n",
    "        fig_quarter.show()\n",
    "\n",
    "year_range_slider.observe(update_dashboard, names='value')\n",
    "\n",
    "display(year_range_slider, output)\n",
    "\n",
    "# Initial dashboard display\n",
    "update_dashboard(None)\n"
   ]
  },
  {
   "cell_type": "markdown",
   "id": "8efab59a",
   "metadata": {},
   "source": [
    "Q4 Items’ Product Code is composed of a product family and a sub category, separated by an underscore. Provide the weekly, monthly and quarterly amount of sales for each product family.\n"
   ]
  },
  {
   "cell_type": "code",
   "execution_count": 3,
   "id": "b3cc8d55",
   "metadata": {},
   "outputs": [
    {
     "name": "stderr",
     "output_type": "stream",
     "text": [
      "C:\\Users\\Abhi0618\\AppData\\Local\\Temp\\ipykernel_13280\\2375625193.py:14: UserWarning:\n",
      "\n",
      "pandas only supports SQLAlchemy connectable (engine/connection) or database string URI or sqlite3 DBAPI2 connection. Other DBAPI2 objects are not tested. Please consider using SQLAlchemy.\n",
      "\n"
     ]
    },
    {
     "data": {
      "application/vnd.jupyter.widget-view+json": {
       "model_id": "c8c14cc9b9884f3ba55f63644ae7a594",
       "version_major": 2,
       "version_minor": 0
      },
      "text/plain": [
       "IntRangeSlider(value=(2003, 2005), continuous_update=False, description='Year Range:', layout=Layout(width='60…"
      ]
     },
     "metadata": {},
     "output_type": "display_data"
    },
    {
     "data": {
      "application/vnd.jupyter.widget-view+json": {
       "model_id": "68fe5fe016e649209607195e45595c47",
       "version_major": 2,
       "version_minor": 0
      },
      "text/plain": [
       "Output()"
      ]
     },
     "metadata": {},
     "output_type": "display_data"
    }
   ],
   "source": [
    "# -----------------------------\n",
    "# Pull PRODUCTCODE along with metrics\n",
    "# -----------------------------\n",
    "conn = snowflake_conn()\n",
    "query = \"\"\"\n",
    "SELECT \n",
    "    ORDERNUMBER,\n",
    "    QUANTITYORDERED,\n",
    "    TOTAL_AMOUNT,\n",
    "    STD_ORDERDATE,\n",
    "    PRODUCTCODE\n",
    "FROM TRANSACTIONS\n",
    "\"\"\"\n",
    "df = pd.read_sql(query, conn)\n",
    "conn.close()\n",
    "\n",
    "# -----------------------------\n",
    "# Clean & convert\n",
    "# -----------------------------\n",
    "df['ORDER_DATE'] = pd.to_datetime(df['STD_ORDERDATE'], errors='coerce')\n",
    "df['QUANTITYORDERED'] = pd.to_numeric(df['QUANTITYORDERED'], errors='coerce')\n",
    "df['TOTAL_AMOUNT'] = pd.to_numeric(df['TOTAL_AMOUNT'], errors='coerce')\n",
    "\n",
    "df['SALES_AMOUNT'] = np.where(df['TOTAL_AMOUNT'] > 0, df['TOTAL_AMOUNT'], 0)\n",
    "df['TOTAL_ITEMS'] = df['QUANTITYORDERED'].fillna(0)\n",
    "\n",
    "# -----------------------------\n",
    "# Split PRODUCTCODE\n",
    "# -----------------------------\n",
    "df[['PRODUCT_FAMILY', 'SUB_CATEGORY']] = df['PRODUCTCODE'].str.split('_', n=1, expand=True)\n",
    "\n",
    "# -----------------------------\n",
    "# Derive fiscal week/month/quarter\n",
    "# -----------------------------\n",
    "df['FISCAL_YEAR'] = df['ORDER_DATE'].dt.year\n",
    "df['FISCAL_WEEK'] = df['ORDER_DATE'].dt.isocalendar().week\n",
    "df['FISCAL_MONTH'] = df['ORDER_DATE'].dt.month\n",
    "df['FISCAL_QUARTER'] = df['ORDER_DATE'].dt.quarter\n",
    "\n",
    "df['WEEK_KEY'] = df['FISCAL_YEAR'].astype(str) + \"-W\" + df['FISCAL_WEEK'].astype(str)\n",
    "df['MONTH_KEY'] = df['FISCAL_YEAR'].astype(str) + \"-M\" + df['FISCAL_MONTH'].astype(str)\n",
    "df['QUARTER_KEY'] = df['FISCAL_YEAR'].astype(str) + \"-Q\" + df['FISCAL_QUARTER'].astype(str)\n",
    "\n",
    "# -----------------------------\n",
    "# Aggregation function by product family\n",
    "# -----------------------------\n",
    "def aggregate_by_family(df, group_col):\n",
    "    return df.groupby([group_col, 'PRODUCT_FAMILY']).agg(\n",
    "        total_sales=('SALES_AMOUNT','sum'),\n",
    "        total_items=('TOTAL_ITEMS','sum'),\n",
    "        orders=('ORDERNUMBER','nunique')\n",
    "    ).reset_index()\n",
    "\n",
    "# -----------------------------\n",
    "# Multi-year interactive filter\n",
    "# -----------------------------\n",
    "year_min, year_max = int(df['FISCAL_YEAR'].min()), int(df['FISCAL_YEAR'].max())\n",
    "year_range_slider = widgets.IntRangeSlider(\n",
    "    value=[year_min, year_max],\n",
    "    min=year_min,\n",
    "    max=year_max,\n",
    "    step=1,\n",
    "    description='Year Range:',\n",
    "    continuous_update=False,\n",
    "    style={'description_width': 'initial'},\n",
    "    layout={'width': '600px'}\n",
    ")\n",
    "output = widgets.Output()\n",
    "\n",
    "def update_dashboard(change):\n",
    "    with output:\n",
    "        clear_output()\n",
    "        start_year, end_year = year_range_slider.value\n",
    "        df_filtered = df[(df['FISCAL_YEAR'] >= start_year) & (df['FISCAL_YEAR'] <= end_year)]\n",
    "\n",
    "        # Aggregations\n",
    "        weekly_metrics = aggregate_by_family(df_filtered, 'WEEK_KEY')\n",
    "        monthly_metrics = aggregate_by_family(df_filtered, 'MONTH_KEY')\n",
    "        quarterly_metrics = aggregate_by_family(df_filtered, 'QUARTER_KEY')\n",
    "\n",
    "        # Display tables\n",
    "        print(f\"📊 Weekly Metrics by Product Family ({start_year}-{end_year})\")\n",
    "        display(weekly_metrics.head(10))\n",
    "        print(f\"📊 Monthly Metrics by Product Family ({start_year}-{end_year})\")\n",
    "        display(monthly_metrics.head(10))\n",
    "        print(f\"📊 Quarterly Metrics by Product Family ({start_year}-{end_year})\")\n",
    "        display(quarterly_metrics.head(10))\n",
    "\n",
    "        # Charts (example: top 5 families by sales)\n",
    "        top_families = df_filtered['PRODUCT_FAMILY'].value_counts().head(5).index\n",
    "\n",
    "        fig_week = px.bar(weekly_metrics[weekly_metrics['PRODUCT_FAMILY'].isin(top_families)],\n",
    "                          x='WEEK_KEY', y='total_sales', color='PRODUCT_FAMILY',\n",
    "                          title=f'Weekly Sales by Product Family ({start_year}-{end_year})')\n",
    "        fig_week.show()\n",
    "\n",
    "        fig_month = px.bar(monthly_metrics[monthly_metrics['PRODUCT_FAMILY'].isin(top_families)],\n",
    "                           x='MONTH_KEY', y='total_sales', color='PRODUCT_FAMILY',\n",
    "                           title=f'Monthly Sales by Product Family ({start_year}-{end_year})')\n",
    "        fig_month.show()\n",
    "\n",
    "        fig_quarter = px.bar(quarterly_metrics[quarterly_metrics['PRODUCT_FAMILY'].isin(top_families)],\n",
    "                             x='QUARTER_KEY', y='total_sales', color='PRODUCT_FAMILY',\n",
    "                             title=f'Quarterly Sales by Product Family ({start_year}-{end_year})')\n",
    "        fig_quarter.show()\n",
    "\n",
    "year_range_slider.observe(update_dashboard, names='value')\n",
    "\n",
    "display(year_range_slider, output)\n",
    "\n",
    "# Initial dashboard display\n",
    "update_dashboard(None)\n"
   ]
  },
  {
   "cell_type": "markdown",
   "id": "a49913ff",
   "metadata": {},
   "source": [
    "Q5 What are the best-selling and the second best-selling items in every region?"
   ]
  },
  {
   "cell_type": "code",
   "execution_count": null,
   "id": "4ff5d246",
   "metadata": {},
   "outputs": [
    {
     "name": "stderr",
     "output_type": "stream",
     "text": [
      "C:\\Users\\Abhi0618\\AppData\\Local\\Temp\\ipykernel_13280\\2273950412.py:19: UserWarning:\n",
      "\n",
      "pandas only supports SQLAlchemy connectable (engine/connection) or database string URI or sqlite3 DBAPI2 connection. Other DBAPI2 objects are not tested. Please consider using SQLAlchemy.\n",
      "\n"
     ]
    },
    {
     "data": {
      "application/vnd.jupyter.widget-view+json": {
       "model_id": "bd1c43cab25b4ba393b2bfe427fa4db7",
       "version_major": 2,
       "version_minor": 0
      },
      "text/plain": [
       "IntRangeSlider(value=(2003, 2005), continuous_update=False, description='Year Range:', layout=Layout(width='60…"
      ]
     },
     "metadata": {},
     "output_type": "display_data"
    },
    {
     "data": {
      "application/vnd.jupyter.widget-view+json": {
       "model_id": "b56fc5e73c6640838935a3a6af7654b7",
       "version_major": 2,
       "version_minor": 0
      },
      "text/plain": [
       "Output()"
      ]
     },
     "metadata": {},
     "output_type": "display_data"
    }
   ],
   "source": [
    "conn = snowflake_conn()\n",
    "query = \"\"\"\n",
    "SELECT \n",
    "    PRODUCTCODE,\n",
    "    TOTAL_AMOUNT,\n",
    "    TERRITORY\n",
    "FROM TRANSACTIONS\n",
    "\"\"\"\n",
    "df = pd.read_sql(query, conn)\n",
    "conn.close()\n",
    "\n",
    "# -----------------------------\n",
    "# Clean & convert\n",
    "# -----------------------------\n",
    "df['TOTAL_AMOUNT'] = pd.to_numeric(df['TOTAL_AMOUNT'], errors='coerce')\n",
    "df['SALES_AMOUNT'] = df['TOTAL_AMOUNT'].apply(lambda x: x if x > 0 else 0)  # Only count sales, ignore refunds\n",
    "\n",
    "# -----------------------------\n",
    "# Aggregate total sales by product per region\n",
    "# -----------------------------\n",
    "sales_by_region = df.groupby(['TERRITORY', 'PRODUCTCODE']).agg(\n",
    "    total_sales=('SALES_AMOUNT','sum')\n",
    ").reset_index()\n",
    "\n",
    "# -----------------------------\n",
    "# Rank products in each region\n",
    "# -----------------------------\n",
    "sales_by_region['rank'] = sales_by_region.groupby('TERRITORY')['total_sales'] \\\n",
    "                                         .rank(method='dense', ascending=False)\n",
    "\n",
    "# -----------------------------\n",
    "# Filter top 2 products per region\n",
    "# -----------------------------\n",
    "top2_products_region = sales_by_region[sales_by_region['rank'] <= 2].sort_values(['TERRITORY','rank'])\n",
    "\n",
    "# -----------------------------\n",
    "# Display table\n",
    "# -----------------------------\n",
    "print(\"🏆 Best-Selling and Second Best-Selling Items per Region\")\n",
    "display(top2_products_region[['TERRITORY', 'PRODUCTCODE', 'total_sales', 'rank']])\n",
    "\n",
    "# -----------------------------\n",
    "# Plot bar chart\n",
    "# -----------------------------\n",
    "fig_top2 = px.bar(\n",
    "    top2_products_region,\n",
    "    x='TERRITORY',\n",
    "    y='total_sales',\n",
    "    color='PRODUCTCODE',\n",
    "    barmode='group',\n",
    "    text='total_sales',\n",
    "    title='🏆 Top 2 Best-Selling Items per Region'\n",
    ")\n",
    "fig_top2.update_traces(texttemplate='%{text:.2f}', textposition='outside')\n",
    "fig_top2.show()"
   ]
  },
  {
   "cell_type": "markdown",
   "id": "5c573886",
   "metadata": {},
   "source": [
    "Q6 What is the difference between the revenue of each item and the revenue of the best-selling item in the same region?\n"
   ]
  },
  {
   "cell_type": "code",
   "execution_count": 12,
   "id": "8c6e7f46",
   "metadata": {},
   "outputs": [
    {
     "name": "stderr",
     "output_type": "stream",
     "text": [
      "C:\\Users\\Abhi0618\\AppData\\Local\\Temp\\ipykernel_13280\\3657323722.py:12: UserWarning:\n",
      "\n",
      "pandas only supports SQLAlchemy connectable (engine/connection) or database string URI or sqlite3 DBAPI2 connection. Other DBAPI2 objects are not tested. Please consider using SQLAlchemy.\n",
      "\n"
     ]
    },
    {
     "name": "stdout",
     "output_type": "stream",
     "text": [
      "📊 Revenue Difference from Best-Selling Item per Region\n"
     ]
    },
    {
     "data": {
      "text/html": [
       "<div>\n",
       "<style scoped>\n",
       "    .dataframe tbody tr th:only-of-type {\n",
       "        vertical-align: middle;\n",
       "    }\n",
       "\n",
       "    .dataframe tbody tr th {\n",
       "        vertical-align: top;\n",
       "    }\n",
       "\n",
       "    .dataframe thead th {\n",
       "        text-align: right;\n",
       "    }\n",
       "</style>\n",
       "<table border=\"1\" class=\"dataframe\">\n",
       "  <thead>\n",
       "    <tr style=\"text-align: right;\">\n",
       "      <th></th>\n",
       "      <th>TERRITORY</th>\n",
       "      <th>PRODUCTCODE</th>\n",
       "      <th>total_sales</th>\n",
       "      <th>best_sales_in_region</th>\n",
       "      <th>revenue_diff</th>\n",
       "    </tr>\n",
       "  </thead>\n",
       "  <tbody>\n",
       "    <tr>\n",
       "      <th>48</th>\n",
       "      <td>APAC</td>\n",
       "      <td>S24_1937</td>\n",
       "      <td>4363</td>\n",
       "      <td>4363</td>\n",
       "      <td>0</td>\n",
       "    </tr>\n",
       "    <tr>\n",
       "      <th>38</th>\n",
       "      <td>APAC</td>\n",
       "      <td>S18_4409</td>\n",
       "      <td>4164</td>\n",
       "      <td>4363</td>\n",
       "      <td>199</td>\n",
       "    </tr>\n",
       "    <tr>\n",
       "      <th>28</th>\n",
       "      <td>APAC</td>\n",
       "      <td>S18_2957</td>\n",
       "      <td>3943</td>\n",
       "      <td>4363</td>\n",
       "      <td>420</td>\n",
       "    </tr>\n",
       "    <tr>\n",
       "      <th>32</th>\n",
       "      <td>APAC</td>\n",
       "      <td>S18_3320</td>\n",
       "      <td>3817</td>\n",
       "      <td>4363</td>\n",
       "      <td>546</td>\n",
       "    </tr>\n",
       "    <tr>\n",
       "      <th>61</th>\n",
       "      <td>APAC</td>\n",
       "      <td>S24_3432</td>\n",
       "      <td>3306</td>\n",
       "      <td>4363</td>\n",
       "      <td>1057</td>\n",
       "    </tr>\n",
       "    <tr>\n",
       "      <th>...</th>\n",
       "      <td>...</td>\n",
       "      <td>...</td>\n",
       "      <td>...</td>\n",
       "      <td>...</td>\n",
       "      <td>...</td>\n",
       "    </tr>\n",
       "    <tr>\n",
       "      <th>270</th>\n",
       "      <td>Japan</td>\n",
       "      <td>S700_2610</td>\n",
       "      <td>0</td>\n",
       "      <td>4729</td>\n",
       "      <td>4729</td>\n",
       "    </tr>\n",
       "    <tr>\n",
       "      <th>272</th>\n",
       "      <td>Japan</td>\n",
       "      <td>S700_2834</td>\n",
       "      <td>0</td>\n",
       "      <td>4729</td>\n",
       "      <td>4729</td>\n",
       "    </tr>\n",
       "    <tr>\n",
       "      <th>273</th>\n",
       "      <td>Japan</td>\n",
       "      <td>S700_3167</td>\n",
       "      <td>0</td>\n",
       "      <td>4729</td>\n",
       "      <td>4729</td>\n",
       "    </tr>\n",
       "    <tr>\n",
       "      <th>274</th>\n",
       "      <td>Japan</td>\n",
       "      <td>S700_3962</td>\n",
       "      <td>0</td>\n",
       "      <td>4729</td>\n",
       "      <td>4729</td>\n",
       "    </tr>\n",
       "    <tr>\n",
       "      <th>276</th>\n",
       "      <td>Japan</td>\n",
       "      <td>S72_1253</td>\n",
       "      <td>0</td>\n",
       "      <td>4729</td>\n",
       "      <td>4729</td>\n",
       "    </tr>\n",
       "  </tbody>\n",
       "</table>\n",
       "<p>278 rows × 5 columns</p>\n",
       "</div>"
      ],
      "text/plain": [
       "    TERRITORY PRODUCTCODE  total_sales  best_sales_in_region  revenue_diff\n",
       "48       APAC    S24_1937         4363                  4363             0\n",
       "38       APAC    S18_4409         4164                  4363           199\n",
       "28       APAC    S18_2957         3943                  4363           420\n",
       "32       APAC    S18_3320         3817                  4363           546\n",
       "61       APAC    S24_3432         3306                  4363          1057\n",
       "..        ...         ...          ...                   ...           ...\n",
       "270     Japan   S700_2610            0                  4729          4729\n",
       "272     Japan   S700_2834            0                  4729          4729\n",
       "273     Japan   S700_3167            0                  4729          4729\n",
       "274     Japan   S700_3962            0                  4729          4729\n",
       "276     Japan    S72_1253            0                  4729          4729\n",
       "\n",
       "[278 rows x 5 columns]"
      ]
     },
     "metadata": {},
     "output_type": "display_data"
    },
    {
     "data": {
      "application/vnd.plotly.v1+json": {
       "config": {
        "plotlyServerURL": "https://plot.ly"
       },
       "data": [
        {
         "hovertemplate": "PRODUCTCODE=S10_1678<br>TERRITORY=%{x}<br>revenue_diff=%{text}<extra></extra>",
         "legendgroup": "S10_1678",
         "marker": {
          "color": "#636efa",
          "pattern": {
           "shape": ""
          }
         },
         "name": "S10_1678",
         "orientation": "v",
         "showlegend": true,
         "text": {
          "bdata": "AAAAAADSp0AAAAAAgIfEQA==",
          "dtype": "f8"
         },
         "textposition": "auto",
         "type": "bar",
         "x": [
          "APAC",
          "EMEA"
         ],
         "xaxis": "x",
         "y": {
          "bdata": "6QsPKQ==",
          "dtype": "i2"
         },
         "yaxis": "y"
        },
        {
         "hovertemplate": "PRODUCTCODE=S10_1949<br>TERRITORY=%{x}<br>revenue_diff=%{text}<extra></extra>",
         "legendgroup": "S10_1949",
         "marker": {
          "color": "#EF553B",
          "pattern": {
           "shape": ""
          }
         },
         "name": "S10_1949",
         "orientation": "v",
         "showlegend": true,
         "text": {
          "bdata": "AAAAAAA8qEAAAAAAgGTFQAAAAAAAebJA",
          "dtype": "f8"
         },
         "textposition": "auto",
         "type": "bar",
         "x": [
          "APAC",
          "EMEA",
          "Japan"
         ],
         "xaxis": "x",
         "y": {
          "bdata": "HgzJKnkS",
          "dtype": "i2"
         },
         "yaxis": "y"
        },
        {
         "hovertemplate": "PRODUCTCODE=S10_2016<br>TERRITORY=%{x}<br>revenue_diff=%{text}<extra></extra>",
         "legendgroup": "S10_2016",
         "marker": {
          "color": "#00cc96",
          "pattern": {
           "shape": ""
          }
         },
         "name": "S10_2016",
         "orientation": "v",
         "showlegend": true,
         "text": {
          "bdata": "AAAAAAC4lUAAAAAAgAnMQAAAAAAAebJA",
          "dtype": "f8"
         },
         "textposition": "auto",
         "type": "bar",
         "x": [
          "APAC",
          "EMEA",
          "Japan"
         ],
         "xaxis": "x",
         "y": {
          "bdata": "bgUTOHkS",
          "dtype": "i2"
         },
         "yaxis": "y"
        },
        {
         "hovertemplate": "PRODUCTCODE=S10_4698<br>TERRITORY=%{x}<br>revenue_diff=%{text}<extra></extra>",
         "legendgroup": "S10_4698",
         "marker": {
          "color": "#ab63fa",
          "pattern": {
           "shape": ""
          }
         },
         "name": "S10_4698",
         "orientation": "v",
         "showlegend": true,
         "text": {
          "bdata": "AAAAAAALsUAAAAAAAK7DQAAAAAAAwbBA",
          "dtype": "f8"
         },
         "textposition": "auto",
         "type": "bar",
         "x": [
          "APAC",
          "EMEA",
          "Japan"
         ],
         "xaxis": "x",
         "y": {
          "bdata": "CxFcJ8EQ",
          "dtype": "i2"
         },
         "yaxis": "y"
        },
        {
         "hovertemplate": "PRODUCTCODE=S10_4962<br>TERRITORY=%{x}<br>revenue_diff=%{text}<extra></extra>",
         "legendgroup": "S10_4962",
         "marker": {
          "color": "#FFA15A",
          "pattern": {
           "shape": ""
          }
         },
         "name": "S10_4962",
         "orientation": "v",
         "showlegend": true,
         "text": {
          "bdata": "AAAAAACOoEAAAAAAgPLIQAAAAAAAebJA",
          "dtype": "f8"
         },
         "textposition": "auto",
         "type": "bar",
         "x": [
          "APAC",
          "EMEA",
          "Japan"
         ],
         "xaxis": "x",
         "y": {
          "bdata": "RwjlMXkS",
          "dtype": "i2"
         },
         "yaxis": "y"
        },
        {
         "hovertemplate": "PRODUCTCODE=S12_1099<br>TERRITORY=%{x}<br>revenue_diff=%{text}<extra></extra>",
         "legendgroup": "S12_1099",
         "marker": {
          "color": "#19d3f3",
          "pattern": {
           "shape": ""
          }
         },
         "name": "S12_1099",
         "orientation": "v",
         "showlegend": true,
         "text": {
          "bdata": "AAAAAAALsUAAAAAAACu6QAAAAAAAqqxA",
          "dtype": "f8"
         },
         "textposition": "auto",
         "type": "bar",
         "x": [
          "APAC",
          "EMEA",
          "Japan"
         ],
         "xaxis": "x",
         "y": {
          "bdata": "CxErGlUO",
          "dtype": "i2"
         },
         "yaxis": "y"
        },
        {
         "hovertemplate": "PRODUCTCODE=S12_1666<br>TERRITORY=%{x}<br>revenue_diff=%{text}<extra></extra>",
         "legendgroup": "S12_1666",
         "marker": {
          "color": "#FF6692",
          "pattern": {
           "shape": ""
          }
         },
         "name": "S12_1666",
         "orientation": "v",
         "showlegend": true,
         "text": {
          "bdata": "AAAAAADqp0AAAAAAgDTKQAAAAAAA8q5A",
          "dtype": "f8"
         },
         "textposition": "auto",
         "type": "bar",
         "x": [
          "APAC",
          "EMEA",
          "Japan"
         ],
         "xaxis": "x",
         "y": {
          "bdata": "9QtpNHkP",
          "dtype": "i2"
         },
         "yaxis": "y"
        },
        {
         "hovertemplate": "PRODUCTCODE=S12_2823<br>TERRITORY=%{x}<br>revenue_diff=%{text}<extra></extra>",
         "legendgroup": "S12_2823",
         "marker": {
          "color": "#B6E880",
          "pattern": {
           "shape": ""
          }
         },
         "name": "S12_2823",
         "orientation": "v",
         "showlegend": true,
         "text": {
          "bdata": "AAAAAAALsUAAAAAAgIHEQA==",
          "dtype": "f8"
         },
         "textposition": "auto",
         "type": "bar",
         "x": [
          "APAC",
          "EMEA"
         ],
         "xaxis": "x",
         "y": {
          "bdata": "CxEDKQ==",
          "dtype": "i2"
         },
         "yaxis": "y"
        },
        {
         "hovertemplate": "PRODUCTCODE=S12_3990<br>TERRITORY=%{x}<br>revenue_diff=%{text}<extra></extra>",
         "legendgroup": "S12_3990",
         "marker": {
          "color": "#FF97FF",
          "pattern": {
           "shape": ""
          }
         },
         "name": "S12_3990",
         "orientation": "v",
         "showlegend": true,
         "text": {
          "bdata": "AAAAAAALsUAAAAAAAGGxQAAAAAAAebJA",
          "dtype": "f8"
         },
         "textposition": "auto",
         "type": "bar",
         "x": [
          "APAC",
          "EMEA",
          "Japan"
         ],
         "xaxis": "x",
         "y": {
          "bdata": "CxFhEXkS",
          "dtype": "i2"
         },
         "yaxis": "y"
        },
        {
         "hovertemplate": "PRODUCTCODE=S12_4473<br>TERRITORY=%{x}<br>revenue_diff=%{text}<extra></extra>",
         "legendgroup": "S12_4473",
         "marker": {
          "color": "#FECB52",
          "pattern": {
           "shape": ""
          }
         },
         "name": "S12_4473",
         "orientation": "v",
         "showlegend": true,
         "text": {
          "bdata": "AAAAAAAwsEAAAAAAgBHDQAAAAAAAebJA",
          "dtype": "f8"
         },
         "textposition": "auto",
         "type": "bar",
         "x": [
          "APAC",
          "EMEA",
          "Japan"
         ],
         "xaxis": "x",
         "y": {
          "bdata": "MBAjJnkS",
          "dtype": "i2"
         },
         "yaxis": "y"
        },
        {
         "hovertemplate": "PRODUCTCODE=S18_1097<br>TERRITORY=%{x}<br>revenue_diff=%{text}<extra></extra>",
         "legendgroup": "S18_1097",
         "marker": {
          "color": "#636efa",
          "pattern": {
           "shape": ""
          }
         },
         "name": "S18_1097",
         "orientation": "v",
         "showlegend": true,
         "text": {
          "bdata": "AAAAAABIpEAAAAAAAF3FQAAAAAAAgJtA",
          "dtype": "f8"
         },
         "textposition": "auto",
         "type": "bar",
         "x": [
          "APAC",
          "EMEA",
          "Japan"
         ],
         "xaxis": "x",
         "y": {
          "bdata": "JAq6KuAG",
          "dtype": "i2"
         },
         "yaxis": "y"
        },
        {
         "hovertemplate": "PRODUCTCODE=S18_1129<br>TERRITORY=%{x}<br>revenue_diff=%{text}<extra></extra>",
         "legendgroup": "S18_1129",
         "marker": {
          "color": "#EF553B",
          "pattern": {
           "shape": ""
          }
         },
         "name": "S18_1129",
         "orientation": "v",
         "showlegend": true,
         "text": {
          "bdata": "AAAAAAALsUAAAAAAgEbGQAAAAAAAebJA",
          "dtype": "f8"
         },
         "textposition": "auto",
         "type": "bar",
         "x": [
          "APAC",
          "EMEA",
          "Japan"
         ],
         "xaxis": "x",
         "y": {
          "bdata": "CxGNLHkS",
          "dtype": "i2"
         },
         "yaxis": "y"
        },
        {
         "hovertemplate": "PRODUCTCODE=S18_1342<br>TERRITORY=%{x}<br>revenue_diff=%{text}<extra></extra>",
         "legendgroup": "S18_1342",
         "marker": {
          "color": "#00cc96",
          "pattern": {
           "shape": ""
          }
         },
         "name": "S18_1342",
         "orientation": "v",
         "showlegend": true,
         "text": {
          "bdata": "AAAAAAD8pkAAAAAAALTDQA==",
          "dtype": "f8"
         },
         "textposition": "auto",
         "type": "bar",
         "x": [
          "APAC",
          "EMEA"
         ],
         "xaxis": "x",
         "y": {
          "bdata": "fgtoJw==",
          "dtype": "i2"
         },
         "yaxis": "y"
        },
        {
         "hovertemplate": "PRODUCTCODE=S18_1367<br>TERRITORY=%{x}<br>revenue_diff=%{text}<extra></extra>",
         "legendgroup": "S18_1367",
         "marker": {
          "color": "#ab63fa",
          "pattern": {
           "shape": ""
          }
         },
         "name": "S18_1367",
         "orientation": "v",
         "showlegend": true,
         "text": {
          "bdata": "AAAAAADGrkAAAAAAgAfFQA==",
          "dtype": "f8"
         },
         "textposition": "auto",
         "type": "bar",
         "x": [
          "APAC",
          "EMEA"
         ],
         "xaxis": "x",
         "y": {
          "bdata": "Yw8PKg==",
          "dtype": "i2"
         },
         "yaxis": "y"
        },
        {
         "hovertemplate": "PRODUCTCODE=S18_1589<br>TERRITORY=%{x}<br>revenue_diff=%{text}<extra></extra>",
         "legendgroup": "S18_1589",
         "marker": {
          "color": "#FFA15A",
          "pattern": {
           "shape": ""
          }
         },
         "name": "S18_1589",
         "orientation": "v",
         "showlegend": true,
         "text": {
          "bdata": "AAAAAABwokAAAAAAAJTFQA==",
          "dtype": "f8"
         },
         "textposition": "auto",
         "type": "bar",
         "x": [
          "APAC",
          "EMEA"
         ],
         "xaxis": "x",
         "y": {
          "bdata": "OAkoKw==",
          "dtype": "i2"
         },
         "yaxis": "y"
        },
        {
         "hovertemplate": "PRODUCTCODE=S18_1749<br>TERRITORY=%{x}<br>revenue_diff=%{text}<extra></extra>",
         "legendgroup": "S18_1749",
         "marker": {
          "color": "#19d3f3",
          "pattern": {
           "shape": ""
          }
         },
         "name": "S18_1749",
         "orientation": "v",
         "showlegend": true,
         "text": {
          "bdata": "AAAAAAD0n0AAAAAAgFvKQA==",
          "dtype": "f8"
         },
         "textposition": "auto",
         "type": "bar",
         "x": [
          "APAC",
          "EMEA"
         ],
         "xaxis": "x",
         "y": {
          "bdata": "/Qe3NA==",
          "dtype": "i2"
         },
         "yaxis": "y"
        },
        {
         "hovertemplate": "PRODUCTCODE=S18_1889<br>TERRITORY=%{x}<br>revenue_diff=%{text}<extra></extra>",
         "legendgroup": "S18_1889",
         "marker": {
          "color": "#FF6692",
          "pattern": {
           "shape": ""
          }
         },
         "name": "S18_1889",
         "orientation": "v",
         "showlegend": true,
         "text": {
          "bdata": "AAAAAABWq0AAAAAAgIHCQAAAAAAA9qVA",
          "dtype": "f8"
         },
         "textposition": "auto",
         "type": "bar",
         "x": [
          "APAC",
          "EMEA",
          "Japan"
         ],
         "xaxis": "x",
         "y": {
          "bdata": "qw0DJfsK",
          "dtype": "i2"
         },
         "yaxis": "y"
        },
        {
         "hovertemplate": "PRODUCTCODE=S18_1984<br>TERRITORY=%{x}<br>revenue_diff=%{text}<extra></extra>",
         "legendgroup": "S18_1984",
         "marker": {
          "color": "#B6E880",
          "pattern": {
           "shape": ""
          }
         },
         "name": "S18_1984",
         "orientation": "v",
         "showlegend": true,
         "text": {
          "bdata": "AAAAAABSqEAAAAAAAGTAQAAAAAAAebJA",
          "dtype": "f8"
         },
         "textposition": "auto",
         "type": "bar",
         "x": [
          "APAC",
          "EMEA",
          "Japan"
         ],
         "xaxis": "x",
         "y": {
          "bdata": "KQzIIHkS",
          "dtype": "i2"
         },
         "yaxis": "y"
        },
        {
         "hovertemplate": "PRODUCTCODE=S18_2238<br>TERRITORY=%{x}<br>revenue_diff=%{text}<extra></extra>",
         "legendgroup": "S18_2238",
         "marker": {
          "color": "#FF97FF",
          "pattern": {
           "shape": ""
          }
         },
         "name": "S18_2238",
         "orientation": "v",
         "showlegend": true,
         "text": {
          "bdata": "AAAAAAC+pUAAAAAAgODEQAAAAAAAebJA",
          "dtype": "f8"
         },
         "textposition": "auto",
         "type": "bar",
         "x": [
          "APAC",
          "EMEA",
          "Japan"
         ],
         "xaxis": "x",
         "y": {
          "bdata": "3wrBKXkS",
          "dtype": "i2"
         },
         "yaxis": "y"
        },
        {
         "hovertemplate": "PRODUCTCODE=S18_2248<br>TERRITORY=%{x}<br>revenue_diff=%{text}<extra></extra>",
         "legendgroup": "S18_2248",
         "marker": {
          "color": "#FECB52",
          "pattern": {
           "shape": ""
          }
         },
         "name": "S18_2248",
         "orientation": "v",
         "showlegend": true,
         "text": {
          "bdata": "AAAAAACUqkAAAAAAgH/KQA==",
          "dtype": "f8"
         },
         "textposition": "auto",
         "type": "bar",
         "x": [
          "APAC",
          "EMEA"
         ],
         "xaxis": "x",
         "y": {
          "bdata": "Sg3/NA==",
          "dtype": "i2"
         },
         "yaxis": "y"
        },
        {
         "hovertemplate": "PRODUCTCODE=S18_2319<br>TERRITORY=%{x}<br>revenue_diff=%{text}<extra></extra>",
         "legendgroup": "S18_2319",
         "marker": {
          "color": "#636efa",
          "pattern": {
           "shape": ""
          }
         },
         "name": "S18_2319",
         "orientation": "v",
         "showlegend": true,
         "text": {
          "bdata": "AAAAAACipkAAAAAAgPHCQAAAAAAASqdA",
          "dtype": "f8"
         },
         "textposition": "auto",
         "type": "bar",
         "x": [
          "APAC",
          "EMEA",
          "Japan"
         ],
         "xaxis": "x",
         "y": {
          "bdata": "UQvjJaUL",
          "dtype": "i2"
         },
         "yaxis": "y"
        },
        {
         "hovertemplate": "PRODUCTCODE=S18_2325<br>TERRITORY=%{x}<br>revenue_diff=%{text}<extra></extra>",
         "legendgroup": "S18_2325",
         "marker": {
          "color": "#EF553B",
          "pattern": {
           "shape": ""
          }
         },
         "name": "S18_2325",
         "orientation": "v",
         "showlegend": true,
         "text": {
          "bdata": "AAAAAAALsUAAAAAAAKa+QA==",
          "dtype": "f8"
         },
         "textposition": "auto",
         "type": "bar",
         "x": [
          "APAC",
          "EMEA"
         ],
         "xaxis": "x",
         "y": {
          "bdata": "CxGmHg==",
          "dtype": "i2"
         },
         "yaxis": "y"
        },
        {
         "hovertemplate": "PRODUCTCODE=S18_2432<br>TERRITORY=%{x}<br>revenue_diff=%{text}<extra></extra>",
         "legendgroup": "S18_2432",
         "marker": {
          "color": "#00cc96",
          "pattern": {
           "shape": ""
          }
         },
         "name": "S18_2432",
         "orientation": "v",
         "showlegend": true,
         "text": {
          "bdata": "AAAAAACkrEAAAAAAgAfMQAAAAAAAebJA",
          "dtype": "f8"
         },
         "textposition": "auto",
         "type": "bar",
         "x": [
          "APAC",
          "EMEA",
          "Japan"
         ],
         "xaxis": "x",
         "y": {
          "bdata": "Ug4POHkS",
          "dtype": "i2"
         },
         "yaxis": "y"
        },
        {
         "hovertemplate": "PRODUCTCODE=S18_2581<br>TERRITORY=%{x}<br>revenue_diff=%{text}<extra></extra>",
         "legendgroup": "S18_2581",
         "marker": {
          "color": "#ab63fa",
          "pattern": {
           "shape": ""
          }
         },
         "name": "S18_2581",
         "orientation": "v",
         "showlegend": true,
         "text": {
          "bdata": "AAAAAACMlkAAAAAAAH7JQAAAAAAAtKhA",
          "dtype": "f8"
         },
         "textposition": "auto",
         "type": "bar",
         "x": [
          "APAC",
          "EMEA",
          "Japan"
         ],
         "xaxis": "x",
         "y": {
          "bdata": "owX8MloM",
          "dtype": "i2"
         },
         "yaxis": "y"
        },
        {
         "hovertemplate": "PRODUCTCODE=S18_2625<br>TERRITORY=%{x}<br>revenue_diff=%{text}<extra></extra>",
         "legendgroup": "S18_2625",
         "marker": {
          "color": "#FFA15A",
          "pattern": {
           "shape": ""
          }
         },
         "name": "S18_2625",
         "orientation": "v",
         "showlegend": true,
         "text": {
          "bdata": "AAAAAAAspkAAAAAAAJTEQAAAAAAAuqxA",
          "dtype": "f8"
         },
         "textposition": "auto",
         "type": "bar",
         "x": [
          "APAC",
          "EMEA",
          "Japan"
         ],
         "xaxis": "x",
         "y": {
          "bdata": "FgsoKV0O",
          "dtype": "i2"
         },
         "yaxis": "y"
        },
        {
         "hovertemplate": "PRODUCTCODE=S18_2795<br>TERRITORY=%{x}<br>revenue_diff=%{text}<extra></extra>",
         "legendgroup": "S18_2795",
         "marker": {
          "color": "#19d3f3",
          "pattern": {
           "shape": ""
          }
         },
         "name": "S18_2795",
         "orientation": "v",
         "showlegend": true,
         "text": {
          "bdata": "AAAAAACAnkAAAAAAACnIQA==",
          "dtype": "f8"
         },
         "textposition": "auto",
         "type": "bar",
         "x": [
          "APAC",
          "EMEA"
         ],
         "xaxis": "x",
         "y": {
          "bdata": "oAdSMA==",
          "dtype": "i2"
         },
         "yaxis": "y"
        },
        {
         "hovertemplate": "PRODUCTCODE=S18_2870<br>TERRITORY=%{x}<br>revenue_diff=%{text}<extra></extra>",
         "legendgroup": "S18_2870",
         "marker": {
          "color": "#FF6692",
          "pattern": {
           "shape": ""
          }
         },
         "name": "S18_2870",
         "orientation": "v",
         "showlegend": true,
         "text": {
          "bdata": "AAAAAAALsUAAAAAAAA3FQA==",
          "dtype": "f8"
         },
         "textposition": "auto",
         "type": "bar",
         "x": [
          "APAC",
          "EMEA"
         ],
         "xaxis": "x",
         "y": {
          "bdata": "CxEaKg==",
          "dtype": "i2"
         },
         "yaxis": "y"
        },
        {
         "hovertemplate": "PRODUCTCODE=S18_2949<br>TERRITORY=%{x}<br>revenue_diff=%{text}<extra></extra>",
         "legendgroup": "S18_2949",
         "marker": {
          "color": "#B6E880",
          "pattern": {
           "shape": ""
          }
         },
         "name": "S18_2949",
         "orientation": "v",
         "showlegend": true,
         "text": {
          "bdata": "AAAAAAA8m0AAAAAAALXEQAAAAAAAebJA",
          "dtype": "f8"
         },
         "textposition": "auto",
         "type": "bar",
         "x": [
          "APAC",
          "EMEA",
          "Japan"
         ],
         "xaxis": "x",
         "y": {
          "bdata": "zwZqKXkS",
          "dtype": "i2"
         },
         "yaxis": "y"
        },
        {
         "hovertemplate": "PRODUCTCODE=S18_2957<br>TERRITORY=%{x}<br>revenue_diff=%{text}<extra></extra>",
         "legendgroup": "S18_2957",
         "marker": {
          "color": "#FF97FF",
          "pattern": {
           "shape": ""
          }
         },
         "name": "S18_2957",
         "orientation": "v",
         "showlegend": true,
         "text": {
          "bdata": "AAAAAABAekAAAAAAgMnAQAAAAAAA8bBA",
          "dtype": "f8"
         },
         "textposition": "auto",
         "type": "bar",
         "x": [
          "APAC",
          "EMEA",
          "Japan"
         ],
         "xaxis": "x",
         "y": {
          "bdata": "pAGTIfEQ",
          "dtype": "i2"
         },
         "yaxis": "y"
        },
        {
         "hovertemplate": "PRODUCTCODE=S18_3136<br>TERRITORY=%{x}<br>revenue_diff=%{text}<extra></extra>",
         "legendgroup": "S18_3136",
         "marker": {
          "color": "#FECB52",
          "pattern": {
           "shape": ""
          }
         },
         "name": "S18_3136",
         "orientation": "v",
         "showlegend": true,
         "text": {
          "bdata": "AAAAAAA+pEAAAAAAAMzBQAAAAAAAebJA",
          "dtype": "f8"
         },
         "textposition": "auto",
         "type": "bar",
         "x": [
          "APAC",
          "EMEA",
          "Japan"
         ],
         "xaxis": "x",
         "y": {
          "bdata": "HwqYI3kS",
          "dtype": "i2"
         },
         "yaxis": "y"
        },
        {
         "hovertemplate": "PRODUCTCODE=S18_3232<br>TERRITORY=%{x}<br>revenue_diff=%{text}<extra></extra>",
         "legendgroup": "S18_3232",
         "marker": {
          "color": "#636efa",
          "pattern": {
           "shape": ""
          }
         },
         "name": "S18_3232",
         "orientation": "v",
         "showlegend": true,
         "text": {
          "bdata": "AAAAAACspkAAAAAAADSVQAAAAAAANbBA",
          "dtype": "f8"
         },
         "textposition": "auto",
         "type": "bar",
         "x": [
          "APAC",
          "EMEA",
          "Japan"
         ],
         "xaxis": "x",
         "y": {
          "bdata": "VgtNBTUQ",
          "dtype": "i2"
         },
         "yaxis": "y"
        },
        {
         "hovertemplate": "PRODUCTCODE=S18_3278<br>TERRITORY=%{x}<br>revenue_diff=%{text}<extra></extra>",
         "legendgroup": "S18_3278",
         "marker": {
          "color": "#EF553B",
          "pattern": {
           "shape": ""
          }
         },
         "name": "S18_3278",
         "orientation": "v",
         "showlegend": true,
         "text": {
          "bdata": "AAAAAABxsEAAAAAAAEDFQAAAAAAA6qdA",
          "dtype": "f8"
         },
         "textposition": "auto",
         "type": "bar",
         "x": [
          "APAC",
          "EMEA",
          "Japan"
         ],
         "xaxis": "x",
         "y": {
          "bdata": "cRCAKvUL",
          "dtype": "i2"
         },
         "yaxis": "y"
        },
        {
         "hovertemplate": "PRODUCTCODE=S18_3320<br>TERRITORY=%{x}<br>revenue_diff=%{text}<extra></extra>",
         "legendgroup": "S18_3320",
         "marker": {
          "color": "#00cc96",
          "pattern": {
           "shape": ""
          }
         },
         "name": "S18_3320",
         "orientation": "v",
         "showlegend": true,
         "text": {
          "bdata": "AAAAAAAQgUAAAAAAgODFQA==",
          "dtype": "f8"
         },
         "textposition": "auto",
         "type": "bar",
         "x": [
          "APAC",
          "EMEA"
         ],
         "xaxis": "x",
         "y": {
          "bdata": "IgLBKw==",
          "dtype": "i2"
         },
         "yaxis": "y"
        },
        {
         "hovertemplate": "PRODUCTCODE=S18_3482<br>TERRITORY=%{x}<br>revenue_diff=%{text}<extra></extra>",
         "legendgroup": "S18_3482",
         "marker": {
          "color": "#ab63fa",
          "pattern": {
           "shape": ""
          }
         },
         "name": "S18_3482",
         "orientation": "v",
         "showlegend": true,
         "text": {
          "bdata": "AAAAAAALsUAAAAAAAHjFQAAAAAAAGbFA",
          "dtype": "f8"
         },
         "textposition": "auto",
         "type": "bar",
         "x": [
          "APAC",
          "EMEA",
          "Japan"
         ],
         "xaxis": "x",
         "y": {
          "bdata": "CxHwKhkR",
          "dtype": "i2"
         },
         "yaxis": "y"
        },
        {
         "hovertemplate": "PRODUCTCODE=S18_3685<br>TERRITORY=%{x}<br>revenue_diff=%{text}<extra></extra>",
         "legendgroup": "S18_3685",
         "marker": {
          "color": "#FFA15A",
          "pattern": {
           "shape": ""
          }
         },
         "name": "S18_3685",
         "orientation": "v",
         "showlegend": true,
         "text": {
          "bdata": "AAAAAAALsUAAAAAAAGq6QAAAAAAANLFA",
          "dtype": "f8"
         },
         "textposition": "auto",
         "type": "bar",
         "x": [
          "APAC",
          "EMEA",
          "Japan"
         ],
         "xaxis": "x",
         "y": {
          "bdata": "CxFqGjQR",
          "dtype": "i2"
         },
         "yaxis": "y"
        },
        {
         "hovertemplate": "PRODUCTCODE=S18_3782<br>TERRITORY=%{x}<br>revenue_diff=%{text}<extra></extra>",
         "legendgroup": "S18_3782",
         "marker": {
          "color": "#19d3f3",
          "pattern": {
           "shape": ""
          }
         },
         "name": "S18_3782",
         "orientation": "v",
         "showlegend": true,
         "text": {
          "bdata": "AAAAAAA4pEAAAAAAAOm/QAAAAAAAebJA",
          "dtype": "f8"
         },
         "textposition": "auto",
         "type": "bar",
         "x": [
          "APAC",
          "EMEA",
          "Japan"
         ],
         "xaxis": "x",
         "y": {
          "bdata": "HArpH3kS",
          "dtype": "i2"
         },
         "yaxis": "y"
        },
        {
         "hovertemplate": "PRODUCTCODE=S18_3856<br>TERRITORY=%{x}<br>revenue_diff=%{text}<extra></extra>",
         "legendgroup": "S18_3856",
         "marker": {
          "color": "#FF6692",
          "pattern": {
           "shape": ""
          }
         },
         "name": "S18_3856",
         "orientation": "v",
         "showlegend": true,
         "text": {
          "bdata": "AAAAAAALsUAAAAAAAMPAQA==",
          "dtype": "f8"
         },
         "textposition": "auto",
         "type": "bar",
         "x": [
          "APAC",
          "EMEA"
         ],
         "xaxis": "x",
         "y": {
          "bdata": "CxGGIQ==",
          "dtype": "i2"
         },
         "yaxis": "y"
        },
        {
         "hovertemplate": "PRODUCTCODE=S18_4027<br>TERRITORY=%{x}<br>revenue_diff=%{text}<extra></extra>",
         "legendgroup": "S18_4027",
         "marker": {
          "color": "#B6E880",
          "pattern": {
           "shape": ""
          }
         },
         "name": "S18_4027",
         "orientation": "v",
         "showlegend": true,
         "text": {
          "bdata": "AAAAAABUo0AAAAAAgE3JQAAAAAAAAAAA",
          "dtype": "f8"
         },
         "textposition": "auto",
         "type": "bar",
         "x": [
          "APAC",
          "EMEA",
          "Japan"
         ],
         "xaxis": "x",
         "y": {
          "bdata": "qgmbMgAA",
          "dtype": "i2"
         },
         "yaxis": "y"
        },
        {
         "hovertemplate": "PRODUCTCODE=S18_4409<br>TERRITORY=%{x}<br>revenue_diff=%{text}<extra></extra>",
         "legendgroup": "S18_4409",
         "marker": {
          "color": "#FF97FF",
          "pattern": {
           "shape": ""
          }
         },
         "name": "S18_4409",
         "orientation": "v",
         "showlegend": true,
         "text": {
          "bdata": "AAAAAADgaEAAAAAAgGvIQA==",
          "dtype": "f8"
         },
         "textposition": "auto",
         "type": "bar",
         "x": [
          "APAC",
          "EMEA"
         ],
         "xaxis": "x",
         "y": {
          "bdata": "xwDXMA==",
          "dtype": "i2"
         },
         "yaxis": "y"
        },
        {
         "hovertemplate": "PRODUCTCODE=S18_4600<br>TERRITORY=%{x}<br>revenue_diff=%{text}<extra></extra>",
         "legendgroup": "S18_4600",
         "marker": {
          "color": "#FECB52",
          "pattern": {
           "shape": ""
          }
         },
         "name": "S18_4600",
         "orientation": "v",
         "showlegend": true,
         "text": {
          "bdata": "AAAAAADYpUAAAAAAAB7FQAAAAAAApKpA",
          "dtype": "f8"
         },
         "textposition": "auto",
         "type": "bar",
         "x": [
          "APAC",
          "EMEA",
          "Japan"
         ],
         "xaxis": "x",
         "y": {
          "bdata": "7Ao8KlIN",
          "dtype": "i2"
         },
         "yaxis": "y"
        },
        {
         "hovertemplate": "PRODUCTCODE=S18_4668<br>TERRITORY=%{x}<br>revenue_diff=%{text}<extra></extra>",
         "legendgroup": "S18_4668",
         "marker": {
          "color": "#636efa",
          "pattern": {
           "shape": ""
          }
         },
         "name": "S18_4668",
         "orientation": "v",
         "showlegend": true,
         "text": {
          "bdata": "AAAAAAAkpUAAAAAAAGjIQAAAAAAA1q9A",
          "dtype": "f8"
         },
         "textposition": "auto",
         "type": "bar",
         "x": [
          "APAC",
          "EMEA",
          "Japan"
         ],
         "xaxis": "x",
         "y": {
          "bdata": "kgrQMOsP",
          "dtype": "i2"
         },
         "yaxis": "y"
        },
        {
         "hovertemplate": "PRODUCTCODE=S18_4721<br>TERRITORY=%{x}<br>revenue_diff=%{text}<extra></extra>",
         "legendgroup": "S18_4721",
         "marker": {
          "color": "#EF553B",
          "pattern": {
           "shape": ""
          }
         },
         "name": "S18_4721",
         "orientation": "v",
         "showlegend": true,
         "text": {
          "bdata": "AAAAAAALsUAAAAAAAETFQAAAAAAAvK9A",
          "dtype": "f8"
         },
         "textposition": "auto",
         "type": "bar",
         "x": [
          "APAC",
          "EMEA",
          "Japan"
         ],
         "xaxis": "x",
         "y": {
          "bdata": "CxGIKt4P",
          "dtype": "i2"
         },
         "yaxis": "y"
        },
        {
         "hovertemplate": "PRODUCTCODE=S18_4933<br>TERRITORY=%{x}<br>revenue_diff=%{text}<extra></extra>",
         "legendgroup": "S18_4933",
         "marker": {
          "color": "#00cc96",
          "pattern": {
           "shape": ""
          }
         },
         "name": "S18_4933",
         "orientation": "v",
         "showlegend": true,
         "text": {
          "bdata": "AAAAAADkpEAAAAAAAIvCQA==",
          "dtype": "f8"
         },
         "textposition": "auto",
         "type": "bar",
         "x": [
          "APAC",
          "EMEA"
         ],
         "xaxis": "x",
         "y": {
          "bdata": "cgoWJQ==",
          "dtype": "i2"
         },
         "yaxis": "y"
        },
        {
         "hovertemplate": "PRODUCTCODE=S24_1046<br>TERRITORY=%{x}<br>revenue_diff=%{text}<extra></extra>",
         "legendgroup": "S24_1046",
         "marker": {
          "color": "#ab63fa",
          "pattern": {
           "shape": ""
          }
         },
         "name": "S24_1046",
         "orientation": "v",
         "showlegend": true,
         "text": {
          "bdata": "AAAAAAAqqEAAAAAAAP/GQA==",
          "dtype": "f8"
         },
         "textposition": "auto",
         "type": "bar",
         "x": [
          "APAC",
          "EMEA"
         ],
         "xaxis": "x",
         "y": {
          "bdata": "FQz+LQ==",
          "dtype": "i2"
         },
         "yaxis": "y"
        },
        {
         "hovertemplate": "PRODUCTCODE=S24_1444<br>TERRITORY=%{x}<br>revenue_diff=%{text}<extra></extra>",
         "legendgroup": "S24_1444",
         "marker": {
          "color": "#FFA15A",
          "pattern": {
           "shape": ""
          }
         },
         "name": "S24_1444",
         "orientation": "v",
         "showlegend": true,
         "text": {
          "bdata": "AAAAAAAuo0AAAAAAACTBQAAAAAAA2qVA",
          "dtype": "f8"
         },
         "textposition": "auto",
         "type": "bar",
         "x": [
          "APAC",
          "EMEA",
          "Japan"
         ],
         "xaxis": "x",
         "y": {
          "bdata": "lwlIIu0K",
          "dtype": "i2"
         },
         "yaxis": "y"
        },
        {
         "hovertemplate": "PRODUCTCODE=S24_1578<br>TERRITORY=%{x}<br>revenue_diff=%{text}<extra></extra>",
         "legendgroup": "S24_1578",
         "marker": {
          "color": "#19d3f3",
          "pattern": {
           "shape": ""
          }
         },
         "name": "S24_1578",
         "orientation": "v",
         "showlegend": true,
         "text": {
          "bdata": "AAAAAAALsUAAAAAAgFbFQAAAAAAAebJA",
          "dtype": "f8"
         },
         "textposition": "auto",
         "type": "bar",
         "x": [
          "APAC",
          "EMEA",
          "Japan"
         ],
         "xaxis": "x",
         "y": {
          "bdata": "CxGtKnkS",
          "dtype": "i2"
         },
         "yaxis": "y"
        },
        {
         "hovertemplate": "PRODUCTCODE=S24_1628<br>TERRITORY=%{x}<br>revenue_diff=%{text}<extra></extra>",
         "legendgroup": "S24_1628",
         "marker": {
          "color": "#FF6692",
          "pattern": {
           "shape": ""
          }
         },
         "name": "S24_1628",
         "orientation": "v",
         "showlegend": true,
         "text": {
          "bdata": "AAAAAAAEnUAAAAAAAPPJQA==",
          "dtype": "f8"
         },
         "textposition": "auto",
         "type": "bar",
         "x": [
          "APAC",
          "EMEA"
         ],
         "xaxis": "x",
         "y": {
          "bdata": "QQfmMw==",
          "dtype": "i2"
         },
         "yaxis": "y"
        },
        {
         "hovertemplate": "PRODUCTCODE=S24_1785<br>TERRITORY=%{x}<br>revenue_diff=%{text}<extra></extra>",
         "legendgroup": "S24_1785",
         "marker": {
          "color": "#B6E880",
          "pattern": {
           "shape": ""
          }
         },
         "name": "S24_1785",
         "orientation": "v",
         "showlegend": true,
         "text": {
          "bdata": "AAAAAAAwoUAAAAAAgI3BQAAAAAAAebJA",
          "dtype": "f8"
         },
         "textposition": "auto",
         "type": "bar",
         "x": [
          "APAC",
          "EMEA",
          "Japan"
         ],
         "xaxis": "x",
         "y": {
          "bdata": "mAgbI3kS",
          "dtype": "i2"
         },
         "yaxis": "y"
        },
        {
         "hovertemplate": "PRODUCTCODE=S24_1937<br>TERRITORY=%{x}<br>revenue_diff=%{text}<extra></extra>",
         "legendgroup": "S24_1937",
         "marker": {
          "color": "#FF97FF",
          "pattern": {
           "shape": ""
          }
         },
         "name": "S24_1937",
         "orientation": "v",
         "showlegend": true,
         "text": {
          "bdata": "AAAAAAAAAAAAAAAAAHXEQA==",
          "dtype": "f8"
         },
         "textposition": "auto",
         "type": "bar",
         "x": [
          "APAC",
          "EMEA"
         ],
         "xaxis": "x",
         "y": {
          "bdata": "AADqKA==",
          "dtype": "i2"
         },
         "yaxis": "y"
        },
        {
         "hovertemplate": "PRODUCTCODE=S24_2000<br>TERRITORY=%{x}<br>revenue_diff=%{text}<extra></extra>",
         "legendgroup": "S24_2000",
         "marker": {
          "color": "#FECB52",
          "pattern": {
           "shape": ""
          }
         },
         "name": "S24_2000",
         "orientation": "v",
         "showlegend": true,
         "text": {
          "bdata": "AAAAAADOqUAAAAAAgGzFQAAAAAAAPqdA",
          "dtype": "f8"
         },
         "textposition": "auto",
         "type": "bar",
         "x": [
          "APAC",
          "EMEA",
          "Japan"
         ],
         "xaxis": "x",
         "y": {
          "bdata": "5wzZKp8L",
          "dtype": "i2"
         },
         "yaxis": "y"
        },
        {
         "hovertemplate": "PRODUCTCODE=S24_2022<br>TERRITORY=%{x}<br>revenue_diff=%{text}<extra></extra>",
         "legendgroup": "S24_2022",
         "marker": {
          "color": "#636efa",
          "pattern": {
           "shape": ""
          }
         },
         "name": "S24_2022",
         "orientation": "v",
         "showlegend": true,
         "text": {
          "bdata": "AAAAAAAApEAAAAAAAM7CQA==",
          "dtype": "f8"
         },
         "textposition": "auto",
         "type": "bar",
         "x": [
          "APAC",
          "EMEA"
         ],
         "xaxis": "x",
         "y": {
          "bdata": "AAqcJQ==",
          "dtype": "i2"
         },
         "yaxis": "y"
        },
        {
         "hovertemplate": "PRODUCTCODE=S24_2300<br>TERRITORY=%{x}<br>revenue_diff=%{text}<extra></extra>",
         "legendgroup": "S24_2300",
         "marker": {
          "color": "#EF553B",
          "pattern": {
           "shape": ""
          }
         },
         "name": "S24_2300",
         "orientation": "v",
         "showlegend": true,
         "text": {
          "bdata": "AAAAAACAqkAAAAAAAH60QAAAAAAAdrBA",
          "dtype": "f8"
         },
         "textposition": "auto",
         "type": "bar",
         "x": [
          "APAC",
          "EMEA",
          "Japan"
         ],
         "xaxis": "x",
         "y": {
          "bdata": "QA1+FHYQ",
          "dtype": "i2"
         },
         "yaxis": "y"
        },
        {
         "hovertemplate": "PRODUCTCODE=S24_2360<br>TERRITORY=%{x}<br>revenue_diff=%{text}<extra></extra>",
         "legendgroup": "S24_2360",
         "marker": {
          "color": "#00cc96",
          "pattern": {
           "shape": ""
          }
         },
         "name": "S24_2360",
         "orientation": "v",
         "showlegend": true,
         "text": {
          "bdata": "AAAAAAALsUAAAAAAAIHIQAAAAAAAebJA",
          "dtype": "f8"
         },
         "textposition": "auto",
         "type": "bar",
         "x": [
          "APAC",
          "EMEA",
          "Japan"
         ],
         "xaxis": "x",
         "y": {
          "bdata": "CxECMXkS",
          "dtype": "i2"
         },
         "yaxis": "y"
        },
        {
         "hovertemplate": "PRODUCTCODE=S24_2766<br>TERRITORY=%{x}<br>revenue_diff=%{text}<extra></extra>",
         "legendgroup": "S24_2766",
         "marker": {
          "color": "#ab63fa",
          "pattern": {
           "shape": ""
          }
         },
         "name": "S24_2766",
         "orientation": "v",
         "showlegend": true,
         "text": {
          "bdata": "AAAAAACAkkAAAAAAgGnDQA==",
          "dtype": "f8"
         },
         "textposition": "auto",
         "type": "bar",
         "x": [
          "APAC",
          "EMEA"
         ],
         "xaxis": "x",
         "y": {
          "bdata": "oATTJg==",
          "dtype": "i2"
         },
         "yaxis": "y"
        },
        {
         "hovertemplate": "PRODUCTCODE=S24_2840<br>TERRITORY=%{x}<br>revenue_diff=%{text}<extra></extra>",
         "legendgroup": "S24_2840",
         "marker": {
          "color": "#FFA15A",
          "pattern": {
           "shape": ""
          }
         },
         "name": "S24_2840",
         "orientation": "v",
         "showlegend": true,
         "text": {
          "bdata": "AAAAAACso0AAAAAAAGLLQAAAAAAAebJA",
          "dtype": "f8"
         },
         "textposition": "auto",
         "type": "bar",
         "x": [
          "APAC",
          "EMEA",
          "Japan"
         ],
         "xaxis": "x",
         "y": {
          "bdata": "1gnENnkS",
          "dtype": "i2"
         },
         "yaxis": "y"
        },
        {
         "hovertemplate": "PRODUCTCODE=S24_2841<br>TERRITORY=%{x}<br>revenue_diff=%{text}<extra></extra>",
         "legendgroup": "S24_2841",
         "marker": {
          "color": "#19d3f3",
          "pattern": {
           "shape": ""
          }
         },
         "name": "S24_2841",
         "orientation": "v",
         "showlegend": true,
         "text": {
          "bdata": "AAAAAAALsUAAAAAAAHO+QAAAAAAAyKpA",
          "dtype": "f8"
         },
         "textposition": "auto",
         "type": "bar",
         "x": [
          "APAC",
          "EMEA",
          "Japan"
         ],
         "xaxis": "x",
         "y": {
          "bdata": "CxFzHmQN",
          "dtype": "i2"
         },
         "yaxis": "y"
        },
        {
         "hovertemplate": "PRODUCTCODE=S24_2887<br>TERRITORY=%{x}<br>revenue_diff=%{text}<extra></extra>",
         "legendgroup": "S24_2887",
         "marker": {
          "color": "#FF6692",
          "pattern": {
           "shape": ""
          }
         },
         "name": "S24_2887",
         "orientation": "v",
         "showlegend": true,
         "text": {
          "bdata": "AAAAAACcnEAAAAAAAK28QA==",
          "dtype": "f8"
         },
         "textposition": "auto",
         "type": "bar",
         "x": [
          "APAC",
          "EMEA"
         ],
         "xaxis": "x",
         "y": {
          "bdata": "JwetHA==",
          "dtype": "i2"
         },
         "yaxis": "y"
        },
        {
         "hovertemplate": "PRODUCTCODE=S24_2972<br>TERRITORY=%{x}<br>revenue_diff=%{text}<extra></extra>",
         "legendgroup": "S24_2972",
         "marker": {
          "color": "#B6E880",
          "pattern": {
           "shape": ""
          }
         },
         "name": "S24_2972",
         "orientation": "v",
         "showlegend": true,
         "text": {
          "bdata": "AAAAAACurkAAAAAAAPvFQA==",
          "dtype": "f8"
         },
         "textposition": "auto",
         "type": "bar",
         "x": [
          "APAC",
          "EMEA"
         ],
         "xaxis": "x",
         "y": {
          "bdata": "Vw/2Kw==",
          "dtype": "i2"
         },
         "yaxis": "y"
        },
        {
         "hovertemplate": "PRODUCTCODE=S24_3191<br>TERRITORY=%{x}<br>revenue_diff=%{text}<extra></extra>",
         "legendgroup": "S24_3191",
         "marker": {
          "color": "#FF97FF",
          "pattern": {
           "shape": ""
          }
         },
         "name": "S24_3191",
         "orientation": "v",
         "showlegend": true,
         "text": {
          "bdata": "AAAAAADwokAAAAAAgAvIQA==",
          "dtype": "f8"
         },
         "textposition": "auto",
         "type": "bar",
         "x": [
          "APAC",
          "EMEA"
         ],
         "xaxis": "x",
         "y": {
          "bdata": "eAkXMA==",
          "dtype": "i2"
         },
         "yaxis": "y"
        },
        {
         "hovertemplate": "PRODUCTCODE=S24_3371<br>TERRITORY=%{x}<br>revenue_diff=%{text}<extra></extra>",
         "legendgroup": "S24_3371",
         "marker": {
          "color": "#FECB52",
          "pattern": {
           "shape": ""
          }
         },
         "name": "S24_3371",
         "orientation": "v",
         "showlegend": true,
         "text": {
          "bdata": "AAAAAAALsUAAAAAAAA2/QAAAAAAAebJA",
          "dtype": "f8"
         },
         "textposition": "auto",
         "type": "bar",
         "x": [
          "APAC",
          "EMEA",
          "Japan"
         ],
         "xaxis": "x",
         "y": {
          "bdata": "CxENH3kS",
          "dtype": "i2"
         },
         "yaxis": "y"
        },
        {
         "hovertemplate": "PRODUCTCODE=S24_3420<br>TERRITORY=%{x}<br>revenue_diff=%{text}<extra></extra>",
         "legendgroup": "S24_3420",
         "marker": {
          "color": "#636efa",
          "pattern": {
           "shape": ""
          }
         },
         "name": "S24_3420",
         "orientation": "v",
         "showlegend": true,
         "text": {
          "bdata": "AAAAAABskUAAAAAAgCLFQAAAAAAA0bBA",
          "dtype": "f8"
         },
         "textposition": "auto",
         "type": "bar",
         "x": [
          "APAC",
          "EMEA",
          "Japan"
         ],
         "xaxis": "x",
         "y": {
          "bdata": "WwRFKtEQ",
          "dtype": "i2"
         },
         "yaxis": "y"
        },
        {
         "hovertemplate": "PRODUCTCODE=S24_3432<br>TERRITORY=%{x}<br>revenue_diff=%{text}<extra></extra>",
         "legendgroup": "S24_3432",
         "marker": {
          "color": "#EF553B",
          "pattern": {
           "shape": ""
          }
         },
         "name": "S24_3432",
         "orientation": "v",
         "showlegend": true,
         "text": {
          "bdata": "AAAAAACEkEAAAAAAAHnGQA==",
          "dtype": "f8"
         },
         "textposition": "auto",
         "type": "bar",
         "x": [
          "APAC",
          "EMEA"
         ],
         "xaxis": "x",
         "y": {
          "bdata": "IQTyLA==",
          "dtype": "i2"
         },
         "yaxis": "y"
        },
        {
         "hovertemplate": "PRODUCTCODE=S24_3856<br>TERRITORY=%{x}<br>revenue_diff=%{text}<extra></extra>",
         "legendgroup": "S24_3856",
         "marker": {
          "color": "#00cc96",
          "pattern": {
           "shape": ""
          }
         },
         "name": "S24_3856",
         "orientation": "v",
         "showlegend": true,
         "text": {
          "bdata": "AAAAAAAPsEAAAAAAAIPAQAAAAAAAebJA",
          "dtype": "f8"
         },
         "textposition": "auto",
         "type": "bar",
         "x": [
          "APAC",
          "EMEA",
          "Japan"
         ],
         "xaxis": "x",
         "y": {
          "bdata": "DxAGIXkS",
          "dtype": "i2"
         },
         "yaxis": "y"
        },
        {
         "hovertemplate": "PRODUCTCODE=S24_3949<br>TERRITORY=%{x}<br>revenue_diff=%{text}<extra></extra>",
         "legendgroup": "S24_3949",
         "marker": {
          "color": "#ab63fa",
          "pattern": {
           "shape": ""
          }
         },
         "name": "S24_3949",
         "orientation": "v",
         "showlegend": true,
         "text": {
          "bdata": "AAAAAAALsUAAAAAAAAS8QAAAAAAAYLBA",
          "dtype": "f8"
         },
         "textposition": "auto",
         "type": "bar",
         "x": [
          "APAC",
          "EMEA",
          "Japan"
         ],
         "xaxis": "x",
         "y": {
          "bdata": "CxEEHGAQ",
          "dtype": "i2"
         },
         "yaxis": "y"
        },
        {
         "hovertemplate": "PRODUCTCODE=S24_3969<br>TERRITORY=%{x}<br>revenue_diff=%{text}<extra></extra>",
         "legendgroup": "S24_3969",
         "marker": {
          "color": "#FFA15A",
          "pattern": {
           "shape": ""
          }
         },
         "name": "S24_3969",
         "orientation": "v",
         "showlegend": true,
         "text": {
          "bdata": "AAAAAAD8pUAAAAAAgAHIQAAAAAAAkbFA",
          "dtype": "f8"
         },
         "textposition": "auto",
         "type": "bar",
         "x": [
          "APAC",
          "EMEA",
          "Japan"
         ],
         "xaxis": "x",
         "y": {
          "bdata": "/goDMJER",
          "dtype": "i2"
         },
         "yaxis": "y"
        },
        {
         "hovertemplate": "PRODUCTCODE=S24_4048<br>TERRITORY=%{x}<br>revenue_diff=%{text}<extra></extra>",
         "legendgroup": "S24_4048",
         "marker": {
          "color": "#19d3f3",
          "pattern": {
           "shape": ""
          }
         },
         "name": "S24_4048",
         "orientation": "v",
         "showlegend": true,
         "text": {
          "bdata": "AAAAAABssEAAAAAAAHy2QAAAAAAAebJA",
          "dtype": "f8"
         },
         "textposition": "auto",
         "type": "bar",
         "x": [
          "APAC",
          "EMEA",
          "Japan"
         ],
         "xaxis": "x",
         "y": {
          "bdata": "bBB8FnkS",
          "dtype": "i2"
         },
         "yaxis": "y"
        },
        {
         "hovertemplate": "PRODUCTCODE=S24_4258<br>TERRITORY=%{x}<br>revenue_diff=%{text}<extra></extra>",
         "legendgroup": "S24_4258",
         "marker": {
          "color": "#FF6692",
          "pattern": {
           "shape": ""
          }
         },
         "name": "S24_4258",
         "orientation": "v",
         "showlegend": true,
         "text": {
          "bdata": "AAAAAAALsUAAAAAAANvFQA==",
          "dtype": "f8"
         },
         "textposition": "auto",
         "type": "bar",
         "x": [
          "APAC",
          "EMEA"
         ],
         "xaxis": "x",
         "y": {
          "bdata": "CxG2Kw==",
          "dtype": "i2"
         },
         "yaxis": "y"
        },
        {
         "hovertemplate": "PRODUCTCODE=S24_4278<br>TERRITORY=%{x}<br>revenue_diff=%{text}<extra></extra>",
         "legendgroup": "S24_4278",
         "marker": {
          "color": "#B6E880",
          "pattern": {
           "shape": ""
          }
         },
         "name": "S24_4278",
         "orientation": "v",
         "showlegend": true,
         "text": {
          "bdata": "AAAAAAAkk0AAAAAAAMHEQAAAAAAAebJA",
          "dtype": "f8"
         },
         "textposition": "auto",
         "type": "bar",
         "x": [
          "APAC",
          "EMEA",
          "Japan"
         ],
         "xaxis": "x",
         "y": {
          "bdata": "yQSCKXkS",
          "dtype": "i2"
         },
         "yaxis": "y"
        },
        {
         "hovertemplate": "PRODUCTCODE=S24_4620<br>TERRITORY=%{x}<br>revenue_diff=%{text}<extra></extra>",
         "legendgroup": "S24_4620",
         "marker": {
          "color": "#FF97FF",
          "pattern": {
           "shape": ""
          }
         },
         "name": "S24_4620",
         "orientation": "v",
         "showlegend": true,
         "text": {
          "bdata": "AAAAAABsqUAAAAAAAKHCQAAAAAAAebJA",
          "dtype": "f8"
         },
         "textposition": "auto",
         "type": "bar",
         "x": [
          "APAC",
          "EMEA",
          "Japan"
         ],
         "xaxis": "x",
         "y": {
          "bdata": "tgxCJXkS",
          "dtype": "i2"
         },
         "yaxis": "y"
        },
        {
         "hovertemplate": "PRODUCTCODE=S32_1268<br>TERRITORY=%{x}<br>revenue_diff=%{text}<extra></extra>",
         "legendgroup": "S32_1268",
         "marker": {
          "color": "#FECB52",
          "pattern": {
           "shape": ""
          }
         },
         "name": "S32_1268",
         "orientation": "v",
         "showlegend": true,
         "text": {
          "bdata": "AAAAAABwp0AAAAAAgNTEQA==",
          "dtype": "f8"
         },
         "textposition": "auto",
         "type": "bar",
         "x": [
          "APAC",
          "EMEA"
         ],
         "xaxis": "x",
         "y": {
          "bdata": "uAupKQ==",
          "dtype": "i2"
         },
         "yaxis": "y"
        },
        {
         "hovertemplate": "PRODUCTCODE=S32_1374<br>TERRITORY=%{x}<br>revenue_diff=%{text}<extra></extra>",
         "legendgroup": "S32_1374",
         "marker": {
          "color": "#636efa",
          "pattern": {
           "shape": ""
          }
         },
         "name": "S32_1374",
         "orientation": "v",
         "showlegend": true,
         "text": {
          "bdata": "AAAAAAALsUAAAAAAgCvGQAAAAAAAebJA",
          "dtype": "f8"
         },
         "textposition": "auto",
         "type": "bar",
         "x": [
          "APAC",
          "EMEA",
          "Japan"
         ],
         "xaxis": "x",
         "y": {
          "bdata": "CxFXLHkS",
          "dtype": "i2"
         },
         "yaxis": "y"
        },
        {
         "hovertemplate": "PRODUCTCODE=S32_2206<br>TERRITORY=%{x}<br>revenue_diff=%{text}<extra></extra>",
         "legendgroup": "S32_2206",
         "marker": {
          "color": "#EF553B",
          "pattern": {
           "shape": ""
          }
         },
         "name": "S32_2206",
         "orientation": "v",
         "showlegend": true,
         "text": {
          "bdata": "AAAAAABKo0AAAAAAgHDCQAAAAAAALbBA",
          "dtype": "f8"
         },
         "textposition": "auto",
         "type": "bar",
         "x": [
          "APAC",
          "EMEA",
          "Japan"
         ],
         "xaxis": "x",
         "y": {
          "bdata": "pQnhJC0Q",
          "dtype": "i2"
         },
         "yaxis": "y"
        },
        {
         "hovertemplate": "PRODUCTCODE=S32_2509<br>TERRITORY=%{x}<br>revenue_diff=%{text}<extra></extra>",
         "legendgroup": "S32_2509",
         "marker": {
          "color": "#00cc96",
          "pattern": {
           "shape": ""
          }
         },
         "name": "S32_2509",
         "orientation": "v",
         "showlegend": true,
         "text": {
          "bdata": "AAAAAAALsUAAAAAAgLzFQAAAAAAAebJA",
          "dtype": "f8"
         },
         "textposition": "auto",
         "type": "bar",
         "x": [
          "APAC",
          "EMEA",
          "Japan"
         ],
         "xaxis": "x",
         "y": {
          "bdata": "CxF5K3kS",
          "dtype": "i2"
         },
         "yaxis": "y"
        },
        {
         "hovertemplate": "PRODUCTCODE=S32_3207<br>TERRITORY=%{x}<br>revenue_diff=%{text}<extra></extra>",
         "legendgroup": "S32_3207",
         "marker": {
          "color": "#ab63fa",
          "pattern": {
           "shape": ""
          }
         },
         "name": "S32_3207",
         "orientation": "v",
         "showlegend": true,
         "text": {
          "bdata": "AAAAAAALsUAAAAAAAPK/QAAAAAAAebJA",
          "dtype": "f8"
         },
         "textposition": "auto",
         "type": "bar",
         "x": [
          "APAC",
          "EMEA",
          "Japan"
         ],
         "xaxis": "x",
         "y": {
          "bdata": "CxHyH3kS",
          "dtype": "i2"
         },
         "yaxis": "y"
        },
        {
         "hovertemplate": "PRODUCTCODE=S32_3522<br>TERRITORY=%{x}<br>revenue_diff=%{text}<extra></extra>",
         "legendgroup": "S32_3522",
         "marker": {
          "color": "#FFA15A",
          "pattern": {
           "shape": ""
          }
         },
         "name": "S32_3522",
         "orientation": "v",
         "showlegend": true,
         "text": {
          "bdata": "AAAAAAALsUAAAAAAgHLJQAAAAAAAwKRA",
          "dtype": "f8"
         },
         "textposition": "auto",
         "type": "bar",
         "x": [
          "APAC",
          "EMEA",
          "Japan"
         ],
         "xaxis": "x",
         "y": {
          "bdata": "CxHlMmAK",
          "dtype": "i2"
         },
         "yaxis": "y"
        },
        {
         "hovertemplate": "PRODUCTCODE=S32_4289<br>TERRITORY=%{x}<br>revenue_diff=%{text}<extra></extra>",
         "legendgroup": "S32_4289",
         "marker": {
          "color": "#19d3f3",
          "pattern": {
           "shape": ""
          }
         },
         "name": "S32_4289",
         "orientation": "v",
         "showlegend": true,
         "text": {
          "bdata": "AAAAAAB6okAAAAAAAIS8QAAAAAAAebJA",
          "dtype": "f8"
         },
         "textposition": "auto",
         "type": "bar",
         "x": [
          "APAC",
          "EMEA",
          "Japan"
         ],
         "xaxis": "x",
         "y": {
          "bdata": "PQmEHHkS",
          "dtype": "i2"
         },
         "yaxis": "y"
        },
        {
         "hovertemplate": "PRODUCTCODE=S32_4485<br>TERRITORY=%{x}<br>revenue_diff=%{text}<extra></extra>",
         "legendgroup": "S32_4485",
         "marker": {
          "color": "#FF6692",
          "pattern": {
           "shape": ""
          }
         },
         "name": "S32_4485",
         "orientation": "v",
         "showlegend": true,
         "text": {
          "bdata": "AAAAAACirUAAAAAAgBbCQAAAAAAAebJA",
          "dtype": "f8"
         },
         "textposition": "auto",
         "type": "bar",
         "x": [
          "APAC",
          "EMEA",
          "Japan"
         ],
         "xaxis": "x",
         "y": {
          "bdata": "0Q4tJHkS",
          "dtype": "i2"
         },
         "yaxis": "y"
        },
        {
         "hovertemplate": "PRODUCTCODE=S50_1341<br>TERRITORY=%{x}<br>revenue_diff=%{text}<extra></extra>",
         "legendgroup": "S50_1341",
         "marker": {
          "color": "#B6E880",
          "pattern": {
           "shape": ""
          }
         },
         "name": "S50_1341",
         "orientation": "v",
         "showlegend": true,
         "text": {
          "bdata": "AAAAAAAiokAAAAAAADTEQAAAAAAAnqVA",
          "dtype": "f8"
         },
         "textposition": "auto",
         "type": "bar",
         "x": [
          "APAC",
          "EMEA",
          "Japan"
         ],
         "xaxis": "x",
         "y": {
          "bdata": "EQloKM8K",
          "dtype": "i2"
         },
         "yaxis": "y"
        },
        {
         "hovertemplate": "PRODUCTCODE=S50_1392<br>TERRITORY=%{x}<br>revenue_diff=%{text}<extra></extra>",
         "legendgroup": "S50_1392",
         "marker": {
          "color": "#FF97FF",
          "pattern": {
           "shape": ""
          }
         },
         "name": "S50_1392",
         "orientation": "v",
         "showlegend": true,
         "text": {
          "bdata": "AAAAAAALsUAAAAAAABO2QAAAAAAAebJA",
          "dtype": "f8"
         },
         "textposition": "auto",
         "type": "bar",
         "x": [
          "APAC",
          "EMEA",
          "Japan"
         ],
         "xaxis": "x",
         "y": {
          "bdata": "CxETFnkS",
          "dtype": "i2"
         },
         "yaxis": "y"
        },
        {
         "hovertemplate": "PRODUCTCODE=S50_4713<br>TERRITORY=%{x}<br>revenue_diff=%{text}<extra></extra>",
         "legendgroup": "S50_4713",
         "marker": {
          "color": "#FECB52",
          "pattern": {
           "shape": ""
          }
         },
         "name": "S50_4713",
         "orientation": "v",
         "showlegend": true,
         "text": {
          "bdata": "AAAAAAALsUAAAAAAAFnKQAAAAAAAebJA",
          "dtype": "f8"
         },
         "textposition": "auto",
         "type": "bar",
         "x": [
          "APAC",
          "EMEA",
          "Japan"
         ],
         "xaxis": "x",
         "y": {
          "bdata": "CxGyNHkS",
          "dtype": "i2"
         },
         "yaxis": "y"
        },
        {
         "hovertemplate": "PRODUCTCODE=S700_1691<br>TERRITORY=%{x}<br>revenue_diff=%{text}<extra></extra>",
         "legendgroup": "S700_1691",
         "marker": {
          "color": "#636efa",
          "pattern": {
           "shape": ""
          }
         },
         "name": "S700_1691",
         "orientation": "v",
         "showlegend": true,
         "text": {
          "bdata": "AAAAAAALsUAAAAAAAJW/QAAAAAAA4KZA",
          "dtype": "f8"
         },
         "textposition": "auto",
         "type": "bar",
         "x": [
          "APAC",
          "EMEA",
          "Japan"
         ],
         "xaxis": "x",
         "y": {
          "bdata": "CxGVH3AL",
          "dtype": "i2"
         },
         "yaxis": "y"
        },
        {
         "hovertemplate": "PRODUCTCODE=S700_2047<br>TERRITORY=%{x}<br>revenue_diff=%{text}<extra></extra>",
         "legendgroup": "S700_2047",
         "marker": {
          "color": "#EF553B",
          "pattern": {
           "shape": ""
          }
         },
         "name": "S700_2047",
         "orientation": "v",
         "showlegend": true,
         "text": {
          "bdata": "AAAAAAALsUAAAAAAAOS2QAAAAAAA1bBA",
          "dtype": "f8"
         },
         "textposition": "auto",
         "type": "bar",
         "x": [
          "APAC",
          "EMEA",
          "Japan"
         ],
         "xaxis": "x",
         "y": {
          "bdata": "CxHkFtUQ",
          "dtype": "i2"
         },
         "yaxis": "y"
        },
        {
         "hovertemplate": "PRODUCTCODE=S700_2466<br>TERRITORY=%{x}<br>revenue_diff=%{text}<extra></extra>",
         "legendgroup": "S700_2466",
         "marker": {
          "color": "#00cc96",
          "pattern": {
           "shape": ""
          }
         },
         "name": "S700_2466",
         "orientation": "v",
         "showlegend": true,
         "text": {
          "bdata": "AAAAAAALsUAAAAAAAM/AQAAAAAAA1qlA",
          "dtype": "f8"
         },
         "textposition": "auto",
         "type": "bar",
         "x": [
          "APAC",
          "EMEA",
          "Japan"
         ],
         "xaxis": "x",
         "y": {
          "bdata": "CxGeIesM",
          "dtype": "i2"
         },
         "yaxis": "y"
        },
        {
         "hovertemplate": "PRODUCTCODE=S700_2824<br>TERRITORY=%{x}<br>revenue_diff=%{text}<extra></extra>",
         "legendgroup": "S700_2824",
         "marker": {
          "color": "#ab63fa",
          "pattern": {
           "shape": ""
          }
         },
         "name": "S700_2824",
         "orientation": "v",
         "showlegend": true,
         "text": {
          "bdata": "AAAAAADQrkAAAAAAADbFQAAAAAAAzKNA",
          "dtype": "f8"
         },
         "textposition": "auto",
         "type": "bar",
         "x": [
          "APAC",
          "EMEA",
          "Japan"
         ],
         "xaxis": "x",
         "y": {
          "bdata": "aA9sKuYJ",
          "dtype": "i2"
         },
         "yaxis": "y"
        },
        {
         "hovertemplate": "PRODUCTCODE=S700_2834<br>TERRITORY=%{x}<br>revenue_diff=%{text}<extra></extra>",
         "legendgroup": "S700_2834",
         "marker": {
          "color": "#FFA15A",
          "pattern": {
           "shape": ""
          }
         },
         "name": "S700_2834",
         "orientation": "v",
         "showlegend": true,
         "text": {
          "bdata": "AAAAAADCq0AAAAAAAI7EQAAAAAAAebJA",
          "dtype": "f8"
         },
         "textposition": "auto",
         "type": "bar",
         "x": [
          "APAC",
          "EMEA",
          "Japan"
         ],
         "xaxis": "x",
         "y": {
          "bdata": "4Q0cKXkS",
          "dtype": "i2"
         },
         "yaxis": "y"
        },
        {
         "hovertemplate": "PRODUCTCODE=S700_3167<br>TERRITORY=%{x}<br>revenue_diff=%{text}<extra></extra>",
         "legendgroup": "S700_3167",
         "marker": {
          "color": "#19d3f3",
          "pattern": {
           "shape": ""
          }
         },
         "name": "S700_3167",
         "orientation": "v",
         "showlegend": true,
         "text": {
          "bdata": "AAAAAABYp0AAAAAAAGi/QAAAAAAAebJA",
          "dtype": "f8"
         },
         "textposition": "auto",
         "type": "bar",
         "x": [
          "APAC",
          "EMEA",
          "Japan"
         ],
         "xaxis": "x",
         "y": {
          "bdata": "rAtoH3kS",
          "dtype": "i2"
         },
         "yaxis": "y"
        },
        {
         "hovertemplate": "PRODUCTCODE=S700_4002<br>TERRITORY=%{x}<br>revenue_diff=%{text}<extra></extra>",
         "legendgroup": "S700_4002",
         "marker": {
          "color": "#FF6692",
          "pattern": {
           "shape": ""
          }
         },
         "name": "S700_4002",
         "orientation": "v",
         "showlegend": true,
         "text": {
          "bdata": "AAAAAACSo0AAAAAAgDbAQAAAAAAAcqtA",
          "dtype": "f8"
         },
         "textposition": "auto",
         "type": "bar",
         "x": [
          "APAC",
          "EMEA",
          "Japan"
         ],
         "xaxis": "x",
         "y": {
          "bdata": "yQltILkN",
          "dtype": "i2"
         },
         "yaxis": "y"
        },
        {
         "hovertemplate": "PRODUCTCODE=S72_1253<br>TERRITORY=%{x}<br>revenue_diff=%{text}<extra></extra>",
         "legendgroup": "S72_1253",
         "marker": {
          "color": "#B6E880",
          "pattern": {
           "shape": ""
          }
         },
         "name": "S72_1253",
         "orientation": "v",
         "showlegend": true,
         "text": {
          "bdata": "AAAAAAD4pEAAAAAAALKmQAAAAAAAebJA",
          "dtype": "f8"
         },
         "textposition": "auto",
         "type": "bar",
         "x": [
          "APAC",
          "EMEA",
          "Japan"
         ],
         "xaxis": "x",
         "y": {
          "bdata": "fApZC3kS",
          "dtype": "i2"
         },
         "yaxis": "y"
        },
        {
         "hovertemplate": "PRODUCTCODE=S10_4757<br>TERRITORY=%{x}<br>revenue_diff=%{text}<extra></extra>",
         "legendgroup": "S10_4757",
         "marker": {
          "color": "#FF97FF",
          "pattern": {
           "shape": ""
          }
         },
         "name": "S10_4757",
         "orientation": "v",
         "showlegend": true,
         "text": {
          "bdata": "AAAAAABnwkA=",
          "dtype": "f8"
         },
         "textposition": "auto",
         "type": "bar",
         "x": [
          "EMEA"
         ],
         "xaxis": "x",
         "y": {
          "bdata": "ziQ=",
          "dtype": "i2"
         },
         "yaxis": "y"
        },
        {
         "hovertemplate": "PRODUCTCODE=S12_1108<br>TERRITORY=%{x}<br>revenue_diff=%{text}<extra></extra>",
         "legendgroup": "S12_1108",
         "marker": {
          "color": "#FECB52",
          "pattern": {
           "shape": ""
          }
         },
         "name": "S12_1108",
         "orientation": "v",
         "showlegend": true,
         "text": {
          "bdata": "AAAAAACAvEAAAAAAAOynQA==",
          "dtype": "f8"
         },
         "textposition": "auto",
         "type": "bar",
         "x": [
          "EMEA",
          "Japan"
         ],
         "xaxis": "x",
         "y": {
          "bdata": "gBz2Cw==",
          "dtype": "i2"
         },
         "yaxis": "y"
        },
        {
         "hovertemplate": "PRODUCTCODE=S12_3148<br>TERRITORY=%{x}<br>revenue_diff=%{text}<extra></extra>",
         "legendgroup": "S12_3148",
         "marker": {
          "color": "#636efa",
          "pattern": {
           "shape": ""
          }
         },
         "name": "S12_3148",
         "orientation": "v",
         "showlegend": true,
         "text": {
          "bdata": "AAAAAAAIukAAAAAAAM6oQA==",
          "dtype": "f8"
         },
         "textposition": "auto",
         "type": "bar",
         "x": [
          "EMEA",
          "Japan"
         ],
         "xaxis": "x",
         "y": {
          "bdata": "CBpnDA==",
          "dtype": "i2"
         },
         "yaxis": "y"
        },
        {
         "hovertemplate": "PRODUCTCODE=S12_3380<br>TERRITORY=%{x}<br>revenue_diff=%{text}<extra></extra>",
         "legendgroup": "S12_3380",
         "marker": {
          "color": "#EF553B",
          "pattern": {
           "shape": ""
          }
         },
         "name": "S12_3380",
         "orientation": "v",
         "showlegend": true,
         "text": {
          "bdata": "AAAAAAB+vUAAAAAAALaxQA==",
          "dtype": "f8"
         },
         "textposition": "auto",
         "type": "bar",
         "x": [
          "EMEA",
          "Japan"
         ],
         "xaxis": "x",
         "y": {
          "bdata": "fh22EQ==",
          "dtype": "i2"
         },
         "yaxis": "y"
        },
        {
         "hovertemplate": "PRODUCTCODE=S12_3891<br>TERRITORY=%{x}<br>revenue_diff=%{text}<extra></extra>",
         "legendgroup": "S12_3891",
         "marker": {
          "color": "#00cc96",
          "pattern": {
           "shape": ""
          }
         },
         "name": "S12_3891",
         "orientation": "v",
         "showlegend": true,
         "text": {
          "bdata": "AAAAAAAyvkAAAAAAALiGQA==",
          "dtype": "f8"
         },
         "textposition": "auto",
         "type": "bar",
         "x": [
          "EMEA",
          "Japan"
         ],
         "xaxis": "x",
         "y": {
          "bdata": "Mh7XAg==",
          "dtype": "i2"
         },
         "yaxis": "y"
        },
        {
         "hovertemplate": "PRODUCTCODE=S12_4675<br>TERRITORY=%{x}<br>revenue_diff=%{text}<extra></extra>",
         "legendgroup": "S12_4675",
         "marker": {
          "color": "#ab63fa",
          "pattern": {
           "shape": ""
          }
         },
         "name": "S12_4675",
         "orientation": "v",
         "showlegend": true,
         "text": {
          "bdata": "AAAAAAC3skAAAAAAAHmyQA==",
          "dtype": "f8"
         },
         "textposition": "auto",
         "type": "bar",
         "x": [
          "EMEA",
          "Japan"
         ],
         "xaxis": "x",
         "y": {
          "bdata": "txJ5Eg==",
          "dtype": "i2"
         },
         "yaxis": "y"
        },
        {
         "hovertemplate": "PRODUCTCODE=S18_1662<br>TERRITORY=%{x}<br>revenue_diff=%{text}<extra></extra>",
         "legendgroup": "S18_1662",
         "marker": {
          "color": "#FFA15A",
          "pattern": {
           "shape": ""
          }
         },
         "name": "S18_1662",
         "orientation": "v",
         "showlegend": true,
         "text": {
          "bdata": "AAAAAABqu0AAAAAAABixQA==",
          "dtype": "f8"
         },
         "textposition": "auto",
         "type": "bar",
         "x": [
          "EMEA",
          "Japan"
         ],
         "xaxis": "x",
         "y": {
          "bdata": "ahsYEQ==",
          "dtype": "i2"
         },
         "yaxis": "y"
        },
        {
         "hovertemplate": "PRODUCTCODE=S18_3029<br>TERRITORY=%{x}<br>revenue_diff=%{text}<extra></extra>",
         "legendgroup": "S18_3029",
         "marker": {
          "color": "#19d3f3",
          "pattern": {
           "shape": ""
          }
         },
         "name": "S18_3029",
         "orientation": "v",
         "showlegend": true,
         "text": {
          "bdata": "AAAAAACKtkA=",
          "dtype": "f8"
         },
         "textposition": "auto",
         "type": "bar",
         "x": [
          "EMEA"
         ],
         "xaxis": "x",
         "y": {
          "bdata": "ihY=",
          "dtype": "i2"
         },
         "yaxis": "y"
        },
        {
         "hovertemplate": "PRODUCTCODE=S18_3140<br>TERRITORY=%{x}<br>revenue_diff=%{text}<extra></extra>",
         "legendgroup": "S18_3140",
         "marker": {
          "color": "#FF6692",
          "pattern": {
           "shape": ""
          }
         },
         "name": "S18_3140",
         "orientation": "v",
         "showlegend": true,
         "text": {
          "bdata": "AAAAAACLwkAAAAAAAACrQA==",
          "dtype": "f8"
         },
         "textposition": "auto",
         "type": "bar",
         "x": [
          "EMEA",
          "Japan"
         ],
         "xaxis": "x",
         "y": {
          "bdata": "FiWADQ==",
          "dtype": "i2"
         },
         "yaxis": "y"
        },
        {
         "hovertemplate": "PRODUCTCODE=S18_3259<br>TERRITORY=%{x}<br>revenue_diff=%{text}<extra></extra>",
         "legendgroup": "S18_3259",
         "marker": {
          "color": "#B6E880",
          "pattern": {
           "shape": ""
          }
         },
         "name": "S18_3259",
         "orientation": "v",
         "showlegend": true,
         "text": {
          "bdata": "AAAAAABcwkAAAAAAAKquQA==",
          "dtype": "f8"
         },
         "textposition": "auto",
         "type": "bar",
         "x": [
          "EMEA",
          "Japan"
         ],
         "xaxis": "x",
         "y": {
          "bdata": "uCRVDw==",
          "dtype": "i2"
         },
         "yaxis": "y"
        },
        {
         "hovertemplate": "PRODUCTCODE=S18_4522<br>TERRITORY=%{x}<br>revenue_diff=%{text}<extra></extra>",
         "legendgroup": "S18_4522",
         "marker": {
          "color": "#FF97FF",
          "pattern": {
           "shape": ""
          }
         },
         "name": "S18_4522",
         "orientation": "v",
         "showlegend": true,
         "text": {
          "bdata": "AAAAAAAAAAAAAAAAAHmyQA==",
          "dtype": "f8"
         },
         "textposition": "auto",
         "type": "bar",
         "x": [
          "EMEA",
          "Japan"
         ],
         "xaxis": "x",
         "y": {
          "bdata": "AAB5Eg==",
          "dtype": "i2"
         },
         "yaxis": "y"
        },
        {
         "hovertemplate": "PRODUCTCODE=S24_2011<br>TERRITORY=%{x}<br>revenue_diff=%{text}<extra></extra>",
         "legendgroup": "S24_2011",
         "marker": {
          "color": "#FECB52",
          "pattern": {
           "shape": ""
          }
         },
         "name": "S24_2011",
         "orientation": "v",
         "showlegend": true,
         "text": {
          "bdata": "AAAAAABarEAAAAAAAHSoQA==",
          "dtype": "f8"
         },
         "textposition": "auto",
         "type": "bar",
         "x": [
          "EMEA",
          "Japan"
         ],
         "xaxis": "x",
         "y": {
          "bdata": "LQ46DA==",
          "dtype": "i2"
         },
         "yaxis": "y"
        },
        {
         "hovertemplate": "PRODUCTCODE=S24_3151<br>TERRITORY=%{x}<br>revenue_diff=%{text}<extra></extra>",
         "legendgroup": "S24_3151",
         "marker": {
          "color": "#636efa",
          "pattern": {
           "shape": ""
          }
         },
         "name": "S24_3151",
         "orientation": "v",
         "showlegend": true,
         "text": {
          "bdata": "AAAAAACjukAAAAAAAKqtQA==",
          "dtype": "f8"
         },
         "textposition": "auto",
         "type": "bar",
         "x": [
          "EMEA",
          "Japan"
         ],
         "xaxis": "x",
         "y": {
          "bdata": "oxrVDg==",
          "dtype": "i2"
         },
         "yaxis": "y"
        },
        {
         "hovertemplate": "PRODUCTCODE=S24_3816<br>TERRITORY=%{x}<br>revenue_diff=%{text}<extra></extra>",
         "legendgroup": "S24_3816",
         "marker": {
          "color": "#EF553B",
          "pattern": {
           "shape": ""
          }
         },
         "name": "S24_3816",
         "orientation": "v",
         "showlegend": true,
         "text": {
          "bdata": "AAAAAACOqkAAAAAAABisQA==",
          "dtype": "f8"
         },
         "textposition": "auto",
         "type": "bar",
         "x": [
          "EMEA",
          "Japan"
         ],
         "xaxis": "x",
         "y": {
          "bdata": "Rw0MDg==",
          "dtype": "i2"
         },
         "yaxis": "y"
        },
        {
         "hovertemplate": "PRODUCTCODE=S50_1514<br>TERRITORY=%{x}<br>revenue_diff=%{text}<extra></extra>",
         "legendgroup": "S50_1514",
         "marker": {
          "color": "#00cc96",
          "pattern": {
           "shape": ""
          }
         },
         "name": "S50_1514",
         "orientation": "v",
         "showlegend": true,
         "text": {
          "bdata": "AAAAAIC9wkAAAAAAANCoQA==",
          "dtype": "f8"
         },
         "textposition": "auto",
         "type": "bar",
         "x": [
          "EMEA",
          "Japan"
         ],
         "xaxis": "x",
         "y": {
          "bdata": "eyVoDA==",
          "dtype": "i2"
         },
         "yaxis": "y"
        },
        {
         "hovertemplate": "PRODUCTCODE=S700_1138<br>TERRITORY=%{x}<br>revenue_diff=%{text}<extra></extra>",
         "legendgroup": "S700_1138",
         "marker": {
          "color": "#ab63fa",
          "pattern": {
           "shape": ""
          }
         },
         "name": "S700_1138",
         "orientation": "v",
         "showlegend": true,
         "text": {
          "bdata": "AAAAAACOykAAAAAAAHmyQA==",
          "dtype": "f8"
         },
         "textposition": "auto",
         "type": "bar",
         "x": [
          "EMEA",
          "Japan"
         ],
         "xaxis": "x",
         "y": {
          "bdata": "HDV5Eg==",
          "dtype": "i2"
         },
         "yaxis": "y"
        },
        {
         "hovertemplate": "PRODUCTCODE=S700_1938<br>TERRITORY=%{x}<br>revenue_diff=%{text}<extra></extra>",
         "legendgroup": "S700_1938",
         "marker": {
          "color": "#FFA15A",
          "pattern": {
           "shape": ""
          }
         },
         "name": "S700_1938",
         "orientation": "v",
         "showlegend": true,
         "text": {
          "bdata": "AAAAAAAqwkAAAAAAAGiOQA==",
          "dtype": "f8"
         },
         "textposition": "auto",
         "type": "bar",
         "x": [
          "EMEA",
          "Japan"
         ],
         "xaxis": "x",
         "y": {
          "bdata": "VCTNAw==",
          "dtype": "i2"
         },
         "yaxis": "y"
        },
        {
         "hovertemplate": "PRODUCTCODE=S700_2610<br>TERRITORY=%{x}<br>revenue_diff=%{text}<extra></extra>",
         "legendgroup": "S700_2610",
         "marker": {
          "color": "#19d3f3",
          "pattern": {
           "shape": ""
          }
         },
         "name": "S700_2610",
         "orientation": "v",
         "showlegend": true,
         "text": {
          "bdata": "AAAAAIBwwkAAAAAAAHmyQA==",
          "dtype": "f8"
         },
         "textposition": "auto",
         "type": "bar",
         "x": [
          "EMEA",
          "Japan"
         ],
         "xaxis": "x",
         "y": {
          "bdata": "4SR5Eg==",
          "dtype": "i2"
         },
         "yaxis": "y"
        },
        {
         "hovertemplate": "PRODUCTCODE=S700_3505<br>TERRITORY=%{x}<br>revenue_diff=%{text}<extra></extra>",
         "legendgroup": "S700_3505",
         "marker": {
          "color": "#FF6692",
          "pattern": {
           "shape": ""
          }
         },
         "name": "S700_3505",
         "orientation": "v",
         "showlegend": true,
         "text": {
          "bdata": "AAAAAIDrwEA=",
          "dtype": "f8"
         },
         "textposition": "auto",
         "type": "bar",
         "x": [
          "EMEA"
         ],
         "xaxis": "x",
         "y": {
          "bdata": "1yE=",
          "dtype": "i2"
         },
         "yaxis": "y"
        },
        {
         "hovertemplate": "PRODUCTCODE=S700_3962<br>TERRITORY=%{x}<br>revenue_diff=%{text}<extra></extra>",
         "legendgroup": "S700_3962",
         "marker": {
          "color": "#B6E880",
          "pattern": {
           "shape": ""
          }
         },
         "name": "S700_3962",
         "orientation": "v",
         "showlegend": true,
         "text": {
          "bdata": "AAAAAAC9uUAAAAAAAHmyQA==",
          "dtype": "f8"
         },
         "textposition": "auto",
         "type": "bar",
         "x": [
          "EMEA",
          "Japan"
         ],
         "xaxis": "x",
         "y": {
          "bdata": "vRl5Eg==",
          "dtype": "i2"
         },
         "yaxis": "y"
        },
        {
         "hovertemplate": "PRODUCTCODE=S72_3212<br>TERRITORY=%{x}<br>revenue_diff=%{text}<extra></extra>",
         "legendgroup": "S72_3212",
         "marker": {
          "color": "#FF97FF",
          "pattern": {
           "shape": ""
          }
         },
         "name": "S72_3212",
         "orientation": "v",
         "showlegend": true,
         "text": {
          "bdata": "AAAAAAAfu0AAAAAAAEKmQA==",
          "dtype": "f8"
         },
         "textposition": "auto",
         "type": "bar",
         "x": [
          "EMEA",
          "Japan"
         ],
         "xaxis": "x",
         "y": {
          "bdata": "HxshCw==",
          "dtype": "i2"
         },
         "yaxis": "y"
        }
       ],
       "layout": {
        "barmode": "relative",
        "legend": {
         "title": {
          "text": "PRODUCTCODE"
         },
         "tracegroupgap": 0
        },
        "template": {
         "data": {
          "bar": [
           {
            "error_x": {
             "color": "#2a3f5f"
            },
            "error_y": {
             "color": "#2a3f5f"
            },
            "marker": {
             "line": {
              "color": "#E5ECF6",
              "width": 0.5
             },
             "pattern": {
              "fillmode": "overlay",
              "size": 10,
              "solidity": 0.2
             }
            },
            "type": "bar"
           }
          ],
          "barpolar": [
           {
            "marker": {
             "line": {
              "color": "#E5ECF6",
              "width": 0.5
             },
             "pattern": {
              "fillmode": "overlay",
              "size": 10,
              "solidity": 0.2
             }
            },
            "type": "barpolar"
           }
          ],
          "carpet": [
           {
            "aaxis": {
             "endlinecolor": "#2a3f5f",
             "gridcolor": "white",
             "linecolor": "white",
             "minorgridcolor": "white",
             "startlinecolor": "#2a3f5f"
            },
            "baxis": {
             "endlinecolor": "#2a3f5f",
             "gridcolor": "white",
             "linecolor": "white",
             "minorgridcolor": "white",
             "startlinecolor": "#2a3f5f"
            },
            "type": "carpet"
           }
          ],
          "choropleth": [
           {
            "colorbar": {
             "outlinewidth": 0,
             "ticks": ""
            },
            "type": "choropleth"
           }
          ],
          "contour": [
           {
            "colorbar": {
             "outlinewidth": 0,
             "ticks": ""
            },
            "colorscale": [
             [
              0,
              "#0d0887"
             ],
             [
              0.1111111111111111,
              "#46039f"
             ],
             [
              0.2222222222222222,
              "#7201a8"
             ],
             [
              0.3333333333333333,
              "#9c179e"
             ],
             [
              0.4444444444444444,
              "#bd3786"
             ],
             [
              0.5555555555555556,
              "#d8576b"
             ],
             [
              0.6666666666666666,
              "#ed7953"
             ],
             [
              0.7777777777777778,
              "#fb9f3a"
             ],
             [
              0.8888888888888888,
              "#fdca26"
             ],
             [
              1,
              "#f0f921"
             ]
            ],
            "type": "contour"
           }
          ],
          "contourcarpet": [
           {
            "colorbar": {
             "outlinewidth": 0,
             "ticks": ""
            },
            "type": "contourcarpet"
           }
          ],
          "heatmap": [
           {
            "colorbar": {
             "outlinewidth": 0,
             "ticks": ""
            },
            "colorscale": [
             [
              0,
              "#0d0887"
             ],
             [
              0.1111111111111111,
              "#46039f"
             ],
             [
              0.2222222222222222,
              "#7201a8"
             ],
             [
              0.3333333333333333,
              "#9c179e"
             ],
             [
              0.4444444444444444,
              "#bd3786"
             ],
             [
              0.5555555555555556,
              "#d8576b"
             ],
             [
              0.6666666666666666,
              "#ed7953"
             ],
             [
              0.7777777777777778,
              "#fb9f3a"
             ],
             [
              0.8888888888888888,
              "#fdca26"
             ],
             [
              1,
              "#f0f921"
             ]
            ],
            "type": "heatmap"
           }
          ],
          "histogram": [
           {
            "marker": {
             "pattern": {
              "fillmode": "overlay",
              "size": 10,
              "solidity": 0.2
             }
            },
            "type": "histogram"
           }
          ],
          "histogram2d": [
           {
            "colorbar": {
             "outlinewidth": 0,
             "ticks": ""
            },
            "colorscale": [
             [
              0,
              "#0d0887"
             ],
             [
              0.1111111111111111,
              "#46039f"
             ],
             [
              0.2222222222222222,
              "#7201a8"
             ],
             [
              0.3333333333333333,
              "#9c179e"
             ],
             [
              0.4444444444444444,
              "#bd3786"
             ],
             [
              0.5555555555555556,
              "#d8576b"
             ],
             [
              0.6666666666666666,
              "#ed7953"
             ],
             [
              0.7777777777777778,
              "#fb9f3a"
             ],
             [
              0.8888888888888888,
              "#fdca26"
             ],
             [
              1,
              "#f0f921"
             ]
            ],
            "type": "histogram2d"
           }
          ],
          "histogram2dcontour": [
           {
            "colorbar": {
             "outlinewidth": 0,
             "ticks": ""
            },
            "colorscale": [
             [
              0,
              "#0d0887"
             ],
             [
              0.1111111111111111,
              "#46039f"
             ],
             [
              0.2222222222222222,
              "#7201a8"
             ],
             [
              0.3333333333333333,
              "#9c179e"
             ],
             [
              0.4444444444444444,
              "#bd3786"
             ],
             [
              0.5555555555555556,
              "#d8576b"
             ],
             [
              0.6666666666666666,
              "#ed7953"
             ],
             [
              0.7777777777777778,
              "#fb9f3a"
             ],
             [
              0.8888888888888888,
              "#fdca26"
             ],
             [
              1,
              "#f0f921"
             ]
            ],
            "type": "histogram2dcontour"
           }
          ],
          "mesh3d": [
           {
            "colorbar": {
             "outlinewidth": 0,
             "ticks": ""
            },
            "type": "mesh3d"
           }
          ],
          "parcoords": [
           {
            "line": {
             "colorbar": {
              "outlinewidth": 0,
              "ticks": ""
             }
            },
            "type": "parcoords"
           }
          ],
          "pie": [
           {
            "automargin": true,
            "type": "pie"
           }
          ],
          "scatter": [
           {
            "fillpattern": {
             "fillmode": "overlay",
             "size": 10,
             "solidity": 0.2
            },
            "type": "scatter"
           }
          ],
          "scatter3d": [
           {
            "line": {
             "colorbar": {
              "outlinewidth": 0,
              "ticks": ""
             }
            },
            "marker": {
             "colorbar": {
              "outlinewidth": 0,
              "ticks": ""
             }
            },
            "type": "scatter3d"
           }
          ],
          "scattercarpet": [
           {
            "marker": {
             "colorbar": {
              "outlinewidth": 0,
              "ticks": ""
             }
            },
            "type": "scattercarpet"
           }
          ],
          "scattergeo": [
           {
            "marker": {
             "colorbar": {
              "outlinewidth": 0,
              "ticks": ""
             }
            },
            "type": "scattergeo"
           }
          ],
          "scattergl": [
           {
            "marker": {
             "colorbar": {
              "outlinewidth": 0,
              "ticks": ""
             }
            },
            "type": "scattergl"
           }
          ],
          "scattermap": [
           {
            "marker": {
             "colorbar": {
              "outlinewidth": 0,
              "ticks": ""
             }
            },
            "type": "scattermap"
           }
          ],
          "scattermapbox": [
           {
            "marker": {
             "colorbar": {
              "outlinewidth": 0,
              "ticks": ""
             }
            },
            "type": "scattermapbox"
           }
          ],
          "scatterpolar": [
           {
            "marker": {
             "colorbar": {
              "outlinewidth": 0,
              "ticks": ""
             }
            },
            "type": "scatterpolar"
           }
          ],
          "scatterpolargl": [
           {
            "marker": {
             "colorbar": {
              "outlinewidth": 0,
              "ticks": ""
             }
            },
            "type": "scatterpolargl"
           }
          ],
          "scatterternary": [
           {
            "marker": {
             "colorbar": {
              "outlinewidth": 0,
              "ticks": ""
             }
            },
            "type": "scatterternary"
           }
          ],
          "surface": [
           {
            "colorbar": {
             "outlinewidth": 0,
             "ticks": ""
            },
            "colorscale": [
             [
              0,
              "#0d0887"
             ],
             [
              0.1111111111111111,
              "#46039f"
             ],
             [
              0.2222222222222222,
              "#7201a8"
             ],
             [
              0.3333333333333333,
              "#9c179e"
             ],
             [
              0.4444444444444444,
              "#bd3786"
             ],
             [
              0.5555555555555556,
              "#d8576b"
             ],
             [
              0.6666666666666666,
              "#ed7953"
             ],
             [
              0.7777777777777778,
              "#fb9f3a"
             ],
             [
              0.8888888888888888,
              "#fdca26"
             ],
             [
              1,
              "#f0f921"
             ]
            ],
            "type": "surface"
           }
          ],
          "table": [
           {
            "cells": {
             "fill": {
              "color": "#EBF0F8"
             },
             "line": {
              "color": "white"
             }
            },
            "header": {
             "fill": {
              "color": "#C8D4E3"
             },
             "line": {
              "color": "white"
             }
            },
            "type": "table"
           }
          ]
         },
         "layout": {
          "annotationdefaults": {
           "arrowcolor": "#2a3f5f",
           "arrowhead": 0,
           "arrowwidth": 1
          },
          "autotypenumbers": "strict",
          "coloraxis": {
           "colorbar": {
            "outlinewidth": 0,
            "ticks": ""
           }
          },
          "colorscale": {
           "diverging": [
            [
             0,
             "#8e0152"
            ],
            [
             0.1,
             "#c51b7d"
            ],
            [
             0.2,
             "#de77ae"
            ],
            [
             0.3,
             "#f1b6da"
            ],
            [
             0.4,
             "#fde0ef"
            ],
            [
             0.5,
             "#f7f7f7"
            ],
            [
             0.6,
             "#e6f5d0"
            ],
            [
             0.7,
             "#b8e186"
            ],
            [
             0.8,
             "#7fbc41"
            ],
            [
             0.9,
             "#4d9221"
            ],
            [
             1,
             "#276419"
            ]
           ],
           "sequential": [
            [
             0,
             "#0d0887"
            ],
            [
             0.1111111111111111,
             "#46039f"
            ],
            [
             0.2222222222222222,
             "#7201a8"
            ],
            [
             0.3333333333333333,
             "#9c179e"
            ],
            [
             0.4444444444444444,
             "#bd3786"
            ],
            [
             0.5555555555555556,
             "#d8576b"
            ],
            [
             0.6666666666666666,
             "#ed7953"
            ],
            [
             0.7777777777777778,
             "#fb9f3a"
            ],
            [
             0.8888888888888888,
             "#fdca26"
            ],
            [
             1,
             "#f0f921"
            ]
           ],
           "sequentialminus": [
            [
             0,
             "#0d0887"
            ],
            [
             0.1111111111111111,
             "#46039f"
            ],
            [
             0.2222222222222222,
             "#7201a8"
            ],
            [
             0.3333333333333333,
             "#9c179e"
            ],
            [
             0.4444444444444444,
             "#bd3786"
            ],
            [
             0.5555555555555556,
             "#d8576b"
            ],
            [
             0.6666666666666666,
             "#ed7953"
            ],
            [
             0.7777777777777778,
             "#fb9f3a"
            ],
            [
             0.8888888888888888,
             "#fdca26"
            ],
            [
             1,
             "#f0f921"
            ]
           ]
          },
          "colorway": [
           "#636efa",
           "#EF553B",
           "#00cc96",
           "#ab63fa",
           "#FFA15A",
           "#19d3f3",
           "#FF6692",
           "#B6E880",
           "#FF97FF",
           "#FECB52"
          ],
          "font": {
           "color": "#2a3f5f"
          },
          "geo": {
           "bgcolor": "white",
           "lakecolor": "white",
           "landcolor": "#E5ECF6",
           "showlakes": true,
           "showland": true,
           "subunitcolor": "white"
          },
          "hoverlabel": {
           "align": "left"
          },
          "hovermode": "closest",
          "mapbox": {
           "style": "light"
          },
          "paper_bgcolor": "white",
          "plot_bgcolor": "#E5ECF6",
          "polar": {
           "angularaxis": {
            "gridcolor": "white",
            "linecolor": "white",
            "ticks": ""
           },
           "bgcolor": "#E5ECF6",
           "radialaxis": {
            "gridcolor": "white",
            "linecolor": "white",
            "ticks": ""
           }
          },
          "scene": {
           "xaxis": {
            "backgroundcolor": "#E5ECF6",
            "gridcolor": "white",
            "gridwidth": 2,
            "linecolor": "white",
            "showbackground": true,
            "ticks": "",
            "zerolinecolor": "white"
           },
           "yaxis": {
            "backgroundcolor": "#E5ECF6",
            "gridcolor": "white",
            "gridwidth": 2,
            "linecolor": "white",
            "showbackground": true,
            "ticks": "",
            "zerolinecolor": "white"
           },
           "zaxis": {
            "backgroundcolor": "#E5ECF6",
            "gridcolor": "white",
            "gridwidth": 2,
            "linecolor": "white",
            "showbackground": true,
            "ticks": "",
            "zerolinecolor": "white"
           }
          },
          "shapedefaults": {
           "line": {
            "color": "#2a3f5f"
           }
          },
          "ternary": {
           "aaxis": {
            "gridcolor": "white",
            "linecolor": "white",
            "ticks": ""
           },
           "baxis": {
            "gridcolor": "white",
            "linecolor": "white",
            "ticks": ""
           },
           "bgcolor": "#E5ECF6",
           "caxis": {
            "gridcolor": "white",
            "linecolor": "white",
            "ticks": ""
           }
          },
          "title": {
           "x": 0.05
          },
          "xaxis": {
           "automargin": true,
           "gridcolor": "white",
           "linecolor": "white",
           "ticks": "",
           "title": {
            "standoff": 15
           },
           "zerolinecolor": "white",
           "zerolinewidth": 2
          },
          "yaxis": {
           "automargin": true,
           "gridcolor": "white",
           "linecolor": "white",
           "ticks": "",
           "title": {
            "standoff": 15
           },
           "zerolinecolor": "white",
           "zerolinewidth": 2
          }
         }
        },
        "title": {
         "text": "📊 Revenue Difference from Best-Selling Item per Region"
        },
        "xaxis": {
         "anchor": "y",
         "domain": [
          0,
          1
         ],
         "title": {
          "text": "TERRITORY"
         }
        },
        "yaxis": {
         "anchor": "x",
         "domain": [
          0,
          1
         ],
         "title": {
          "text": "revenue_diff"
         }
        }
       }
      }
     },
     "metadata": {},
     "output_type": "display_data"
    }
   ],
   "source": [
    "# -----------------------------\n",
    "# Pull relevant columns\n",
    "# -----------------------------\n",
    "conn = snowflake_conn()\n",
    "query = \"\"\"\n",
    "SELECT \n",
    "    PRODUCTCODE,\n",
    "    TOTAL_AMOUNT,\n",
    "    TERRITORY\n",
    "FROM TRANSACTIONS\n",
    "\"\"\"\n",
    "df = pd.read_sql(query, conn)\n",
    "conn.close()\n",
    "\n",
    "# -----------------------------\n",
    "# Clean & convert\n",
    "# -----------------------------\n",
    "df['TOTAL_AMOUNT'] = pd.to_numeric(df['TOTAL_AMOUNT'], errors='coerce')\n",
    "df['SALES_AMOUNT'] = df['TOTAL_AMOUNT'].apply(lambda x: x if x > 0 else 0)\n",
    "\n",
    "# -----------------------------\n",
    "# Aggregate total sales per product per region\n",
    "# -----------------------------\n",
    "sales_by_region = df.groupby(['TERRITORY', 'PRODUCTCODE']).agg(\n",
    "    total_sales=('SALES_AMOUNT','sum')\n",
    ").reset_index()\n",
    "\n",
    "# -----------------------------\n",
    "# Find the best-selling revenue per region\n",
    "# -----------------------------\n",
    "best_sales = sales_by_region.groupby('TERRITORY')['total_sales'].max().reset_index()\n",
    "best_sales.rename(columns={'total_sales': 'best_sales_in_region'}, inplace=True)\n",
    "\n",
    "# -----------------------------\n",
    "# Merge to compute difference\n",
    "# -----------------------------\n",
    "sales_diff = sales_by_region.merge(best_sales, on='TERRITORY')\n",
    "sales_diff['revenue_diff'] = sales_diff['best_sales_in_region'] - sales_diff['total_sales']\n",
    "\n",
    "# -----------------------------\n",
    "# Display\n",
    "# -----------------------------\n",
    "print(\"📊 Revenue Difference from Best-Selling Item per Region\")\n",
    "display(sales_diff.sort_values(['TERRITORY','revenue_diff']))\n",
    "\n",
    "fig_diff = px.bar(sales_diff,\n",
    "                  x='TERRITORY',\n",
    "                  y='revenue_diff',\n",
    "                  color='PRODUCTCODE',\n",
    "                  title='📊 Revenue Difference from Best-Selling Item per Region',\n",
    "                  text='revenue_diff')\n",
    "fig_diff.show()\n",
    "\n"
   ]
  },
  {
   "cell_type": "markdown",
   "id": "a39eee31",
   "metadata": {},
   "source": [
    "Q7 Refunds are subject to a restocking fee of 10%. Write an UDF that calculates the fee and use it to calculate the final amount of refund."
   ]
  },
  {
   "cell_type": "code",
   "execution_count": 17,
   "id": "bf35f868",
   "metadata": {},
   "outputs": [
    {
     "name": "stderr",
     "output_type": "stream",
     "text": [
      "C:\\Users\\Abhi0618\\AppData\\Local\\Temp\\ipykernel_13280\\2273950412.py:19: UserWarning:\n",
      "\n",
      "pandas only supports SQLAlchemy connectable (engine/connection) or database string URI or sqlite3 DBAPI2 connection. Other DBAPI2 objects are not tested. Please consider using SQLAlchemy.\n",
      "\n"
     ]
    },
    {
     "data": {
      "application/vnd.jupyter.widget-view+json": {
       "model_id": "b2316ed3a34c4887adb38ae92391ecfc",
       "version_major": 2,
       "version_minor": 0
      },
      "text/plain": [
       "IntRangeSlider(value=(2003, 2005), continuous_update=False, description='Year Range:', layout=Layout(width='60…"
      ]
     },
     "metadata": {},
     "output_type": "display_data"
    },
    {
     "data": {
      "application/vnd.jupyter.widget-view+json": {
       "model_id": "d3a57ae8a4b642c38079b9e447c817b3",
       "version_major": 2,
       "version_minor": 0
      },
      "text/plain": [
       "Output()"
      ]
     },
     "metadata": {},
     "output_type": "display_data"
    }
   ],
   "source": [
    "import pandas as pd\n",
    "import numpy as np\n",
    "import plotly.express as px\n",
    "import ipywidgets as widgets\n",
    "from IPython.display import display, clear_output\n",
    "\n",
    "# -----------------------------\n",
    "# Pull transactions from Snowflake\n",
    "# -----------------------------\n",
    "conn = snowflake_conn()\n",
    "query = \"\"\"\n",
    "SELECT \n",
    "    ORDERNUMBER,\n",
    "    TOTAL_AMOUNT,\n",
    "    FINAL_REFUND_AMOUNT,\n",
    "    STD_ORDERDATE\n",
    "FROM TRANSACTIONS\n",
    "\"\"\"\n",
    "df = pd.read_sql(query, conn)\n",
    "conn.close()\n",
    "\n",
    "# -----------------------------\n",
    "# Clean & convert\n",
    "# -----------------------------\n",
    "df['ORDER_DATE'] = pd.to_datetime(df['STD_ORDERDATE'], errors='coerce')\n",
    "df['TOTAL_AMOUNT'] = pd.to_numeric(df['TOTAL_AMOUNT'], errors='coerce')\n",
    "df['FINAL_REFUND_AMOUNT'] = pd.to_numeric(df['FINAL_REFUND_AMOUNT'], errors='coerce')\n",
    "\n",
    "# -----------------------------\n",
    "# Only keep refund rows\n",
    "# -----------------------------\n",
    "df_refunds = df[df['FINAL_REFUND_AMOUNT'] > 0].copy()\n",
    "\n",
    "# -----------------------------\n",
    "# Calculate intermediate metrics\n",
    "# -----------------------------\n",
    "df_refunds['REFUND_AMOUNT'] = np.where(df_refunds['TOTAL_AMOUNT'] < 0, -df_refunds['TOTAL_AMOUNT'], 0)\n",
    "df_refunds['RESTOCK_FEE'] = df_refunds['REFUND_AMOUNT'] - df_refunds['FINAL_REFUND_AMOUNT']\n",
    "\n",
    "# -----------------------------\n",
    "# Derive fiscal week/month/quarter\n",
    "# -----------------------------\n",
    "df_refunds['FISCAL_YEAR'] = df_refunds['ORDER_DATE'].dt.year\n",
    "df_refunds['FISCAL_WEEK'] = df_refunds['ORDER_DATE'].dt.isocalendar().week\n",
    "df_refunds['FISCAL_MONTH'] = df_refunds['ORDER_DATE'].dt.month\n",
    "df_refunds['FISCAL_QUARTER'] = df_refunds['ORDER_DATE'].dt.quarter\n",
    "\n",
    "df_refunds['WEEK_KEY'] = df_refunds['FISCAL_YEAR'].astype(str) + \"-W\" + df_refunds['FISCAL_WEEK'].astype(str)\n",
    "df_refunds['MONTH_KEY'] = df_refunds['FISCAL_YEAR'].astype(str) + \"-M\" + df_refunds['FISCAL_MONTH'].astype(str)\n",
    "df_refunds['QUARTER_KEY'] = df_refunds['FISCAL_YEAR'].astype(str) + \"-Q\" + df_refunds['FISCAL_QUARTER'].astype(str)\n",
    "\n",
    "# -----------------------------\n",
    "# Aggregation function\n",
    "# -----------------------------\n",
    "def aggregate_refunds(df, group_col):\n",
    "    return df.groupby(group_col).agg(\n",
    "        total_refunds=('REFUND_AMOUNT','sum'),       # Before restocking fee\n",
    "        total_restocks=('RESTOCK_FEE','sum'),        # Restocking fee\n",
    "        final_refunds=('FINAL_REFUND_AMOUNT','sum'), # After restocking fee\n",
    "        num_refunds=('ORDERNUMBER','nunique')        # Count of refund orders\n",
    "    ).reset_index()\n",
    "\n",
    "# -----------------------------\n",
    "# Multi-year filter widget\n",
    "# -----------------------------\n",
    "year_min, year_max = int(df_refunds['FISCAL_YEAR'].min()), int(df_refunds['FISCAL_YEAR'].max())\n",
    "year_range_slider = widgets.IntRangeSlider(\n",
    "    value=[year_min, year_max],\n",
    "    min=year_min,\n",
    "    max=year_max,\n",
    "    step=1,\n",
    "    description='Year Range:',\n",
    "    continuous_update=False,\n",
    "    style={'description_width': 'initial'},\n",
    "    layout={'width': '600px'}\n",
    ")\n",
    "\n",
    "output = widgets.Output()\n",
    "\n",
    "def update_refund_dashboard(change):\n",
    "    with output:\n",
    "        clear_output()\n",
    "        start_year, end_year = year_range_slider.value\n",
    "        df_filtered = df_refunds[(df_refunds['FISCAL_YEAR'] >= start_year) & (df_refunds['FISCAL_YEAR'] <= end_year)]\n",
    "\n",
    "        # Aggregations\n",
    "        weekly_refunds = aggregate_refunds(df_filtered, 'WEEK_KEY')\n",
    "        monthly_refunds = aggregate_refunds(df_filtered, 'MONTH_KEY')\n",
    "        quarterly_refunds = aggregate_refunds(df_filtered, 'QUARTER_KEY')\n",
    "\n",
    "        # Display tables\n",
    "        print(f\"📊 Weekly Refund Metrics ({start_year}-{end_year})\")\n",
    "        display(weekly_refunds.head(10))\n",
    "        print(f\"📊 Monthly Refund Metrics ({start_year}-{end_year})\")\n",
    "        display(monthly_refunds.head(10))\n",
    "        print(f\"📊 Quarterly Refund Metrics ({start_year}-{end_year})\")\n",
    "        display(quarterly_refunds.head(10))\n",
    "\n",
    "        # Charts\n",
    "        fig_week = px.bar(weekly_refunds, x='WEEK_KEY', y='final_refunds', \n",
    "                          title=f'Weekly Refunds after Restocking Fee ({start_year}-{end_year})',\n",
    "                          labels={'final_refunds':'Final Refund Amount'})\n",
    "        fig_week.show()\n",
    "\n",
    "        fig_month = px.line(monthly_refunds, x='MONTH_KEY', y='final_refunds', \n",
    "                            title=f'Monthly Refunds after Restocking Fee ({start_year}-{end_year})',\n",
    "                            labels={'final_refunds':'Final Refund Amount'})\n",
    "        fig_month.show()\n",
    "\n",
    "        fig_quarter = px.bar(quarterly_refunds, x='QUARTER_KEY', y='final_refunds', \n",
    "                             title=f'Quarterly Refunds after Restocking Fee ({start_year}-{end_year})',\n",
    "                             labels={'final_refunds':'Final Refund Amount'})\n",
    "        fig_quarter.show()\n",
    "\n",
    "year_range_slider.observe(update_refund_dashboard, names='value')\n",
    "\n",
    "display(year_range_slider, output)\n",
    "\n",
    "# Initial display\n",
    "update_refund_dashboard(None)\n"
   ]
  },
  {
   "cell_type": "markdown",
   "id": "435efbf1",
   "metadata": {},
   "source": [
    "Q8 Segment the customers into High Value, Medium Value, and Low Value  customers based on net spending and order frequency. Show the top 10 spending customers and their details so they can be contacted"
   ]
  },
  {
   "cell_type": "code",
   "execution_count": 23,
   "id": "d4452b24",
   "metadata": {},
   "outputs": [
    {
     "name": "stderr",
     "output_type": "stream",
     "text": [
      "C:\\Users\\Abhi0618\\AppData\\Local\\Temp\\ipykernel_13280\\4084370279.py:19: UserWarning:\n",
      "\n",
      "pandas only supports SQLAlchemy connectable (engine/connection) or database string URI or sqlite3 DBAPI2 connection. Other DBAPI2 objects are not tested. Please consider using SQLAlchemy.\n",
      "\n"
     ]
    },
    {
     "data": {
      "application/vnd.plotly.v1+json": {
       "config": {
        "plotlyServerURL": "https://plot.ly"
       },
       "data": [
        {
         "hovertemplate": "Net Spending ($)=%{marker.color}<br>Customer (Orders)=%{y}<extra></extra>",
         "legendgroup": "",
         "marker": {
          "color": {
           "bdata": "NDMzMzO3pMCYmZmZmQujwDAzMzMzX4TAAAAAAADIcsAAAAAAAAB9QAAAAAAA8IFAMDMzMzMHgkAAAAAAAKiJQJqZmZmZrKVAzMzMzMxZrUA=",
           "dtype": "f8"
          },
          "coloraxis": "coloraxis",
          "pattern": {
           "shape": ""
          }
         },
         "name": "",
         "orientation": "h",
         "showlegend": false,
         "text": {
          "bdata": "NDMzMzO3pMCYmZmZmQujwDAzMzMzX4TAAAAAAADIcsAAAAAAAAB9QAAAAAAA8IFAMDMzMzMHgkAAAAAAAKiJQJqZmZmZrKVAzMzMzMxZrUA=",
          "dtype": "f8"
         },
         "textposition": "outside",
         "texttemplate": "%{text:.2f}",
         "type": "bar",
         "x": {
          "bdata": "NDMzMzO3pMCYmZmZmQujwDAzMzMzX4TAAAAAAADIcsAAAAAAAAB9QAAAAAAA8IFAMDMzMzMHgkAAAAAAAKiJQJqZmZmZrKVAzMzMzMxZrUA=",
          "dtype": "f8"
         },
         "xaxis": "x",
         "y": [
          "Toys4GrownUps.com (30 orders)",
          "giftsbymail.co.uk (26 orders)",
          "Online Mini Collectables (15 orders)",
          "Souveniers And Things Co. (46 orders)",
          "Microscale Inc. (10 orders)",
          "Classic Legends Inc. (20 orders)",
          "Technics Stores Inc. (34 orders)",
          "Super Scale Inc. (17 orders)",
          "Iberia Gift Imports, Corp. (15 orders)",
          "Signal Gift Stores (29 orders)"
         ],
         "yaxis": "y"
        }
       ],
       "layout": {
        "barmode": "relative",
        "coloraxis": {
         "colorbar": {
          "title": {
           "text": "Net Spending ($)"
          }
         },
         "colorscale": [
          [
           0,
           "#0d0887"
          ],
          [
           0.1111111111111111,
           "#46039f"
          ],
          [
           0.2222222222222222,
           "#7201a8"
          ],
          [
           0.3333333333333333,
           "#9c179e"
          ],
          [
           0.4444444444444444,
           "#bd3786"
          ],
          [
           0.5555555555555556,
           "#d8576b"
          ],
          [
           0.6666666666666666,
           "#ed7953"
          ],
          [
           0.7777777777777778,
           "#fb9f3a"
          ],
          [
           0.8888888888888888,
           "#fdca26"
          ],
          [
           1,
           "#f0f921"
          ]
         ]
        },
        "legend": {
         "tracegroupgap": 0
        },
        "template": {
         "data": {
          "bar": [
           {
            "error_x": {
             "color": "#2a3f5f"
            },
            "error_y": {
             "color": "#2a3f5f"
            },
            "marker": {
             "line": {
              "color": "#E5ECF6",
              "width": 0.5
             },
             "pattern": {
              "fillmode": "overlay",
              "size": 10,
              "solidity": 0.2
             }
            },
            "type": "bar"
           }
          ],
          "barpolar": [
           {
            "marker": {
             "line": {
              "color": "#E5ECF6",
              "width": 0.5
             },
             "pattern": {
              "fillmode": "overlay",
              "size": 10,
              "solidity": 0.2
             }
            },
            "type": "barpolar"
           }
          ],
          "carpet": [
           {
            "aaxis": {
             "endlinecolor": "#2a3f5f",
             "gridcolor": "white",
             "linecolor": "white",
             "minorgridcolor": "white",
             "startlinecolor": "#2a3f5f"
            },
            "baxis": {
             "endlinecolor": "#2a3f5f",
             "gridcolor": "white",
             "linecolor": "white",
             "minorgridcolor": "white",
             "startlinecolor": "#2a3f5f"
            },
            "type": "carpet"
           }
          ],
          "choropleth": [
           {
            "colorbar": {
             "outlinewidth": 0,
             "ticks": ""
            },
            "type": "choropleth"
           }
          ],
          "contour": [
           {
            "colorbar": {
             "outlinewidth": 0,
             "ticks": ""
            },
            "colorscale": [
             [
              0,
              "#0d0887"
             ],
             [
              0.1111111111111111,
              "#46039f"
             ],
             [
              0.2222222222222222,
              "#7201a8"
             ],
             [
              0.3333333333333333,
              "#9c179e"
             ],
             [
              0.4444444444444444,
              "#bd3786"
             ],
             [
              0.5555555555555556,
              "#d8576b"
             ],
             [
              0.6666666666666666,
              "#ed7953"
             ],
             [
              0.7777777777777778,
              "#fb9f3a"
             ],
             [
              0.8888888888888888,
              "#fdca26"
             ],
             [
              1,
              "#f0f921"
             ]
            ],
            "type": "contour"
           }
          ],
          "contourcarpet": [
           {
            "colorbar": {
             "outlinewidth": 0,
             "ticks": ""
            },
            "type": "contourcarpet"
           }
          ],
          "heatmap": [
           {
            "colorbar": {
             "outlinewidth": 0,
             "ticks": ""
            },
            "colorscale": [
             [
              0,
              "#0d0887"
             ],
             [
              0.1111111111111111,
              "#46039f"
             ],
             [
              0.2222222222222222,
              "#7201a8"
             ],
             [
              0.3333333333333333,
              "#9c179e"
             ],
             [
              0.4444444444444444,
              "#bd3786"
             ],
             [
              0.5555555555555556,
              "#d8576b"
             ],
             [
              0.6666666666666666,
              "#ed7953"
             ],
             [
              0.7777777777777778,
              "#fb9f3a"
             ],
             [
              0.8888888888888888,
              "#fdca26"
             ],
             [
              1,
              "#f0f921"
             ]
            ],
            "type": "heatmap"
           }
          ],
          "histogram": [
           {
            "marker": {
             "pattern": {
              "fillmode": "overlay",
              "size": 10,
              "solidity": 0.2
             }
            },
            "type": "histogram"
           }
          ],
          "histogram2d": [
           {
            "colorbar": {
             "outlinewidth": 0,
             "ticks": ""
            },
            "colorscale": [
             [
              0,
              "#0d0887"
             ],
             [
              0.1111111111111111,
              "#46039f"
             ],
             [
              0.2222222222222222,
              "#7201a8"
             ],
             [
              0.3333333333333333,
              "#9c179e"
             ],
             [
              0.4444444444444444,
              "#bd3786"
             ],
             [
              0.5555555555555556,
              "#d8576b"
             ],
             [
              0.6666666666666666,
              "#ed7953"
             ],
             [
              0.7777777777777778,
              "#fb9f3a"
             ],
             [
              0.8888888888888888,
              "#fdca26"
             ],
             [
              1,
              "#f0f921"
             ]
            ],
            "type": "histogram2d"
           }
          ],
          "histogram2dcontour": [
           {
            "colorbar": {
             "outlinewidth": 0,
             "ticks": ""
            },
            "colorscale": [
             [
              0,
              "#0d0887"
             ],
             [
              0.1111111111111111,
              "#46039f"
             ],
             [
              0.2222222222222222,
              "#7201a8"
             ],
             [
              0.3333333333333333,
              "#9c179e"
             ],
             [
              0.4444444444444444,
              "#bd3786"
             ],
             [
              0.5555555555555556,
              "#d8576b"
             ],
             [
              0.6666666666666666,
              "#ed7953"
             ],
             [
              0.7777777777777778,
              "#fb9f3a"
             ],
             [
              0.8888888888888888,
              "#fdca26"
             ],
             [
              1,
              "#f0f921"
             ]
            ],
            "type": "histogram2dcontour"
           }
          ],
          "mesh3d": [
           {
            "colorbar": {
             "outlinewidth": 0,
             "ticks": ""
            },
            "type": "mesh3d"
           }
          ],
          "parcoords": [
           {
            "line": {
             "colorbar": {
              "outlinewidth": 0,
              "ticks": ""
             }
            },
            "type": "parcoords"
           }
          ],
          "pie": [
           {
            "automargin": true,
            "type": "pie"
           }
          ],
          "scatter": [
           {
            "fillpattern": {
             "fillmode": "overlay",
             "size": 10,
             "solidity": 0.2
            },
            "type": "scatter"
           }
          ],
          "scatter3d": [
           {
            "line": {
             "colorbar": {
              "outlinewidth": 0,
              "ticks": ""
             }
            },
            "marker": {
             "colorbar": {
              "outlinewidth": 0,
              "ticks": ""
             }
            },
            "type": "scatter3d"
           }
          ],
          "scattercarpet": [
           {
            "marker": {
             "colorbar": {
              "outlinewidth": 0,
              "ticks": ""
             }
            },
            "type": "scattercarpet"
           }
          ],
          "scattergeo": [
           {
            "marker": {
             "colorbar": {
              "outlinewidth": 0,
              "ticks": ""
             }
            },
            "type": "scattergeo"
           }
          ],
          "scattergl": [
           {
            "marker": {
             "colorbar": {
              "outlinewidth": 0,
              "ticks": ""
             }
            },
            "type": "scattergl"
           }
          ],
          "scattermap": [
           {
            "marker": {
             "colorbar": {
              "outlinewidth": 0,
              "ticks": ""
             }
            },
            "type": "scattermap"
           }
          ],
          "scattermapbox": [
           {
            "marker": {
             "colorbar": {
              "outlinewidth": 0,
              "ticks": ""
             }
            },
            "type": "scattermapbox"
           }
          ],
          "scatterpolar": [
           {
            "marker": {
             "colorbar": {
              "outlinewidth": 0,
              "ticks": ""
             }
            },
            "type": "scatterpolar"
           }
          ],
          "scatterpolargl": [
           {
            "marker": {
             "colorbar": {
              "outlinewidth": 0,
              "ticks": ""
             }
            },
            "type": "scatterpolargl"
           }
          ],
          "scatterternary": [
           {
            "marker": {
             "colorbar": {
              "outlinewidth": 0,
              "ticks": ""
             }
            },
            "type": "scatterternary"
           }
          ],
          "surface": [
           {
            "colorbar": {
             "outlinewidth": 0,
             "ticks": ""
            },
            "colorscale": [
             [
              0,
              "#0d0887"
             ],
             [
              0.1111111111111111,
              "#46039f"
             ],
             [
              0.2222222222222222,
              "#7201a8"
             ],
             [
              0.3333333333333333,
              "#9c179e"
             ],
             [
              0.4444444444444444,
              "#bd3786"
             ],
             [
              0.5555555555555556,
              "#d8576b"
             ],
             [
              0.6666666666666666,
              "#ed7953"
             ],
             [
              0.7777777777777778,
              "#fb9f3a"
             ],
             [
              0.8888888888888888,
              "#fdca26"
             ],
             [
              1,
              "#f0f921"
             ]
            ],
            "type": "surface"
           }
          ],
          "table": [
           {
            "cells": {
             "fill": {
              "color": "#EBF0F8"
             },
             "line": {
              "color": "white"
             }
            },
            "header": {
             "fill": {
              "color": "#C8D4E3"
             },
             "line": {
              "color": "white"
             }
            },
            "type": "table"
           }
          ]
         },
         "layout": {
          "annotationdefaults": {
           "arrowcolor": "#2a3f5f",
           "arrowhead": 0,
           "arrowwidth": 1
          },
          "autotypenumbers": "strict",
          "coloraxis": {
           "colorbar": {
            "outlinewidth": 0,
            "ticks": ""
           }
          },
          "colorscale": {
           "diverging": [
            [
             0,
             "#8e0152"
            ],
            [
             0.1,
             "#c51b7d"
            ],
            [
             0.2,
             "#de77ae"
            ],
            [
             0.3,
             "#f1b6da"
            ],
            [
             0.4,
             "#fde0ef"
            ],
            [
             0.5,
             "#f7f7f7"
            ],
            [
             0.6,
             "#e6f5d0"
            ],
            [
             0.7,
             "#b8e186"
            ],
            [
             0.8,
             "#7fbc41"
            ],
            [
             0.9,
             "#4d9221"
            ],
            [
             1,
             "#276419"
            ]
           ],
           "sequential": [
            [
             0,
             "#0d0887"
            ],
            [
             0.1111111111111111,
             "#46039f"
            ],
            [
             0.2222222222222222,
             "#7201a8"
            ],
            [
             0.3333333333333333,
             "#9c179e"
            ],
            [
             0.4444444444444444,
             "#bd3786"
            ],
            [
             0.5555555555555556,
             "#d8576b"
            ],
            [
             0.6666666666666666,
             "#ed7953"
            ],
            [
             0.7777777777777778,
             "#fb9f3a"
            ],
            [
             0.8888888888888888,
             "#fdca26"
            ],
            [
             1,
             "#f0f921"
            ]
           ],
           "sequentialminus": [
            [
             0,
             "#0d0887"
            ],
            [
             0.1111111111111111,
             "#46039f"
            ],
            [
             0.2222222222222222,
             "#7201a8"
            ],
            [
             0.3333333333333333,
             "#9c179e"
            ],
            [
             0.4444444444444444,
             "#bd3786"
            ],
            [
             0.5555555555555556,
             "#d8576b"
            ],
            [
             0.6666666666666666,
             "#ed7953"
            ],
            [
             0.7777777777777778,
             "#fb9f3a"
            ],
            [
             0.8888888888888888,
             "#fdca26"
            ],
            [
             1,
             "#f0f921"
            ]
           ]
          },
          "colorway": [
           "#636efa",
           "#EF553B",
           "#00cc96",
           "#ab63fa",
           "#FFA15A",
           "#19d3f3",
           "#FF6692",
           "#B6E880",
           "#FF97FF",
           "#FECB52"
          ],
          "font": {
           "color": "#2a3f5f"
          },
          "geo": {
           "bgcolor": "white",
           "lakecolor": "white",
           "landcolor": "#E5ECF6",
           "showlakes": true,
           "showland": true,
           "subunitcolor": "white"
          },
          "hoverlabel": {
           "align": "left"
          },
          "hovermode": "closest",
          "mapbox": {
           "style": "light"
          },
          "paper_bgcolor": "white",
          "plot_bgcolor": "#E5ECF6",
          "polar": {
           "angularaxis": {
            "gridcolor": "white",
            "linecolor": "white",
            "ticks": ""
           },
           "bgcolor": "#E5ECF6",
           "radialaxis": {
            "gridcolor": "white",
            "linecolor": "white",
            "ticks": ""
           }
          },
          "scene": {
           "xaxis": {
            "backgroundcolor": "#E5ECF6",
            "gridcolor": "white",
            "gridwidth": 2,
            "linecolor": "white",
            "showbackground": true,
            "ticks": "",
            "zerolinecolor": "white"
           },
           "yaxis": {
            "backgroundcolor": "#E5ECF6",
            "gridcolor": "white",
            "gridwidth": 2,
            "linecolor": "white",
            "showbackground": true,
            "ticks": "",
            "zerolinecolor": "white"
           },
           "zaxis": {
            "backgroundcolor": "#E5ECF6",
            "gridcolor": "white",
            "gridwidth": 2,
            "linecolor": "white",
            "showbackground": true,
            "ticks": "",
            "zerolinecolor": "white"
           }
          },
          "shapedefaults": {
           "line": {
            "color": "#2a3f5f"
           }
          },
          "ternary": {
           "aaxis": {
            "gridcolor": "white",
            "linecolor": "white",
            "ticks": ""
           },
           "baxis": {
            "gridcolor": "white",
            "linecolor": "white",
            "ticks": ""
           },
           "bgcolor": "#E5ECF6",
           "caxis": {
            "gridcolor": "white",
            "linecolor": "white",
            "ticks": ""
           }
          },
          "title": {
           "x": 0.05
          },
          "xaxis": {
           "automargin": true,
           "gridcolor": "white",
           "linecolor": "white",
           "ticks": "",
           "title": {
            "standoff": 15
           },
           "zerolinecolor": "white",
           "zerolinewidth": 2
          },
          "yaxis": {
           "automargin": true,
           "gridcolor": "white",
           "linecolor": "white",
           "ticks": "",
           "title": {
            "standoff": 15
           },
           "zerolinecolor": "white",
           "zerolinewidth": 2
          }
         }
        },
        "title": {
         "text": "Top 10 Customers by Net Spending (with Order Frequency)"
        },
        "xaxis": {
         "anchor": "y",
         "domain": [
          0,
          1
         ],
         "title": {
          "text": "Net Spending ($)"
         }
        },
        "yaxis": {
         "anchor": "x",
         "domain": [
          0,
          1
         ],
         "title": {
          "text": "Customer (Orders)"
         }
        }
       }
      }
     },
     "metadata": {},
     "output_type": "display_data"
    },
    {
     "name": "stdout",
     "output_type": "stream",
     "text": [
      "📊 Top 10 Customers by Net Spending\n"
     ]
    },
    {
     "data": {
      "text/html": [
       "<div>\n",
       "<style scoped>\n",
       "    .dataframe tbody tr th:only-of-type {\n",
       "        vertical-align: middle;\n",
       "    }\n",
       "\n",
       "    .dataframe tbody tr th {\n",
       "        vertical-align: top;\n",
       "    }\n",
       "\n",
       "    .dataframe thead th {\n",
       "        text-align: right;\n",
       "    }\n",
       "</style>\n",
       "<table border=\"1\" class=\"dataframe\">\n",
       "  <thead>\n",
       "    <tr style=\"text-align: right;\">\n",
       "      <th></th>\n",
       "      <th>CUSTOMERNAME</th>\n",
       "      <th>NUM_ORDERS</th>\n",
       "      <th>TOTAL_SPENT</th>\n",
       "      <th>TOTAL_REFUNDS</th>\n",
       "      <th>NET_SPENDING</th>\n",
       "      <th>LAST_ORDER_DATE</th>\n",
       "    </tr>\n",
       "  </thead>\n",
       "  <tbody>\n",
       "    <tr>\n",
       "      <th>88</th>\n",
       "      <td>Signal Gift Stores</td>\n",
       "      <td>29</td>\n",
       "      <td>12585.0</td>\n",
       "      <td>8828.1</td>\n",
       "      <td>3756.9</td>\n",
       "      <td>2004-11-29</td>\n",
       "    </tr>\n",
       "    <tr>\n",
       "      <th>86</th>\n",
       "      <td>Iberia Gift Imports, Corp.</td>\n",
       "      <td>15</td>\n",
       "      <td>7565.0</td>\n",
       "      <td>4790.7</td>\n",
       "      <td>2774.3</td>\n",
       "      <td>2004-10-06</td>\n",
       "    </tr>\n",
       "    <tr>\n",
       "      <th>33</th>\n",
       "      <td>Super Scale Inc.</td>\n",
       "      <td>17</td>\n",
       "      <td>5429.0</td>\n",
       "      <td>4608.0</td>\n",
       "      <td>821.0</td>\n",
       "      <td>2004-05-04</td>\n",
       "    </tr>\n",
       "    <tr>\n",
       "      <th>78</th>\n",
       "      <td>Technics Stores Inc.</td>\n",
       "      <td>34</td>\n",
       "      <td>11322.0</td>\n",
       "      <td>10745.1</td>\n",
       "      <td>576.9</td>\n",
       "      <td>2005-01-05</td>\n",
       "    </tr>\n",
       "    <tr>\n",
       "      <th>53</th>\n",
       "      <td>Classic Legends Inc.</td>\n",
       "      <td>20</td>\n",
       "      <td>6118.0</td>\n",
       "      <td>5544.0</td>\n",
       "      <td>574.0</td>\n",
       "      <td>2004-11-21</td>\n",
       "    </tr>\n",
       "    <tr>\n",
       "      <th>45</th>\n",
       "      <td>Microscale Inc.</td>\n",
       "      <td>10</td>\n",
       "      <td>3119.0</td>\n",
       "      <td>2655.0</td>\n",
       "      <td>464.0</td>\n",
       "      <td>2004-11-03</td>\n",
       "    </tr>\n",
       "    <tr>\n",
       "      <th>12</th>\n",
       "      <td>Souveniers And Things Co.</td>\n",
       "      <td>46</td>\n",
       "      <td>14644.0</td>\n",
       "      <td>14944.5</td>\n",
       "      <td>-300.5</td>\n",
       "      <td>2005-05-29</td>\n",
       "    </tr>\n",
       "    <tr>\n",
       "      <th>85</th>\n",
       "      <td>Online Mini Collectables</td>\n",
       "      <td>15</td>\n",
       "      <td>5082.0</td>\n",
       "      <td>5733.9</td>\n",
       "      <td>-651.9</td>\n",
       "      <td>2004-09-10</td>\n",
       "    </tr>\n",
       "    <tr>\n",
       "      <th>65</th>\n",
       "      <td>giftsbymail.co.uk</td>\n",
       "      <td>26</td>\n",
       "      <td>7410.0</td>\n",
       "      <td>9847.8</td>\n",
       "      <td>-2437.8</td>\n",
       "      <td>2004-11-01</td>\n",
       "    </tr>\n",
       "    <tr>\n",
       "      <th>48</th>\n",
       "      <td>Toys4GrownUps.com</td>\n",
       "      <td>30</td>\n",
       "      <td>6883.0</td>\n",
       "      <td>9534.6</td>\n",
       "      <td>-2651.6</td>\n",
       "      <td>2005-01-12</td>\n",
       "    </tr>\n",
       "  </tbody>\n",
       "</table>\n",
       "</div>"
      ],
      "text/plain": [
       "                  CUSTOMERNAME  NUM_ORDERS  TOTAL_SPENT  TOTAL_REFUNDS  \\\n",
       "88          Signal Gift Stores          29      12585.0         8828.1   \n",
       "86  Iberia Gift Imports, Corp.          15       7565.0         4790.7   \n",
       "33            Super Scale Inc.          17       5429.0         4608.0   \n",
       "78        Technics Stores Inc.          34      11322.0        10745.1   \n",
       "53        Classic Legends Inc.          20       6118.0         5544.0   \n",
       "45             Microscale Inc.          10       3119.0         2655.0   \n",
       "12   Souveniers And Things Co.          46      14644.0        14944.5   \n",
       "85    Online Mini Collectables          15       5082.0         5733.9   \n",
       "65           giftsbymail.co.uk          26       7410.0         9847.8   \n",
       "48           Toys4GrownUps.com          30       6883.0         9534.6   \n",
       "\n",
       "    NET_SPENDING LAST_ORDER_DATE  \n",
       "88        3756.9      2004-11-29  \n",
       "86        2774.3      2004-10-06  \n",
       "33         821.0      2004-05-04  \n",
       "78         576.9      2005-01-05  \n",
       "53         574.0      2004-11-21  \n",
       "45         464.0      2004-11-03  \n",
       "12        -300.5      2005-05-29  \n",
       "85        -651.9      2004-09-10  \n",
       "65       -2437.8      2004-11-01  \n",
       "48       -2651.6      2005-01-12  "
      ]
     },
     "metadata": {},
     "output_type": "display_data"
    },
    {
     "data": {
      "application/vnd.plotly.v1+json": {
       "config": {
        "plotlyServerURL": "https://plot.ly"
       },
       "data": [
        {
         "hovertemplate": "Number of Orders=%{marker.color}<br>Customer (Net Spending)=%{y}<extra></extra>",
         "legendgroup": "",
         "marker": {
          "color": {
           "bdata": "LgAuADAAMAAxADMANQA3ALQAAwE=",
           "dtype": "i2"
          },
          "coloraxis": "coloraxis",
          "pattern": {
           "shape": ""
          }
         },
         "name": "",
         "orientation": "h",
         "showlegend": false,
         "text": {
          "bdata": "AAAAAAAAR0AAAAAAAABHQAAAAAAAAEhAAAAAAAAASEAAAAAAAIBIQAAAAAAAgElAAAAAAACASkAAAAAAAIBLQAAAAAAAgGZAAAAAAAAwcEA=",
          "dtype": "f8"
         },
         "textposition": "outside",
         "texttemplate": "%{text}",
         "type": "bar",
         "x": {
          "bdata": "LgAuADAAMAAxADMANQA3ALQAAwE=",
          "dtype": "i2"
         },
         "xaxis": "x",
         "y": [
          "Anna's Decorations, Ltd ($-24109.20)",
          "Souveniers And Things Co. ($-300.50)",
          "Rovelli Gifts ($-18053.90)",
          "Muscle Machine Inc ($-29720.50)",
          "Land of Toys Inc. ($-13379.70)",
          "AV Stores, Co. ($-7172.50)",
          "La Rochelle Gifts ($-18634.90)",
          "Australian Collectors, Co. ($-25380.90)",
          "Mini Gifts Distributors Ltd. ($-43961.70)",
          "Euro Shopping Channel ($-134366.00)"
         ],
         "yaxis": "y"
        }
       ],
       "layout": {
        "barmode": "relative",
        "coloraxis": {
         "colorbar": {
          "title": {
           "text": "Number of Orders"
          }
         },
         "colorscale": [
          [
           0,
           "#0d0887"
          ],
          [
           0.1111111111111111,
           "#46039f"
          ],
          [
           0.2222222222222222,
           "#7201a8"
          ],
          [
           0.3333333333333333,
           "#9c179e"
          ],
          [
           0.4444444444444444,
           "#bd3786"
          ],
          [
           0.5555555555555556,
           "#d8576b"
          ],
          [
           0.6666666666666666,
           "#ed7953"
          ],
          [
           0.7777777777777778,
           "#fb9f3a"
          ],
          [
           0.8888888888888888,
           "#fdca26"
          ],
          [
           1,
           "#f0f921"
          ]
         ]
        },
        "legend": {
         "tracegroupgap": 0
        },
        "template": {
         "data": {
          "bar": [
           {
            "error_x": {
             "color": "#2a3f5f"
            },
            "error_y": {
             "color": "#2a3f5f"
            },
            "marker": {
             "line": {
              "color": "#E5ECF6",
              "width": 0.5
             },
             "pattern": {
              "fillmode": "overlay",
              "size": 10,
              "solidity": 0.2
             }
            },
            "type": "bar"
           }
          ],
          "barpolar": [
           {
            "marker": {
             "line": {
              "color": "#E5ECF6",
              "width": 0.5
             },
             "pattern": {
              "fillmode": "overlay",
              "size": 10,
              "solidity": 0.2
             }
            },
            "type": "barpolar"
           }
          ],
          "carpet": [
           {
            "aaxis": {
             "endlinecolor": "#2a3f5f",
             "gridcolor": "white",
             "linecolor": "white",
             "minorgridcolor": "white",
             "startlinecolor": "#2a3f5f"
            },
            "baxis": {
             "endlinecolor": "#2a3f5f",
             "gridcolor": "white",
             "linecolor": "white",
             "minorgridcolor": "white",
             "startlinecolor": "#2a3f5f"
            },
            "type": "carpet"
           }
          ],
          "choropleth": [
           {
            "colorbar": {
             "outlinewidth": 0,
             "ticks": ""
            },
            "type": "choropleth"
           }
          ],
          "contour": [
           {
            "colorbar": {
             "outlinewidth": 0,
             "ticks": ""
            },
            "colorscale": [
             [
              0,
              "#0d0887"
             ],
             [
              0.1111111111111111,
              "#46039f"
             ],
             [
              0.2222222222222222,
              "#7201a8"
             ],
             [
              0.3333333333333333,
              "#9c179e"
             ],
             [
              0.4444444444444444,
              "#bd3786"
             ],
             [
              0.5555555555555556,
              "#d8576b"
             ],
             [
              0.6666666666666666,
              "#ed7953"
             ],
             [
              0.7777777777777778,
              "#fb9f3a"
             ],
             [
              0.8888888888888888,
              "#fdca26"
             ],
             [
              1,
              "#f0f921"
             ]
            ],
            "type": "contour"
           }
          ],
          "contourcarpet": [
           {
            "colorbar": {
             "outlinewidth": 0,
             "ticks": ""
            },
            "type": "contourcarpet"
           }
          ],
          "heatmap": [
           {
            "colorbar": {
             "outlinewidth": 0,
             "ticks": ""
            },
            "colorscale": [
             [
              0,
              "#0d0887"
             ],
             [
              0.1111111111111111,
              "#46039f"
             ],
             [
              0.2222222222222222,
              "#7201a8"
             ],
             [
              0.3333333333333333,
              "#9c179e"
             ],
             [
              0.4444444444444444,
              "#bd3786"
             ],
             [
              0.5555555555555556,
              "#d8576b"
             ],
             [
              0.6666666666666666,
              "#ed7953"
             ],
             [
              0.7777777777777778,
              "#fb9f3a"
             ],
             [
              0.8888888888888888,
              "#fdca26"
             ],
             [
              1,
              "#f0f921"
             ]
            ],
            "type": "heatmap"
           }
          ],
          "histogram": [
           {
            "marker": {
             "pattern": {
              "fillmode": "overlay",
              "size": 10,
              "solidity": 0.2
             }
            },
            "type": "histogram"
           }
          ],
          "histogram2d": [
           {
            "colorbar": {
             "outlinewidth": 0,
             "ticks": ""
            },
            "colorscale": [
             [
              0,
              "#0d0887"
             ],
             [
              0.1111111111111111,
              "#46039f"
             ],
             [
              0.2222222222222222,
              "#7201a8"
             ],
             [
              0.3333333333333333,
              "#9c179e"
             ],
             [
              0.4444444444444444,
              "#bd3786"
             ],
             [
              0.5555555555555556,
              "#d8576b"
             ],
             [
              0.6666666666666666,
              "#ed7953"
             ],
             [
              0.7777777777777778,
              "#fb9f3a"
             ],
             [
              0.8888888888888888,
              "#fdca26"
             ],
             [
              1,
              "#f0f921"
             ]
            ],
            "type": "histogram2d"
           }
          ],
          "histogram2dcontour": [
           {
            "colorbar": {
             "outlinewidth": 0,
             "ticks": ""
            },
            "colorscale": [
             [
              0,
              "#0d0887"
             ],
             [
              0.1111111111111111,
              "#46039f"
             ],
             [
              0.2222222222222222,
              "#7201a8"
             ],
             [
              0.3333333333333333,
              "#9c179e"
             ],
             [
              0.4444444444444444,
              "#bd3786"
             ],
             [
              0.5555555555555556,
              "#d8576b"
             ],
             [
              0.6666666666666666,
              "#ed7953"
             ],
             [
              0.7777777777777778,
              "#fb9f3a"
             ],
             [
              0.8888888888888888,
              "#fdca26"
             ],
             [
              1,
              "#f0f921"
             ]
            ],
            "type": "histogram2dcontour"
           }
          ],
          "mesh3d": [
           {
            "colorbar": {
             "outlinewidth": 0,
             "ticks": ""
            },
            "type": "mesh3d"
           }
          ],
          "parcoords": [
           {
            "line": {
             "colorbar": {
              "outlinewidth": 0,
              "ticks": ""
             }
            },
            "type": "parcoords"
           }
          ],
          "pie": [
           {
            "automargin": true,
            "type": "pie"
           }
          ],
          "scatter": [
           {
            "fillpattern": {
             "fillmode": "overlay",
             "size": 10,
             "solidity": 0.2
            },
            "type": "scatter"
           }
          ],
          "scatter3d": [
           {
            "line": {
             "colorbar": {
              "outlinewidth": 0,
              "ticks": ""
             }
            },
            "marker": {
             "colorbar": {
              "outlinewidth": 0,
              "ticks": ""
             }
            },
            "type": "scatter3d"
           }
          ],
          "scattercarpet": [
           {
            "marker": {
             "colorbar": {
              "outlinewidth": 0,
              "ticks": ""
             }
            },
            "type": "scattercarpet"
           }
          ],
          "scattergeo": [
           {
            "marker": {
             "colorbar": {
              "outlinewidth": 0,
              "ticks": ""
             }
            },
            "type": "scattergeo"
           }
          ],
          "scattergl": [
           {
            "marker": {
             "colorbar": {
              "outlinewidth": 0,
              "ticks": ""
             }
            },
            "type": "scattergl"
           }
          ],
          "scattermap": [
           {
            "marker": {
             "colorbar": {
              "outlinewidth": 0,
              "ticks": ""
             }
            },
            "type": "scattermap"
           }
          ],
          "scattermapbox": [
           {
            "marker": {
             "colorbar": {
              "outlinewidth": 0,
              "ticks": ""
             }
            },
            "type": "scattermapbox"
           }
          ],
          "scatterpolar": [
           {
            "marker": {
             "colorbar": {
              "outlinewidth": 0,
              "ticks": ""
             }
            },
            "type": "scatterpolar"
           }
          ],
          "scatterpolargl": [
           {
            "marker": {
             "colorbar": {
              "outlinewidth": 0,
              "ticks": ""
             }
            },
            "type": "scatterpolargl"
           }
          ],
          "scatterternary": [
           {
            "marker": {
             "colorbar": {
              "outlinewidth": 0,
              "ticks": ""
             }
            },
            "type": "scatterternary"
           }
          ],
          "surface": [
           {
            "colorbar": {
             "outlinewidth": 0,
             "ticks": ""
            },
            "colorscale": [
             [
              0,
              "#0d0887"
             ],
             [
              0.1111111111111111,
              "#46039f"
             ],
             [
              0.2222222222222222,
              "#7201a8"
             ],
             [
              0.3333333333333333,
              "#9c179e"
             ],
             [
              0.4444444444444444,
              "#bd3786"
             ],
             [
              0.5555555555555556,
              "#d8576b"
             ],
             [
              0.6666666666666666,
              "#ed7953"
             ],
             [
              0.7777777777777778,
              "#fb9f3a"
             ],
             [
              0.8888888888888888,
              "#fdca26"
             ],
             [
              1,
              "#f0f921"
             ]
            ],
            "type": "surface"
           }
          ],
          "table": [
           {
            "cells": {
             "fill": {
              "color": "#EBF0F8"
             },
             "line": {
              "color": "white"
             }
            },
            "header": {
             "fill": {
              "color": "#C8D4E3"
             },
             "line": {
              "color": "white"
             }
            },
            "type": "table"
           }
          ]
         },
         "layout": {
          "annotationdefaults": {
           "arrowcolor": "#2a3f5f",
           "arrowhead": 0,
           "arrowwidth": 1
          },
          "autotypenumbers": "strict",
          "coloraxis": {
           "colorbar": {
            "outlinewidth": 0,
            "ticks": ""
           }
          },
          "colorscale": {
           "diverging": [
            [
             0,
             "#8e0152"
            ],
            [
             0.1,
             "#c51b7d"
            ],
            [
             0.2,
             "#de77ae"
            ],
            [
             0.3,
             "#f1b6da"
            ],
            [
             0.4,
             "#fde0ef"
            ],
            [
             0.5,
             "#f7f7f7"
            ],
            [
             0.6,
             "#e6f5d0"
            ],
            [
             0.7,
             "#b8e186"
            ],
            [
             0.8,
             "#7fbc41"
            ],
            [
             0.9,
             "#4d9221"
            ],
            [
             1,
             "#276419"
            ]
           ],
           "sequential": [
            [
             0,
             "#0d0887"
            ],
            [
             0.1111111111111111,
             "#46039f"
            ],
            [
             0.2222222222222222,
             "#7201a8"
            ],
            [
             0.3333333333333333,
             "#9c179e"
            ],
            [
             0.4444444444444444,
             "#bd3786"
            ],
            [
             0.5555555555555556,
             "#d8576b"
            ],
            [
             0.6666666666666666,
             "#ed7953"
            ],
            [
             0.7777777777777778,
             "#fb9f3a"
            ],
            [
             0.8888888888888888,
             "#fdca26"
            ],
            [
             1,
             "#f0f921"
            ]
           ],
           "sequentialminus": [
            [
             0,
             "#0d0887"
            ],
            [
             0.1111111111111111,
             "#46039f"
            ],
            [
             0.2222222222222222,
             "#7201a8"
            ],
            [
             0.3333333333333333,
             "#9c179e"
            ],
            [
             0.4444444444444444,
             "#bd3786"
            ],
            [
             0.5555555555555556,
             "#d8576b"
            ],
            [
             0.6666666666666666,
             "#ed7953"
            ],
            [
             0.7777777777777778,
             "#fb9f3a"
            ],
            [
             0.8888888888888888,
             "#fdca26"
            ],
            [
             1,
             "#f0f921"
            ]
           ]
          },
          "colorway": [
           "#636efa",
           "#EF553B",
           "#00cc96",
           "#ab63fa",
           "#FFA15A",
           "#19d3f3",
           "#FF6692",
           "#B6E880",
           "#FF97FF",
           "#FECB52"
          ],
          "font": {
           "color": "#2a3f5f"
          },
          "geo": {
           "bgcolor": "white",
           "lakecolor": "white",
           "landcolor": "#E5ECF6",
           "showlakes": true,
           "showland": true,
           "subunitcolor": "white"
          },
          "hoverlabel": {
           "align": "left"
          },
          "hovermode": "closest",
          "mapbox": {
           "style": "light"
          },
          "paper_bgcolor": "white",
          "plot_bgcolor": "#E5ECF6",
          "polar": {
           "angularaxis": {
            "gridcolor": "white",
            "linecolor": "white",
            "ticks": ""
           },
           "bgcolor": "#E5ECF6",
           "radialaxis": {
            "gridcolor": "white",
            "linecolor": "white",
            "ticks": ""
           }
          },
          "scene": {
           "xaxis": {
            "backgroundcolor": "#E5ECF6",
            "gridcolor": "white",
            "gridwidth": 2,
            "linecolor": "white",
            "showbackground": true,
            "ticks": "",
            "zerolinecolor": "white"
           },
           "yaxis": {
            "backgroundcolor": "#E5ECF6",
            "gridcolor": "white",
            "gridwidth": 2,
            "linecolor": "white",
            "showbackground": true,
            "ticks": "",
            "zerolinecolor": "white"
           },
           "zaxis": {
            "backgroundcolor": "#E5ECF6",
            "gridcolor": "white",
            "gridwidth": 2,
            "linecolor": "white",
            "showbackground": true,
            "ticks": "",
            "zerolinecolor": "white"
           }
          },
          "shapedefaults": {
           "line": {
            "color": "#2a3f5f"
           }
          },
          "ternary": {
           "aaxis": {
            "gridcolor": "white",
            "linecolor": "white",
            "ticks": ""
           },
           "baxis": {
            "gridcolor": "white",
            "linecolor": "white",
            "ticks": ""
           },
           "bgcolor": "#E5ECF6",
           "caxis": {
            "gridcolor": "white",
            "linecolor": "white",
            "ticks": ""
           }
          },
          "title": {
           "x": 0.05
          },
          "xaxis": {
           "automargin": true,
           "gridcolor": "white",
           "linecolor": "white",
           "ticks": "",
           "title": {
            "standoff": 15
           },
           "zerolinecolor": "white",
           "zerolinewidth": 2
          },
          "yaxis": {
           "automargin": true,
           "gridcolor": "white",
           "linecolor": "white",
           "ticks": "",
           "title": {
            "standoff": 15
           },
           "zerolinecolor": "white",
           "zerolinewidth": 2
          }
         }
        },
        "title": {
         "text": "Top 10 Customers by Order Frequency (with Net Spending)"
        },
        "xaxis": {
         "anchor": "y",
         "domain": [
          0,
          1
         ],
         "title": {
          "text": "Number of Orders"
         }
        },
        "yaxis": {
         "anchor": "x",
         "domain": [
          0,
          1
         ],
         "title": {
          "text": "Customer (Net Spending)"
         }
        }
       }
      }
     },
     "metadata": {},
     "output_type": "display_data"
    },
    {
     "name": "stdout",
     "output_type": "stream",
     "text": [
      "📊 Top 10 Customers by Order Frequency\n"
     ]
    },
    {
     "data": {
      "text/html": [
       "<div>\n",
       "<style scoped>\n",
       "    .dataframe tbody tr th:only-of-type {\n",
       "        vertical-align: middle;\n",
       "    }\n",
       "\n",
       "    .dataframe tbody tr th {\n",
       "        vertical-align: top;\n",
       "    }\n",
       "\n",
       "    .dataframe thead th {\n",
       "        text-align: right;\n",
       "    }\n",
       "</style>\n",
       "<table border=\"1\" class=\"dataframe\">\n",
       "  <thead>\n",
       "    <tr style=\"text-align: right;\">\n",
       "      <th></th>\n",
       "      <th>CUSTOMERNAME</th>\n",
       "      <th>NUM_ORDERS</th>\n",
       "      <th>TOTAL_SPENT</th>\n",
       "      <th>TOTAL_REFUNDS</th>\n",
       "      <th>NET_SPENDING</th>\n",
       "      <th>LAST_ORDER_DATE</th>\n",
       "    </tr>\n",
       "  </thead>\n",
       "  <tbody>\n",
       "    <tr>\n",
       "      <th>14</th>\n",
       "      <td>Euro Shopping Channel</td>\n",
       "      <td>259</td>\n",
       "      <td>-8564.0</td>\n",
       "      <td>125802.0</td>\n",
       "      <td>-134366.0</td>\n",
       "      <td>2005-05-31</td>\n",
       "    </tr>\n",
       "    <tr>\n",
       "      <th>20</th>\n",
       "      <td>Mini Gifts Distributors Ltd.</td>\n",
       "      <td>180</td>\n",
       "      <td>22668.0</td>\n",
       "      <td>66629.7</td>\n",
       "      <td>-43961.7</td>\n",
       "      <td>2005-05-29</td>\n",
       "    </tr>\n",
       "    <tr>\n",
       "      <th>59</th>\n",
       "      <td>Australian Collectors, Co.</td>\n",
       "      <td>55</td>\n",
       "      <td>-2142.0</td>\n",
       "      <td>23238.9</td>\n",
       "      <td>-25380.9</td>\n",
       "      <td>2004-11-29</td>\n",
       "    </tr>\n",
       "    <tr>\n",
       "      <th>7</th>\n",
       "      <td>La Rochelle Gifts</td>\n",
       "      <td>53</td>\n",
       "      <td>1778.0</td>\n",
       "      <td>20412.9</td>\n",
       "      <td>-18634.9</td>\n",
       "      <td>2005-05-31</td>\n",
       "    </tr>\n",
       "    <tr>\n",
       "      <th>83</th>\n",
       "      <td>AV Stores, Co.</td>\n",
       "      <td>51</td>\n",
       "      <td>8870.0</td>\n",
       "      <td>16042.5</td>\n",
       "      <td>-7172.5</td>\n",
       "      <td>2004-11-17</td>\n",
       "    </tr>\n",
       "    <tr>\n",
       "      <th>0</th>\n",
       "      <td>Land of Toys Inc.</td>\n",
       "      <td>49</td>\n",
       "      <td>7152.0</td>\n",
       "      <td>20531.7</td>\n",
       "      <td>-13379.7</td>\n",
       "      <td>2004-11-15</td>\n",
       "    </tr>\n",
       "    <tr>\n",
       "      <th>28</th>\n",
       "      <td>Muscle Machine Inc</td>\n",
       "      <td>48</td>\n",
       "      <td>-7027.0</td>\n",
       "      <td>22693.5</td>\n",
       "      <td>-29720.5</td>\n",
       "      <td>2004-12-01</td>\n",
       "    </tr>\n",
       "    <tr>\n",
       "      <th>91</th>\n",
       "      <td>Rovelli Gifts</td>\n",
       "      <td>48</td>\n",
       "      <td>2494.0</td>\n",
       "      <td>20547.9</td>\n",
       "      <td>-18053.9</td>\n",
       "      <td>2004-11-12</td>\n",
       "    </tr>\n",
       "    <tr>\n",
       "      <th>12</th>\n",
       "      <td>Souveniers And Things Co.</td>\n",
       "      <td>46</td>\n",
       "      <td>14644.0</td>\n",
       "      <td>14944.5</td>\n",
       "      <td>-300.5</td>\n",
       "      <td>2005-05-29</td>\n",
       "    </tr>\n",
       "    <tr>\n",
       "      <th>37</th>\n",
       "      <td>Anna's Decorations, Ltd</td>\n",
       "      <td>46</td>\n",
       "      <td>-2907.0</td>\n",
       "      <td>21202.2</td>\n",
       "      <td>-24109.2</td>\n",
       "      <td>2005-03-09</td>\n",
       "    </tr>\n",
       "  </tbody>\n",
       "</table>\n",
       "</div>"
      ],
      "text/plain": [
       "                    CUSTOMERNAME  NUM_ORDERS  TOTAL_SPENT  TOTAL_REFUNDS  \\\n",
       "14         Euro Shopping Channel         259      -8564.0       125802.0   \n",
       "20  Mini Gifts Distributors Ltd.         180      22668.0        66629.7   \n",
       "59    Australian Collectors, Co.          55      -2142.0        23238.9   \n",
       "7              La Rochelle Gifts          53       1778.0        20412.9   \n",
       "83                AV Stores, Co.          51       8870.0        16042.5   \n",
       "0              Land of Toys Inc.          49       7152.0        20531.7   \n",
       "28            Muscle Machine Inc          48      -7027.0        22693.5   \n",
       "91                 Rovelli Gifts          48       2494.0        20547.9   \n",
       "12     Souveniers And Things Co.          46      14644.0        14944.5   \n",
       "37       Anna's Decorations, Ltd          46      -2907.0        21202.2   \n",
       "\n",
       "    NET_SPENDING LAST_ORDER_DATE  \n",
       "14     -134366.0      2005-05-31  \n",
       "20      -43961.7      2005-05-29  \n",
       "59      -25380.9      2004-11-29  \n",
       "7       -18634.9      2005-05-31  \n",
       "83       -7172.5      2004-11-17  \n",
       "0       -13379.7      2004-11-15  \n",
       "28      -29720.5      2004-12-01  \n",
       "91      -18053.9      2004-11-12  \n",
       "12        -300.5      2005-05-29  \n",
       "37      -24109.2      2005-03-09  "
      ]
     },
     "metadata": {},
     "output_type": "display_data"
    }
   ],
   "source": [
    "import pandas as pd\n",
    "import plotly.express as px\n",
    "\n",
    "# -----------------------------\n",
    "# Pull aggregated customer data from Snowflake\n",
    "# -----------------------------\n",
    "conn = snowflake_conn()\n",
    "query = \"\"\"\n",
    "SELECT \n",
    "    CUSTOMERNAME,\n",
    "    COUNT(ORDERNUMBER) AS NUM_ORDERS,\n",
    "    SUM(TOTAL_AMOUNT) AS TOTAL_SPENT,\n",
    "    SUM(FINAL_REFUND_AMOUNT) AS TOTAL_REFUNDS,\n",
    "    SUM(TOTAL_AMOUNT) - SUM(FINAL_REFUND_AMOUNT) AS NET_SPENDING,\n",
    "    MAX(STD_ORDERDATE) AS LAST_ORDER_DATE\n",
    "FROM TRANSACTIONS\n",
    "GROUP BY CUSTOMERNAME\n",
    "\"\"\"\n",
    "df_customers = pd.read_sql(query, conn)\n",
    "conn.close()\n",
    "\n",
    "# -----------------------------\n",
    "# Top 10 by Net Spending (show order frequency in brackets)\n",
    "# -----------------------------\n",
    "df_top10_spent = df_customers.sort_values(by='NET_SPENDING', ascending=False).head(10)\n",
    "df_top10_spent['CUSTOMER_LABEL'] = df_top10_spent.apply(\n",
    "    lambda row: f\"{row['CUSTOMERNAME']} ({row['NUM_ORDERS']} orders)\", axis=1\n",
    ")\n",
    "\n",
    "# Horizontal bar chart\n",
    "fig_top_spent = px.bar(\n",
    "    df_top10_spent[::-1],  # Reverse to show highest on top\n",
    "    x='NET_SPENDING',\n",
    "    y='CUSTOMER_LABEL',\n",
    "    orientation='h',\n",
    "    text='NET_SPENDING',\n",
    "    color='NET_SPENDING',\n",
    "    title='Top 10 Customers by Net Spending (with Order Frequency)',\n",
    "    labels={'NET_SPENDING':'Net Spending ($)', 'CUSTOMER_LABEL':'Customer (Orders)'}\n",
    ")\n",
    "fig_top_spent.update_traces(texttemplate='%{text:.2f}', textposition='outside')\n",
    "fig_top_spent.show()\n",
    "\n",
    "print(\"📊 Top 10 Customers by Net Spending\")\n",
    "display(df_top10_spent[['CUSTOMERNAME', 'NUM_ORDERS', 'TOTAL_SPENT', 'TOTAL_REFUNDS', 'NET_SPENDING', 'LAST_ORDER_DATE']])\n",
    "\n",
    "# -----------------------------\n",
    "# Top 10 by Order Frequency (show net spending in brackets)\n",
    "# -----------------------------\n",
    "df_top10_orders = df_customers.sort_values(by='NUM_ORDERS', ascending=False).head(10)\n",
    "df_top10_orders['CUSTOMER_LABEL'] = df_top10_orders.apply(\n",
    "    lambda row: f\"{row['CUSTOMERNAME']} (${row['NET_SPENDING']:.2f})\", axis=1\n",
    ")\n",
    "\n",
    "# Horizontal bar chart\n",
    "fig_top_orders = px.bar(\n",
    "    df_top10_orders[::-1],  # Reverse to show highest on top\n",
    "    x='NUM_ORDERS',\n",
    "    y='CUSTOMER_LABEL',\n",
    "    orientation='h',\n",
    "    text='NUM_ORDERS',\n",
    "    color='NUM_ORDERS',\n",
    "    title='Top 10 Customers by Order Frequency (with Net Spending)',\n",
    "    labels={'NUM_ORDERS':'Number of Orders', 'CUSTOMER_LABEL':'Customer (Net Spending)'}\n",
    ")\n",
    "fig_top_orders.update_traces(texttemplate='%{text}', textposition='outside')\n",
    "fig_top_orders.show()\n",
    "\n",
    "print(\"📊 Top 10 Customers by Order Frequency\")\n",
    "display(df_top10_orders[['CUSTOMERNAME', 'NUM_ORDERS', 'TOTAL_SPENT', 'TOTAL_REFUNDS', 'NET_SPENDING', 'LAST_ORDER_DATE']])\n"
   ]
  },
  {
   "cell_type": "markdown",
   "id": "56590554",
   "metadata": {},
   "source": [
    "Q9 Calculate the Aggregate on Fiscal Dates\n"
   ]
  },
  {
   "cell_type": "code",
   "execution_count": 28,
   "id": "9f9baecf",
   "metadata": {},
   "outputs": [
    {
     "name": "stderr",
     "output_type": "stream",
     "text": [
      "C:\\Users\\Abhi0618\\AppData\\Local\\Temp\\ipykernel_13280\\106385294.py:9: UserWarning:\n",
      "\n",
      "pandas only supports SQLAlchemy connectable (engine/connection) or database string URI or sqlite3 DBAPI2 connection. Other DBAPI2 objects are not tested. Please consider using SQLAlchemy.\n",
      "\n",
      "C:\\Users\\Abhi0618\\AppData\\Local\\Temp\\ipykernel_13280\\106385294.py:14: UserWarning:\n",
      "\n",
      "pandas only supports SQLAlchemy connectable (engine/connection) or database string URI or sqlite3 DBAPI2 connection. Other DBAPI2 objects are not tested. Please consider using SQLAlchemy.\n",
      "\n"
     ]
    },
    {
     "name": "stdout",
     "output_type": "stream",
     "text": [
      "📊 Weekly Aggregates\n"
     ]
    },
    {
     "name": "stderr",
     "output_type": "stream",
     "text": [
      "C:\\Users\\Abhi0618\\AppData\\Local\\Temp\\ipykernel_13280\\106385294.py:46: FutureWarning:\n",
      "\n",
      "Downcasting object dtype arrays on .fillna, .ffill, .bfill is deprecated and will change in a future version. Call result.infer_objects(copy=False) instead. To opt-in to the future behavior, set `pd.set_option('future.no_silent_downcasting', True)`\n",
      "\n",
      "C:\\Users\\Abhi0618\\AppData\\Local\\Temp\\ipykernel_13280\\106385294.py:47: FutureWarning:\n",
      "\n",
      "Downcasting object dtype arrays on .fillna, .ffill, .bfill is deprecated and will change in a future version. Call result.infer_objects(copy=False) instead. To opt-in to the future behavior, set `pd.set_option('future.no_silent_downcasting', True)`\n",
      "\n",
      "C:\\Users\\Abhi0618\\AppData\\Local\\Temp\\ipykernel_13280\\106385294.py:48: FutureWarning:\n",
      "\n",
      "Downcasting object dtype arrays on .fillna, .ffill, .bfill is deprecated and will change in a future version. Call result.infer_objects(copy=False) instead. To opt-in to the future behavior, set `pd.set_option('future.no_silent_downcasting', True)`\n",
      "\n",
      "C:\\Users\\Abhi0618\\AppData\\Local\\Temp\\ipykernel_13280\\106385294.py:49: FutureWarning:\n",
      "\n",
      "Downcasting object dtype arrays on .fillna, .ffill, .bfill is deprecated and will change in a future version. Call result.infer_objects(copy=False) instead. To opt-in to the future behavior, set `pd.set_option('future.no_silent_downcasting', True)`\n",
      "\n",
      "C:\\Users\\Abhi0618\\AppData\\Local\\Temp\\ipykernel_13280\\106385294.py:50: FutureWarning:\n",
      "\n",
      "Downcasting object dtype arrays on .fillna, .ffill, .bfill is deprecated and will change in a future version. Call result.infer_objects(copy=False) instead. To opt-in to the future behavior, set `pd.set_option('future.no_silent_downcasting', True)`\n",
      "\n",
      "C:\\Users\\Abhi0618\\AppData\\Local\\Temp\\ipykernel_13280\\106385294.py:51: FutureWarning:\n",
      "\n",
      "Downcasting object dtype arrays on .fillna, .ffill, .bfill is deprecated and will change in a future version. Call result.infer_objects(copy=False) instead. To opt-in to the future behavior, set `pd.set_option('future.no_silent_downcasting', True)`\n",
      "\n"
     ]
    },
    {
     "data": {
      "text/html": [
       "<div>\n",
       "<style scoped>\n",
       "    .dataframe tbody tr th:only-of-type {\n",
       "        vertical-align: middle;\n",
       "    }\n",
       "\n",
       "    .dataframe tbody tr th {\n",
       "        vertical-align: top;\n",
       "    }\n",
       "\n",
       "    .dataframe thead th {\n",
       "        text-align: right;\n",
       "    }\n",
       "</style>\n",
       "<table border=\"1\" class=\"dataframe\">\n",
       "  <thead>\n",
       "    <tr style=\"text-align: right;\">\n",
       "      <th></th>\n",
       "      <th>WEEK_KEY</th>\n",
       "      <th>total_sales</th>\n",
       "      <th>total_refunds</th>\n",
       "      <th>net_revenue</th>\n",
       "      <th>total_items</th>\n",
       "    </tr>\n",
       "  </thead>\n",
       "  <tbody>\n",
       "    <tr>\n",
       "      <th>0</th>\n",
       "      <td>2003-W10</td>\n",
       "      <td>-4033</td>\n",
       "      <td>8832.6</td>\n",
       "      <td>-12865.6</td>\n",
       "      <td>16</td>\n",
       "    </tr>\n",
       "    <tr>\n",
       "      <th>1</th>\n",
       "      <td>2003-W11</td>\n",
       "      <td>-3451</td>\n",
       "      <td>3809.7</td>\n",
       "      <td>-7260.7</td>\n",
       "      <td>6</td>\n",
       "    </tr>\n",
       "    <tr>\n",
       "      <th>2</th>\n",
       "      <td>2003-W12</td>\n",
       "      <td>1765</td>\n",
       "      <td>5559.3</td>\n",
       "      <td>-3794.3</td>\n",
       "      <td>16</td>\n",
       "    </tr>\n",
       "    <tr>\n",
       "      <th>3</th>\n",
       "      <td>2003-W13</td>\n",
       "      <td>1657</td>\n",
       "      <td>6500.7</td>\n",
       "      <td>-4843.7</td>\n",
       "      <td>12</td>\n",
       "    </tr>\n",
       "    <tr>\n",
       "      <th>4</th>\n",
       "      <td>2003-W14</td>\n",
       "      <td>-5096</td>\n",
       "      <td>9581.4</td>\n",
       "      <td>-14677.4</td>\n",
       "      <td>15</td>\n",
       "    </tr>\n",
       "    <tr>\n",
       "      <th>5</th>\n",
       "      <td>2003-W15</td>\n",
       "      <td>-308</td>\n",
       "      <td>277.2</td>\n",
       "      <td>-585.2</td>\n",
       "      <td>1</td>\n",
       "    </tr>\n",
       "    <tr>\n",
       "      <th>6</th>\n",
       "      <td>2003-W16</td>\n",
       "      <td>6358</td>\n",
       "      <td>4502.7</td>\n",
       "      <td>1855.3</td>\n",
       "      <td>12</td>\n",
       "    </tr>\n",
       "    <tr>\n",
       "      <th>7</th>\n",
       "      <td>2003-W17</td>\n",
       "      <td>-1334</td>\n",
       "      <td>1200.6</td>\n",
       "      <td>-2534.6</td>\n",
       "      <td>1</td>\n",
       "    </tr>\n",
       "    <tr>\n",
       "      <th>8</th>\n",
       "      <td>2003-W18</td>\n",
       "      <td>-10426</td>\n",
       "      <td>17823.6</td>\n",
       "      <td>-28249.6</td>\n",
       "      <td>29</td>\n",
       "    </tr>\n",
       "    <tr>\n",
       "      <th>9</th>\n",
       "      <td>2003-W19</td>\n",
       "      <td>-3429</td>\n",
       "      <td>13041.0</td>\n",
       "      <td>-16470.0</td>\n",
       "      <td>22</td>\n",
       "    </tr>\n",
       "  </tbody>\n",
       "</table>\n",
       "</div>"
      ],
      "text/plain": [
       "   WEEK_KEY  total_sales  total_refunds  net_revenue  total_items\n",
       "0  2003-W10        -4033         8832.6     -12865.6           16\n",
       "1  2003-W11        -3451         3809.7      -7260.7            6\n",
       "2  2003-W12         1765         5559.3      -3794.3           16\n",
       "3  2003-W13         1657         6500.7      -4843.7           12\n",
       "4  2003-W14        -5096         9581.4     -14677.4           15\n",
       "5  2003-W15         -308          277.2       -585.2            1\n",
       "6  2003-W16         6358         4502.7       1855.3           12\n",
       "7  2003-W17        -1334         1200.6      -2534.6            1\n",
       "8  2003-W18       -10426        17823.6     -28249.6           29\n",
       "9  2003-W19        -3429        13041.0     -16470.0           22"
      ]
     },
     "metadata": {},
     "output_type": "display_data"
    },
    {
     "name": "stdout",
     "output_type": "stream",
     "text": [
      "📊 Monthly Aggregates\n"
     ]
    },
    {
     "data": {
      "text/html": [
       "<div>\n",
       "<style scoped>\n",
       "    .dataframe tbody tr th:only-of-type {\n",
       "        vertical-align: middle;\n",
       "    }\n",
       "\n",
       "    .dataframe tbody tr th {\n",
       "        vertical-align: top;\n",
       "    }\n",
       "\n",
       "    .dataframe thead th {\n",
       "        text-align: right;\n",
       "    }\n",
       "</style>\n",
       "<table border=\"1\" class=\"dataframe\">\n",
       "  <thead>\n",
       "    <tr style=\"text-align: right;\">\n",
       "      <th></th>\n",
       "      <th>MONTH_KEY</th>\n",
       "      <th>total_sales</th>\n",
       "      <th>total_refunds</th>\n",
       "      <th>net_revenue</th>\n",
       "      <th>total_items</th>\n",
       "    </tr>\n",
       "  </thead>\n",
       "  <tbody>\n",
       "    <tr>\n",
       "      <th>0</th>\n",
       "      <td>2003-M1</td>\n",
       "      <td>-5262</td>\n",
       "      <td>21039.3</td>\n",
       "      <td>-26301.3</td>\n",
       "      <td>39</td>\n",
       "    </tr>\n",
       "    <tr>\n",
       "      <th>1</th>\n",
       "      <td>2003-M10</td>\n",
       "      <td>-49</td>\n",
       "      <td>77292.0</td>\n",
       "      <td>-77341.0</td>\n",
       "      <td>158</td>\n",
       "    </tr>\n",
       "    <tr>\n",
       "      <th>2</th>\n",
       "      <td>2003-M11</td>\n",
       "      <td>-9493</td>\n",
       "      <td>139755.6</td>\n",
       "      <td>-149248.6</td>\n",
       "      <td>296</td>\n",
       "    </tr>\n",
       "    <tr>\n",
       "      <th>3</th>\n",
       "      <td>2003-M12</td>\n",
       "      <td>-10978</td>\n",
       "      <td>34258.5</td>\n",
       "      <td>-45236.5</td>\n",
       "      <td>70</td>\n",
       "    </tr>\n",
       "    <tr>\n",
       "      <th>4</th>\n",
       "      <td>2003-M2</td>\n",
       "      <td>14220</td>\n",
       "      <td>14669.1</td>\n",
       "      <td>-449.1</td>\n",
       "      <td>41</td>\n",
       "    </tr>\n",
       "    <tr>\n",
       "      <th>5</th>\n",
       "      <td>2003-M3</td>\n",
       "      <td>-4062</td>\n",
       "      <td>24702.3</td>\n",
       "      <td>-28764.3</td>\n",
       "      <td>50</td>\n",
       "    </tr>\n",
       "    <tr>\n",
       "      <th>6</th>\n",
       "      <td>2003-M4</td>\n",
       "      <td>-10806</td>\n",
       "      <td>33385.5</td>\n",
       "      <td>-44191.5</td>\n",
       "      <td>58</td>\n",
       "    </tr>\n",
       "    <tr>\n",
       "      <th>7</th>\n",
       "      <td>2003-M5</td>\n",
       "      <td>-1840</td>\n",
       "      <td>32364.0</td>\n",
       "      <td>-34204.0</td>\n",
       "      <td>58</td>\n",
       "    </tr>\n",
       "    <tr>\n",
       "      <th>8</th>\n",
       "      <td>2003-M6</td>\n",
       "      <td>972</td>\n",
       "      <td>18628.2</td>\n",
       "      <td>-17656.2</td>\n",
       "      <td>46</td>\n",
       "    </tr>\n",
       "    <tr>\n",
       "      <th>9</th>\n",
       "      <td>2003-M7</td>\n",
       "      <td>13105</td>\n",
       "      <td>15912.0</td>\n",
       "      <td>-2807.0</td>\n",
       "      <td>50</td>\n",
       "    </tr>\n",
       "  </tbody>\n",
       "</table>\n",
       "</div>"
      ],
      "text/plain": [
       "  MONTH_KEY  total_sales  total_refunds  net_revenue  total_items\n",
       "0   2003-M1        -5262        21039.3     -26301.3           39\n",
       "1  2003-M10          -49        77292.0     -77341.0          158\n",
       "2  2003-M11        -9493       139755.6    -149248.6          296\n",
       "3  2003-M12       -10978        34258.5     -45236.5           70\n",
       "4   2003-M2        14220        14669.1       -449.1           41\n",
       "5   2003-M3        -4062        24702.3     -28764.3           50\n",
       "6   2003-M4       -10806        33385.5     -44191.5           58\n",
       "7   2003-M5        -1840        32364.0     -34204.0           58\n",
       "8   2003-M6          972        18628.2     -17656.2           46\n",
       "9   2003-M7        13105        15912.0      -2807.0           50"
      ]
     },
     "metadata": {},
     "output_type": "display_data"
    },
    {
     "name": "stdout",
     "output_type": "stream",
     "text": [
      "📊 Quarterly Aggregates\n"
     ]
    },
    {
     "data": {
      "text/html": [
       "<div>\n",
       "<style scoped>\n",
       "    .dataframe tbody tr th:only-of-type {\n",
       "        vertical-align: middle;\n",
       "    }\n",
       "\n",
       "    .dataframe tbody tr th {\n",
       "        vertical-align: top;\n",
       "    }\n",
       "\n",
       "    .dataframe thead th {\n",
       "        text-align: right;\n",
       "    }\n",
       "</style>\n",
       "<table border=\"1\" class=\"dataframe\">\n",
       "  <thead>\n",
       "    <tr style=\"text-align: right;\">\n",
       "      <th></th>\n",
       "      <th>QUARTER_KEY</th>\n",
       "      <th>total_sales</th>\n",
       "      <th>total_refunds</th>\n",
       "      <th>net_revenue</th>\n",
       "      <th>total_items</th>\n",
       "    </tr>\n",
       "  </thead>\n",
       "  <tbody>\n",
       "    <tr>\n",
       "      <th>0</th>\n",
       "      <td>2003-Q1</td>\n",
       "      <td>4896</td>\n",
       "      <td>60410.7</td>\n",
       "      <td>-55514.7</td>\n",
       "      <td>130</td>\n",
       "    </tr>\n",
       "    <tr>\n",
       "      <th>1</th>\n",
       "      <td>2003-Q2</td>\n",
       "      <td>-11674</td>\n",
       "      <td>84377.7</td>\n",
       "      <td>-96051.7</td>\n",
       "      <td>162</td>\n",
       "    </tr>\n",
       "    <tr>\n",
       "      <th>2</th>\n",
       "      <td>2003-Q3</td>\n",
       "      <td>24314</td>\n",
       "      <td>65600.1</td>\n",
       "      <td>-41286.1</td>\n",
       "      <td>184</td>\n",
       "    </tr>\n",
       "    <tr>\n",
       "      <th>3</th>\n",
       "      <td>2003-Q4</td>\n",
       "      <td>-20520</td>\n",
       "      <td>251306.1</td>\n",
       "      <td>-271826.1</td>\n",
       "      <td>524</td>\n",
       "    </tr>\n",
       "    <tr>\n",
       "      <th>4</th>\n",
       "      <td>2004-Q1</td>\n",
       "      <td>-12089</td>\n",
       "      <td>110581.2</td>\n",
       "      <td>-122670.2</td>\n",
       "      <td>233</td>\n",
       "    </tr>\n",
       "    <tr>\n",
       "      <th>5</th>\n",
       "      <td>2004-Q2</td>\n",
       "      <td>-10525</td>\n",
       "      <td>105187.5</td>\n",
       "      <td>-115712.5</td>\n",
       "      <td>223</td>\n",
       "    </tr>\n",
       "    <tr>\n",
       "      <th>6</th>\n",
       "      <td>2004-Q3</td>\n",
       "      <td>-7161</td>\n",
       "      <td>150656.4</td>\n",
       "      <td>-157817.4</td>\n",
       "      <td>319</td>\n",
       "    </tr>\n",
       "    <tr>\n",
       "      <th>7</th>\n",
       "      <td>2004-Q4</td>\n",
       "      <td>16726</td>\n",
       "      <td>235431.9</td>\n",
       "      <td>-218705.9</td>\n",
       "      <td>570</td>\n",
       "    </tr>\n",
       "    <tr>\n",
       "      <th>8</th>\n",
       "      <td>2005-Q1</td>\n",
       "      <td>-20010</td>\n",
       "      <td>147341.7</td>\n",
       "      <td>-167351.7</td>\n",
       "      <td>302</td>\n",
       "    </tr>\n",
       "    <tr>\n",
       "      <th>9</th>\n",
       "      <td>2005-Q2</td>\n",
       "      <td>-1519</td>\n",
       "      <td>78832.8</td>\n",
       "      <td>-80351.8</td>\n",
       "      <td>176</td>\n",
       "    </tr>\n",
       "  </tbody>\n",
       "</table>\n",
       "</div>"
      ],
      "text/plain": [
       "  QUARTER_KEY  total_sales  total_refunds  net_revenue  total_items\n",
       "0     2003-Q1         4896        60410.7     -55514.7          130\n",
       "1     2003-Q2       -11674        84377.7     -96051.7          162\n",
       "2     2003-Q3        24314        65600.1     -41286.1          184\n",
       "3     2003-Q4       -20520       251306.1    -271826.1          524\n",
       "4     2004-Q1       -12089       110581.2    -122670.2          233\n",
       "5     2004-Q2       -10525       105187.5    -115712.5          223\n",
       "6     2004-Q3        -7161       150656.4    -157817.4          319\n",
       "7     2004-Q4        16726       235431.9    -218705.9          570\n",
       "8     2005-Q1       -20010       147341.7    -167351.7          302\n",
       "9     2005-Q2        -1519        78832.8     -80351.8          176"
      ]
     },
     "metadata": {},
     "output_type": "display_data"
    },
    {
     "data": {
      "application/vnd.plotly.v1+json": {
       "config": {
        "plotlyServerURL": "https://plot.ly"
       },
       "data": [
        {
         "hovertemplate": "WEEK_KEY=%{x}<br>net_revenue=%{y}<extra></extra>",
         "legendgroup": "",
         "marker": {
          "color": "#636efa",
          "pattern": {
           "shape": ""
          }
         },
         "name": "",
         "orientation": "v",
         "showlegend": false,
         "textposition": "auto",
         "type": "bar",
         "x": [
          "2003-W10",
          "2003-W11",
          "2003-W12",
          "2003-W13",
          "2003-W14",
          "2003-W15",
          "2003-W16",
          "2003-W17",
          "2003-W18",
          "2003-W19",
          "2003-W2",
          "2003-W21",
          "2003-W22",
          "2003-W23",
          "2003-W24",
          "2003-W25",
          "2003-W26",
          "2003-W27",
          "2003-W28",
          "2003-W29",
          "2003-W30",
          "2003-W31",
          "2003-W32",
          "2003-W33",
          "2003-W35",
          "2003-W36",
          "2003-W37",
          "2003-W38",
          "2003-W39",
          "2003-W40",
          "2003-W41",
          "2003-W42",
          "2003-W43",
          "2003-W44",
          "2003-W45",
          "2003-W46",
          "2003-W47",
          "2003-W48",
          "2003-W49",
          "2003-W5",
          "2003-W50",
          "2003-W7",
          "2003-W8",
          "2003-W9",
          "2004-W1",
          "2004-W10",
          "2004-W11",
          "2004-W12",
          "2004-W14",
          "2004-W15",
          "2004-W16",
          "2004-W17",
          "2004-W18",
          "2004-W19",
          "2004-W2",
          "2004-W20",
          "2004-W21",
          "2004-W22",
          "2004-W23",
          "2004-W24",
          "2004-W25",
          "2004-W26",
          "2004-W27",
          "2004-W28",
          "2004-W29",
          "2004-W3",
          "2004-W30",
          "2004-W32",
          "2004-W33",
          "2004-W34",
          "2004-W35",
          "2004-W36",
          "2004-W37",
          "2004-W38",
          "2004-W4",
          "2004-W40",
          "2004-W41",
          "2004-W42",
          "2004-W43",
          "2004-W44",
          "2004-W45",
          "2004-W46",
          "2004-W47",
          "2004-W48",
          "2004-W49",
          "2004-W5",
          "2004-W50",
          "2004-W51",
          "2004-W6",
          "2004-W7",
          "2004-W8",
          "2004-W9",
          "2005-W1",
          "2005-W10",
          "2005-W11",
          "2005-W12",
          "2005-W13",
          "2005-W14",
          "2005-W15",
          "2005-W16",
          "2005-W17",
          "2005-W18",
          "2005-W19",
          "2005-W2",
          "2005-W20",
          "2005-W21",
          "2005-W22",
          "2005-W3",
          "2005-W4",
          "2005-W5",
          "2005-W6",
          "2005-W7",
          "2005-W8",
          "2005-W9"
         ],
         "xaxis": "x",
         "y": {
          "bdata": "zczMzMwgycAzMzMzs1y8wJqZmZmZpK3AMzMzM7PrssA0MzMzs6rMwJqZmZmZSYLANDMzMzP9nEAzMzMzM82jwGdmZmZmltvAAAAAAIAV0MBmZmZmJgXAwMzMzMxMZLjAmpmZmdlwxsCamZmZGdW9wM3MzMzMe73AMzMzM/P0wMCamZmZmUK4QDgzMzMz+3RAZ2ZmZmZYl8DMzMzMzA+jwGZmZmZmuohAZmZmZmZNwsBnZmZmZs7JwAAAAAAAgGVAAAAAAIDVtEDMzMzMTJK1wGZmZmZmmMPAmpmZmZlNqcAyMzMzM16kwDMzMzMzINLAzczMzNxD4MDNzMzMDMDCwM3MzMzszdLAAgAAAAB1qkBmZmZmbrf1wDMzMzNztePAMzMzM3M91MCamZmZmb2IQM3MzMzMLOTAAAAAAMCs0cA0MzMzM5yuwDMzMzMzGqbANTMzMzPtkUDOzMzMzEKTQDMzMzOzosLAAAAAAAC/xcAzMzMzsw/PwJqZmZmZk8DAmZmZmZnhvsBmZmZm5oHMwGdmZmbGhNfAMzMzMzNKp8CamZmZ2f/GwJmZmZlZks/AmpmZmZljlsAAAAAAAFOnwMjMzMzMfHfAZmZmZibjw8CZmZmZGfuzwDMzMzMziarAMzMzMzPmycDQzMzMzGxowDMzMzMzBLzAZmZmZqbSz8BmZmZmZtKiwGZmZmbGiNbAAAAAAEAA2MCgmZmZmaluwGZmZmbmiLfAZmZmZoZ/6MCZmZmZmaW7wAAAAAAApp1AmZmZmRlZy8AzMzMzs23QwAAAAAAA3LbAMzMzM1Oq08A0MzMzM0N5wJqZmZlpbePAmpmZmdlZ0MCYmZmZmcGEwGZmZmZmG83AnJmZmZmTlsCZmZmZGXHqwAAAAABw6OLAmZmZmTk648CZmZmZmQjFwDMzMzOzYLHAzczMzEx4v8DMzMzMTK61wGZmZmZmopXAZmZmZqaz38AzMzMzM0a1QAAAAABgJ9DAmJmZmZkpa8DNzMzMTLHEwM3MzMzMQ7bAzczMzCy52sAAAAAAALjDwJqZmZkZTbjANDMzM7MLvMBnZmZmZpCtwJqZmZmZ1LjAZ2ZmZqaLx8BmZmZmpp3IwJqZmZmZwrDAZmZmZmYJrkAzMzMzk7HQwGZmZmZmWM/AMDMzMzODc0CZmZmZWeXNwAAAAADAh9rAzMzMzIwJysAAAAAAwGTLwDMzMzOTRtnA",
          "dtype": "f8"
         },
         "yaxis": "y"
        }
       ],
       "layout": {
        "barmode": "relative",
        "legend": {
         "tracegroupgap": 0
        },
        "template": {
         "data": {
          "bar": [
           {
            "error_x": {
             "color": "#2a3f5f"
            },
            "error_y": {
             "color": "#2a3f5f"
            },
            "marker": {
             "line": {
              "color": "#E5ECF6",
              "width": 0.5
             },
             "pattern": {
              "fillmode": "overlay",
              "size": 10,
              "solidity": 0.2
             }
            },
            "type": "bar"
           }
          ],
          "barpolar": [
           {
            "marker": {
             "line": {
              "color": "#E5ECF6",
              "width": 0.5
             },
             "pattern": {
              "fillmode": "overlay",
              "size": 10,
              "solidity": 0.2
             }
            },
            "type": "barpolar"
           }
          ],
          "carpet": [
           {
            "aaxis": {
             "endlinecolor": "#2a3f5f",
             "gridcolor": "white",
             "linecolor": "white",
             "minorgridcolor": "white",
             "startlinecolor": "#2a3f5f"
            },
            "baxis": {
             "endlinecolor": "#2a3f5f",
             "gridcolor": "white",
             "linecolor": "white",
             "minorgridcolor": "white",
             "startlinecolor": "#2a3f5f"
            },
            "type": "carpet"
           }
          ],
          "choropleth": [
           {
            "colorbar": {
             "outlinewidth": 0,
             "ticks": ""
            },
            "type": "choropleth"
           }
          ],
          "contour": [
           {
            "colorbar": {
             "outlinewidth": 0,
             "ticks": ""
            },
            "colorscale": [
             [
              0,
              "#0d0887"
             ],
             [
              0.1111111111111111,
              "#46039f"
             ],
             [
              0.2222222222222222,
              "#7201a8"
             ],
             [
              0.3333333333333333,
              "#9c179e"
             ],
             [
              0.4444444444444444,
              "#bd3786"
             ],
             [
              0.5555555555555556,
              "#d8576b"
             ],
             [
              0.6666666666666666,
              "#ed7953"
             ],
             [
              0.7777777777777778,
              "#fb9f3a"
             ],
             [
              0.8888888888888888,
              "#fdca26"
             ],
             [
              1,
              "#f0f921"
             ]
            ],
            "type": "contour"
           }
          ],
          "contourcarpet": [
           {
            "colorbar": {
             "outlinewidth": 0,
             "ticks": ""
            },
            "type": "contourcarpet"
           }
          ],
          "heatmap": [
           {
            "colorbar": {
             "outlinewidth": 0,
             "ticks": ""
            },
            "colorscale": [
             [
              0,
              "#0d0887"
             ],
             [
              0.1111111111111111,
              "#46039f"
             ],
             [
              0.2222222222222222,
              "#7201a8"
             ],
             [
              0.3333333333333333,
              "#9c179e"
             ],
             [
              0.4444444444444444,
              "#bd3786"
             ],
             [
              0.5555555555555556,
              "#d8576b"
             ],
             [
              0.6666666666666666,
              "#ed7953"
             ],
             [
              0.7777777777777778,
              "#fb9f3a"
             ],
             [
              0.8888888888888888,
              "#fdca26"
             ],
             [
              1,
              "#f0f921"
             ]
            ],
            "type": "heatmap"
           }
          ],
          "histogram": [
           {
            "marker": {
             "pattern": {
              "fillmode": "overlay",
              "size": 10,
              "solidity": 0.2
             }
            },
            "type": "histogram"
           }
          ],
          "histogram2d": [
           {
            "colorbar": {
             "outlinewidth": 0,
             "ticks": ""
            },
            "colorscale": [
             [
              0,
              "#0d0887"
             ],
             [
              0.1111111111111111,
              "#46039f"
             ],
             [
              0.2222222222222222,
              "#7201a8"
             ],
             [
              0.3333333333333333,
              "#9c179e"
             ],
             [
              0.4444444444444444,
              "#bd3786"
             ],
             [
              0.5555555555555556,
              "#d8576b"
             ],
             [
              0.6666666666666666,
              "#ed7953"
             ],
             [
              0.7777777777777778,
              "#fb9f3a"
             ],
             [
              0.8888888888888888,
              "#fdca26"
             ],
             [
              1,
              "#f0f921"
             ]
            ],
            "type": "histogram2d"
           }
          ],
          "histogram2dcontour": [
           {
            "colorbar": {
             "outlinewidth": 0,
             "ticks": ""
            },
            "colorscale": [
             [
              0,
              "#0d0887"
             ],
             [
              0.1111111111111111,
              "#46039f"
             ],
             [
              0.2222222222222222,
              "#7201a8"
             ],
             [
              0.3333333333333333,
              "#9c179e"
             ],
             [
              0.4444444444444444,
              "#bd3786"
             ],
             [
              0.5555555555555556,
              "#d8576b"
             ],
             [
              0.6666666666666666,
              "#ed7953"
             ],
             [
              0.7777777777777778,
              "#fb9f3a"
             ],
             [
              0.8888888888888888,
              "#fdca26"
             ],
             [
              1,
              "#f0f921"
             ]
            ],
            "type": "histogram2dcontour"
           }
          ],
          "mesh3d": [
           {
            "colorbar": {
             "outlinewidth": 0,
             "ticks": ""
            },
            "type": "mesh3d"
           }
          ],
          "parcoords": [
           {
            "line": {
             "colorbar": {
              "outlinewidth": 0,
              "ticks": ""
             }
            },
            "type": "parcoords"
           }
          ],
          "pie": [
           {
            "automargin": true,
            "type": "pie"
           }
          ],
          "scatter": [
           {
            "fillpattern": {
             "fillmode": "overlay",
             "size": 10,
             "solidity": 0.2
            },
            "type": "scatter"
           }
          ],
          "scatter3d": [
           {
            "line": {
             "colorbar": {
              "outlinewidth": 0,
              "ticks": ""
             }
            },
            "marker": {
             "colorbar": {
              "outlinewidth": 0,
              "ticks": ""
             }
            },
            "type": "scatter3d"
           }
          ],
          "scattercarpet": [
           {
            "marker": {
             "colorbar": {
              "outlinewidth": 0,
              "ticks": ""
             }
            },
            "type": "scattercarpet"
           }
          ],
          "scattergeo": [
           {
            "marker": {
             "colorbar": {
              "outlinewidth": 0,
              "ticks": ""
             }
            },
            "type": "scattergeo"
           }
          ],
          "scattergl": [
           {
            "marker": {
             "colorbar": {
              "outlinewidth": 0,
              "ticks": ""
             }
            },
            "type": "scattergl"
           }
          ],
          "scattermap": [
           {
            "marker": {
             "colorbar": {
              "outlinewidth": 0,
              "ticks": ""
             }
            },
            "type": "scattermap"
           }
          ],
          "scattermapbox": [
           {
            "marker": {
             "colorbar": {
              "outlinewidth": 0,
              "ticks": ""
             }
            },
            "type": "scattermapbox"
           }
          ],
          "scatterpolar": [
           {
            "marker": {
             "colorbar": {
              "outlinewidth": 0,
              "ticks": ""
             }
            },
            "type": "scatterpolar"
           }
          ],
          "scatterpolargl": [
           {
            "marker": {
             "colorbar": {
              "outlinewidth": 0,
              "ticks": ""
             }
            },
            "type": "scatterpolargl"
           }
          ],
          "scatterternary": [
           {
            "marker": {
             "colorbar": {
              "outlinewidth": 0,
              "ticks": ""
             }
            },
            "type": "scatterternary"
           }
          ],
          "surface": [
           {
            "colorbar": {
             "outlinewidth": 0,
             "ticks": ""
            },
            "colorscale": [
             [
              0,
              "#0d0887"
             ],
             [
              0.1111111111111111,
              "#46039f"
             ],
             [
              0.2222222222222222,
              "#7201a8"
             ],
             [
              0.3333333333333333,
              "#9c179e"
             ],
             [
              0.4444444444444444,
              "#bd3786"
             ],
             [
              0.5555555555555556,
              "#d8576b"
             ],
             [
              0.6666666666666666,
              "#ed7953"
             ],
             [
              0.7777777777777778,
              "#fb9f3a"
             ],
             [
              0.8888888888888888,
              "#fdca26"
             ],
             [
              1,
              "#f0f921"
             ]
            ],
            "type": "surface"
           }
          ],
          "table": [
           {
            "cells": {
             "fill": {
              "color": "#EBF0F8"
             },
             "line": {
              "color": "white"
             }
            },
            "header": {
             "fill": {
              "color": "#C8D4E3"
             },
             "line": {
              "color": "white"
             }
            },
            "type": "table"
           }
          ]
         },
         "layout": {
          "annotationdefaults": {
           "arrowcolor": "#2a3f5f",
           "arrowhead": 0,
           "arrowwidth": 1
          },
          "autotypenumbers": "strict",
          "coloraxis": {
           "colorbar": {
            "outlinewidth": 0,
            "ticks": ""
           }
          },
          "colorscale": {
           "diverging": [
            [
             0,
             "#8e0152"
            ],
            [
             0.1,
             "#c51b7d"
            ],
            [
             0.2,
             "#de77ae"
            ],
            [
             0.3,
             "#f1b6da"
            ],
            [
             0.4,
             "#fde0ef"
            ],
            [
             0.5,
             "#f7f7f7"
            ],
            [
             0.6,
             "#e6f5d0"
            ],
            [
             0.7,
             "#b8e186"
            ],
            [
             0.8,
             "#7fbc41"
            ],
            [
             0.9,
             "#4d9221"
            ],
            [
             1,
             "#276419"
            ]
           ],
           "sequential": [
            [
             0,
             "#0d0887"
            ],
            [
             0.1111111111111111,
             "#46039f"
            ],
            [
             0.2222222222222222,
             "#7201a8"
            ],
            [
             0.3333333333333333,
             "#9c179e"
            ],
            [
             0.4444444444444444,
             "#bd3786"
            ],
            [
             0.5555555555555556,
             "#d8576b"
            ],
            [
             0.6666666666666666,
             "#ed7953"
            ],
            [
             0.7777777777777778,
             "#fb9f3a"
            ],
            [
             0.8888888888888888,
             "#fdca26"
            ],
            [
             1,
             "#f0f921"
            ]
           ],
           "sequentialminus": [
            [
             0,
             "#0d0887"
            ],
            [
             0.1111111111111111,
             "#46039f"
            ],
            [
             0.2222222222222222,
             "#7201a8"
            ],
            [
             0.3333333333333333,
             "#9c179e"
            ],
            [
             0.4444444444444444,
             "#bd3786"
            ],
            [
             0.5555555555555556,
             "#d8576b"
            ],
            [
             0.6666666666666666,
             "#ed7953"
            ],
            [
             0.7777777777777778,
             "#fb9f3a"
            ],
            [
             0.8888888888888888,
             "#fdca26"
            ],
            [
             1,
             "#f0f921"
            ]
           ]
          },
          "colorway": [
           "#636efa",
           "#EF553B",
           "#00cc96",
           "#ab63fa",
           "#FFA15A",
           "#19d3f3",
           "#FF6692",
           "#B6E880",
           "#FF97FF",
           "#FECB52"
          ],
          "font": {
           "color": "#2a3f5f"
          },
          "geo": {
           "bgcolor": "white",
           "lakecolor": "white",
           "landcolor": "#E5ECF6",
           "showlakes": true,
           "showland": true,
           "subunitcolor": "white"
          },
          "hoverlabel": {
           "align": "left"
          },
          "hovermode": "closest",
          "mapbox": {
           "style": "light"
          },
          "paper_bgcolor": "white",
          "plot_bgcolor": "#E5ECF6",
          "polar": {
           "angularaxis": {
            "gridcolor": "white",
            "linecolor": "white",
            "ticks": ""
           },
           "bgcolor": "#E5ECF6",
           "radialaxis": {
            "gridcolor": "white",
            "linecolor": "white",
            "ticks": ""
           }
          },
          "scene": {
           "xaxis": {
            "backgroundcolor": "#E5ECF6",
            "gridcolor": "white",
            "gridwidth": 2,
            "linecolor": "white",
            "showbackground": true,
            "ticks": "",
            "zerolinecolor": "white"
           },
           "yaxis": {
            "backgroundcolor": "#E5ECF6",
            "gridcolor": "white",
            "gridwidth": 2,
            "linecolor": "white",
            "showbackground": true,
            "ticks": "",
            "zerolinecolor": "white"
           },
           "zaxis": {
            "backgroundcolor": "#E5ECF6",
            "gridcolor": "white",
            "gridwidth": 2,
            "linecolor": "white",
            "showbackground": true,
            "ticks": "",
            "zerolinecolor": "white"
           }
          },
          "shapedefaults": {
           "line": {
            "color": "#2a3f5f"
           }
          },
          "ternary": {
           "aaxis": {
            "gridcolor": "white",
            "linecolor": "white",
            "ticks": ""
           },
           "baxis": {
            "gridcolor": "white",
            "linecolor": "white",
            "ticks": ""
           },
           "bgcolor": "#E5ECF6",
           "caxis": {
            "gridcolor": "white",
            "linecolor": "white",
            "ticks": ""
           }
          },
          "title": {
           "x": 0.05
          },
          "xaxis": {
           "automargin": true,
           "gridcolor": "white",
           "linecolor": "white",
           "ticks": "",
           "title": {
            "standoff": 15
           },
           "zerolinecolor": "white",
           "zerolinewidth": 2
          },
          "yaxis": {
           "automargin": true,
           "gridcolor": "white",
           "linecolor": "white",
           "ticks": "",
           "title": {
            "standoff": 15
           },
           "zerolinecolor": "white",
           "zerolinewidth": 2
          }
         }
        },
        "title": {
         "text": "Weekly Net Revenue (Fiscal)"
        },
        "xaxis": {
         "anchor": "y",
         "domain": [
          0,
          1
         ],
         "title": {
          "text": "WEEK_KEY"
         }
        },
        "yaxis": {
         "anchor": "x",
         "domain": [
          0,
          1
         ],
         "title": {
          "text": "net_revenue"
         }
        }
       }
      }
     },
     "metadata": {},
     "output_type": "display_data"
    },
    {
     "data": {
      "application/vnd.plotly.v1+json": {
       "config": {
        "plotlyServerURL": "https://plot.ly"
       },
       "data": [
        {
         "hovertemplate": "MONTH_KEY=%{x}<br>net_revenue=%{y}<extra></extra>",
         "legendgroup": "",
         "marker": {
          "color": "#636efa",
          "pattern": {
           "shape": ""
          }
         },
         "name": "",
         "orientation": "v",
         "showlegend": false,
         "textposition": "auto",
         "type": "bar",
         "x": [
          "2003-M1",
          "2003-M10",
          "2003-M11",
          "2003-M12",
          "2003-M2",
          "2003-M3",
          "2003-M4",
          "2003-M5",
          "2003-M6",
          "2003-M7",
          "2003-M8",
          "2003-M9",
          "2004-M1",
          "2004-M10",
          "2004-M11",
          "2004-M12",
          "2004-M2",
          "2004-M3",
          "2004-M4",
          "2004-M5",
          "2004-M6",
          "2004-M7",
          "2004-M8",
          "2004-M9",
          "2005-M1",
          "2005-M2",
          "2005-M3",
          "2005-M4",
          "2005-M5"
         ],
         "xaxis": "x",
         "y": {
          "bdata": "MzMzM1Ov2cAAAAAA0OHywM3MzMwEOALBAAAAAJAW5sCMmZmZmRF8wDMzMzMTF9zAAAAAAPCT5cAAAAAAgLPgwM3MzMwMPtHA///////tpcBnZmZmhq3QwAAAAABA5tTAMzMzM9O96MAzMzMz4x/swAAAAAAQdP3AmpmZmTnC48CZmZmZ6ZPgwJqZmZkJlOLAMzMzMzO47MAzMzMzEwPdwGZmZmamjNrAMzMzMxMW5sBmZmZmzgvwwM3MzMx84ebAMzMzM+OC68AzMzMz40buwAAAAAAw7efAAAAAAPDU48CZmZmZCWfjwA==",
          "dtype": "f8"
         },
         "yaxis": "y"
        }
       ],
       "layout": {
        "barmode": "relative",
        "legend": {
         "tracegroupgap": 0
        },
        "template": {
         "data": {
          "bar": [
           {
            "error_x": {
             "color": "#2a3f5f"
            },
            "error_y": {
             "color": "#2a3f5f"
            },
            "marker": {
             "line": {
              "color": "#E5ECF6",
              "width": 0.5
             },
             "pattern": {
              "fillmode": "overlay",
              "size": 10,
              "solidity": 0.2
             }
            },
            "type": "bar"
           }
          ],
          "barpolar": [
           {
            "marker": {
             "line": {
              "color": "#E5ECF6",
              "width": 0.5
             },
             "pattern": {
              "fillmode": "overlay",
              "size": 10,
              "solidity": 0.2
             }
            },
            "type": "barpolar"
           }
          ],
          "carpet": [
           {
            "aaxis": {
             "endlinecolor": "#2a3f5f",
             "gridcolor": "white",
             "linecolor": "white",
             "minorgridcolor": "white",
             "startlinecolor": "#2a3f5f"
            },
            "baxis": {
             "endlinecolor": "#2a3f5f",
             "gridcolor": "white",
             "linecolor": "white",
             "minorgridcolor": "white",
             "startlinecolor": "#2a3f5f"
            },
            "type": "carpet"
           }
          ],
          "choropleth": [
           {
            "colorbar": {
             "outlinewidth": 0,
             "ticks": ""
            },
            "type": "choropleth"
           }
          ],
          "contour": [
           {
            "colorbar": {
             "outlinewidth": 0,
             "ticks": ""
            },
            "colorscale": [
             [
              0,
              "#0d0887"
             ],
             [
              0.1111111111111111,
              "#46039f"
             ],
             [
              0.2222222222222222,
              "#7201a8"
             ],
             [
              0.3333333333333333,
              "#9c179e"
             ],
             [
              0.4444444444444444,
              "#bd3786"
             ],
             [
              0.5555555555555556,
              "#d8576b"
             ],
             [
              0.6666666666666666,
              "#ed7953"
             ],
             [
              0.7777777777777778,
              "#fb9f3a"
             ],
             [
              0.8888888888888888,
              "#fdca26"
             ],
             [
              1,
              "#f0f921"
             ]
            ],
            "type": "contour"
           }
          ],
          "contourcarpet": [
           {
            "colorbar": {
             "outlinewidth": 0,
             "ticks": ""
            },
            "type": "contourcarpet"
           }
          ],
          "heatmap": [
           {
            "colorbar": {
             "outlinewidth": 0,
             "ticks": ""
            },
            "colorscale": [
             [
              0,
              "#0d0887"
             ],
             [
              0.1111111111111111,
              "#46039f"
             ],
             [
              0.2222222222222222,
              "#7201a8"
             ],
             [
              0.3333333333333333,
              "#9c179e"
             ],
             [
              0.4444444444444444,
              "#bd3786"
             ],
             [
              0.5555555555555556,
              "#d8576b"
             ],
             [
              0.6666666666666666,
              "#ed7953"
             ],
             [
              0.7777777777777778,
              "#fb9f3a"
             ],
             [
              0.8888888888888888,
              "#fdca26"
             ],
             [
              1,
              "#f0f921"
             ]
            ],
            "type": "heatmap"
           }
          ],
          "histogram": [
           {
            "marker": {
             "pattern": {
              "fillmode": "overlay",
              "size": 10,
              "solidity": 0.2
             }
            },
            "type": "histogram"
           }
          ],
          "histogram2d": [
           {
            "colorbar": {
             "outlinewidth": 0,
             "ticks": ""
            },
            "colorscale": [
             [
              0,
              "#0d0887"
             ],
             [
              0.1111111111111111,
              "#46039f"
             ],
             [
              0.2222222222222222,
              "#7201a8"
             ],
             [
              0.3333333333333333,
              "#9c179e"
             ],
             [
              0.4444444444444444,
              "#bd3786"
             ],
             [
              0.5555555555555556,
              "#d8576b"
             ],
             [
              0.6666666666666666,
              "#ed7953"
             ],
             [
              0.7777777777777778,
              "#fb9f3a"
             ],
             [
              0.8888888888888888,
              "#fdca26"
             ],
             [
              1,
              "#f0f921"
             ]
            ],
            "type": "histogram2d"
           }
          ],
          "histogram2dcontour": [
           {
            "colorbar": {
             "outlinewidth": 0,
             "ticks": ""
            },
            "colorscale": [
             [
              0,
              "#0d0887"
             ],
             [
              0.1111111111111111,
              "#46039f"
             ],
             [
              0.2222222222222222,
              "#7201a8"
             ],
             [
              0.3333333333333333,
              "#9c179e"
             ],
             [
              0.4444444444444444,
              "#bd3786"
             ],
             [
              0.5555555555555556,
              "#d8576b"
             ],
             [
              0.6666666666666666,
              "#ed7953"
             ],
             [
              0.7777777777777778,
              "#fb9f3a"
             ],
             [
              0.8888888888888888,
              "#fdca26"
             ],
             [
              1,
              "#f0f921"
             ]
            ],
            "type": "histogram2dcontour"
           }
          ],
          "mesh3d": [
           {
            "colorbar": {
             "outlinewidth": 0,
             "ticks": ""
            },
            "type": "mesh3d"
           }
          ],
          "parcoords": [
           {
            "line": {
             "colorbar": {
              "outlinewidth": 0,
              "ticks": ""
             }
            },
            "type": "parcoords"
           }
          ],
          "pie": [
           {
            "automargin": true,
            "type": "pie"
           }
          ],
          "scatter": [
           {
            "fillpattern": {
             "fillmode": "overlay",
             "size": 10,
             "solidity": 0.2
            },
            "type": "scatter"
           }
          ],
          "scatter3d": [
           {
            "line": {
             "colorbar": {
              "outlinewidth": 0,
              "ticks": ""
             }
            },
            "marker": {
             "colorbar": {
              "outlinewidth": 0,
              "ticks": ""
             }
            },
            "type": "scatter3d"
           }
          ],
          "scattercarpet": [
           {
            "marker": {
             "colorbar": {
              "outlinewidth": 0,
              "ticks": ""
             }
            },
            "type": "scattercarpet"
           }
          ],
          "scattergeo": [
           {
            "marker": {
             "colorbar": {
              "outlinewidth": 0,
              "ticks": ""
             }
            },
            "type": "scattergeo"
           }
          ],
          "scattergl": [
           {
            "marker": {
             "colorbar": {
              "outlinewidth": 0,
              "ticks": ""
             }
            },
            "type": "scattergl"
           }
          ],
          "scattermap": [
           {
            "marker": {
             "colorbar": {
              "outlinewidth": 0,
              "ticks": ""
             }
            },
            "type": "scattermap"
           }
          ],
          "scattermapbox": [
           {
            "marker": {
             "colorbar": {
              "outlinewidth": 0,
              "ticks": ""
             }
            },
            "type": "scattermapbox"
           }
          ],
          "scatterpolar": [
           {
            "marker": {
             "colorbar": {
              "outlinewidth": 0,
              "ticks": ""
             }
            },
            "type": "scatterpolar"
           }
          ],
          "scatterpolargl": [
           {
            "marker": {
             "colorbar": {
              "outlinewidth": 0,
              "ticks": ""
             }
            },
            "type": "scatterpolargl"
           }
          ],
          "scatterternary": [
           {
            "marker": {
             "colorbar": {
              "outlinewidth": 0,
              "ticks": ""
             }
            },
            "type": "scatterternary"
           }
          ],
          "surface": [
           {
            "colorbar": {
             "outlinewidth": 0,
             "ticks": ""
            },
            "colorscale": [
             [
              0,
              "#0d0887"
             ],
             [
              0.1111111111111111,
              "#46039f"
             ],
             [
              0.2222222222222222,
              "#7201a8"
             ],
             [
              0.3333333333333333,
              "#9c179e"
             ],
             [
              0.4444444444444444,
              "#bd3786"
             ],
             [
              0.5555555555555556,
              "#d8576b"
             ],
             [
              0.6666666666666666,
              "#ed7953"
             ],
             [
              0.7777777777777778,
              "#fb9f3a"
             ],
             [
              0.8888888888888888,
              "#fdca26"
             ],
             [
              1,
              "#f0f921"
             ]
            ],
            "type": "surface"
           }
          ],
          "table": [
           {
            "cells": {
             "fill": {
              "color": "#EBF0F8"
             },
             "line": {
              "color": "white"
             }
            },
            "header": {
             "fill": {
              "color": "#C8D4E3"
             },
             "line": {
              "color": "white"
             }
            },
            "type": "table"
           }
          ]
         },
         "layout": {
          "annotationdefaults": {
           "arrowcolor": "#2a3f5f",
           "arrowhead": 0,
           "arrowwidth": 1
          },
          "autotypenumbers": "strict",
          "coloraxis": {
           "colorbar": {
            "outlinewidth": 0,
            "ticks": ""
           }
          },
          "colorscale": {
           "diverging": [
            [
             0,
             "#8e0152"
            ],
            [
             0.1,
             "#c51b7d"
            ],
            [
             0.2,
             "#de77ae"
            ],
            [
             0.3,
             "#f1b6da"
            ],
            [
             0.4,
             "#fde0ef"
            ],
            [
             0.5,
             "#f7f7f7"
            ],
            [
             0.6,
             "#e6f5d0"
            ],
            [
             0.7,
             "#b8e186"
            ],
            [
             0.8,
             "#7fbc41"
            ],
            [
             0.9,
             "#4d9221"
            ],
            [
             1,
             "#276419"
            ]
           ],
           "sequential": [
            [
             0,
             "#0d0887"
            ],
            [
             0.1111111111111111,
             "#46039f"
            ],
            [
             0.2222222222222222,
             "#7201a8"
            ],
            [
             0.3333333333333333,
             "#9c179e"
            ],
            [
             0.4444444444444444,
             "#bd3786"
            ],
            [
             0.5555555555555556,
             "#d8576b"
            ],
            [
             0.6666666666666666,
             "#ed7953"
            ],
            [
             0.7777777777777778,
             "#fb9f3a"
            ],
            [
             0.8888888888888888,
             "#fdca26"
            ],
            [
             1,
             "#f0f921"
            ]
           ],
           "sequentialminus": [
            [
             0,
             "#0d0887"
            ],
            [
             0.1111111111111111,
             "#46039f"
            ],
            [
             0.2222222222222222,
             "#7201a8"
            ],
            [
             0.3333333333333333,
             "#9c179e"
            ],
            [
             0.4444444444444444,
             "#bd3786"
            ],
            [
             0.5555555555555556,
             "#d8576b"
            ],
            [
             0.6666666666666666,
             "#ed7953"
            ],
            [
             0.7777777777777778,
             "#fb9f3a"
            ],
            [
             0.8888888888888888,
             "#fdca26"
            ],
            [
             1,
             "#f0f921"
            ]
           ]
          },
          "colorway": [
           "#636efa",
           "#EF553B",
           "#00cc96",
           "#ab63fa",
           "#FFA15A",
           "#19d3f3",
           "#FF6692",
           "#B6E880",
           "#FF97FF",
           "#FECB52"
          ],
          "font": {
           "color": "#2a3f5f"
          },
          "geo": {
           "bgcolor": "white",
           "lakecolor": "white",
           "landcolor": "#E5ECF6",
           "showlakes": true,
           "showland": true,
           "subunitcolor": "white"
          },
          "hoverlabel": {
           "align": "left"
          },
          "hovermode": "closest",
          "mapbox": {
           "style": "light"
          },
          "paper_bgcolor": "white",
          "plot_bgcolor": "#E5ECF6",
          "polar": {
           "angularaxis": {
            "gridcolor": "white",
            "linecolor": "white",
            "ticks": ""
           },
           "bgcolor": "#E5ECF6",
           "radialaxis": {
            "gridcolor": "white",
            "linecolor": "white",
            "ticks": ""
           }
          },
          "scene": {
           "xaxis": {
            "backgroundcolor": "#E5ECF6",
            "gridcolor": "white",
            "gridwidth": 2,
            "linecolor": "white",
            "showbackground": true,
            "ticks": "",
            "zerolinecolor": "white"
           },
           "yaxis": {
            "backgroundcolor": "#E5ECF6",
            "gridcolor": "white",
            "gridwidth": 2,
            "linecolor": "white",
            "showbackground": true,
            "ticks": "",
            "zerolinecolor": "white"
           },
           "zaxis": {
            "backgroundcolor": "#E5ECF6",
            "gridcolor": "white",
            "gridwidth": 2,
            "linecolor": "white",
            "showbackground": true,
            "ticks": "",
            "zerolinecolor": "white"
           }
          },
          "shapedefaults": {
           "line": {
            "color": "#2a3f5f"
           }
          },
          "ternary": {
           "aaxis": {
            "gridcolor": "white",
            "linecolor": "white",
            "ticks": ""
           },
           "baxis": {
            "gridcolor": "white",
            "linecolor": "white",
            "ticks": ""
           },
           "bgcolor": "#E5ECF6",
           "caxis": {
            "gridcolor": "white",
            "linecolor": "white",
            "ticks": ""
           }
          },
          "title": {
           "x": 0.05
          },
          "xaxis": {
           "automargin": true,
           "gridcolor": "white",
           "linecolor": "white",
           "ticks": "",
           "title": {
            "standoff": 15
           },
           "zerolinecolor": "white",
           "zerolinewidth": 2
          },
          "yaxis": {
           "automargin": true,
           "gridcolor": "white",
           "linecolor": "white",
           "ticks": "",
           "title": {
            "standoff": 15
           },
           "zerolinecolor": "white",
           "zerolinewidth": 2
          }
         }
        },
        "title": {
         "text": "Monthly Net Revenue (Fiscal)"
        },
        "xaxis": {
         "anchor": "y",
         "domain": [
          0,
          1
         ],
         "title": {
          "text": "MONTH_KEY"
         }
        },
        "yaxis": {
         "anchor": "x",
         "domain": [
          0,
          1
         ],
         "title": {
          "text": "net_revenue"
         }
        }
       }
      }
     },
     "metadata": {},
     "output_type": "display_data"
    },
    {
     "data": {
      "application/vnd.plotly.v1+json": {
       "config": {
        "plotlyServerURL": "https://plot.ly"
       },
       "data": [
        {
         "hovertemplate": "QUARTER_KEY=%{x}<br>net_revenue=%{y}<extra></extra>",
         "legendgroup": "",
         "marker": {
          "color": "#636efa",
          "pattern": {
           "shape": ""
          }
         },
         "name": "",
         "orientation": "v",
         "showlegend": false,
         "textposition": "auto",
         "type": "bar",
         "x": [
          "2003-Q1",
          "2003-Q2",
          "2003-Q3",
          "2003-Q4",
          "2004-Q1",
          "2004-Q2",
          "2004-Q3",
          "2004-Q4",
          "2005-Q1",
          "2005-Q2"
         ],
         "xaxis": "x",
         "y": {
          "bdata": "ZmZmZlYb68AzMzMzO3P3wDMzMzPDKOTAZmZmZkiXEMEzMzMz4/L9wAAAAAAIQPzAMzMzM8tDA8EzMzMzj7IKwZqZmZm9bQTBzczMzPyd88A=",
          "dtype": "f8"
         },
         "yaxis": "y"
        }
       ],
       "layout": {
        "barmode": "relative",
        "legend": {
         "tracegroupgap": 0
        },
        "template": {
         "data": {
          "bar": [
           {
            "error_x": {
             "color": "#2a3f5f"
            },
            "error_y": {
             "color": "#2a3f5f"
            },
            "marker": {
             "line": {
              "color": "#E5ECF6",
              "width": 0.5
             },
             "pattern": {
              "fillmode": "overlay",
              "size": 10,
              "solidity": 0.2
             }
            },
            "type": "bar"
           }
          ],
          "barpolar": [
           {
            "marker": {
             "line": {
              "color": "#E5ECF6",
              "width": 0.5
             },
             "pattern": {
              "fillmode": "overlay",
              "size": 10,
              "solidity": 0.2
             }
            },
            "type": "barpolar"
           }
          ],
          "carpet": [
           {
            "aaxis": {
             "endlinecolor": "#2a3f5f",
             "gridcolor": "white",
             "linecolor": "white",
             "minorgridcolor": "white",
             "startlinecolor": "#2a3f5f"
            },
            "baxis": {
             "endlinecolor": "#2a3f5f",
             "gridcolor": "white",
             "linecolor": "white",
             "minorgridcolor": "white",
             "startlinecolor": "#2a3f5f"
            },
            "type": "carpet"
           }
          ],
          "choropleth": [
           {
            "colorbar": {
             "outlinewidth": 0,
             "ticks": ""
            },
            "type": "choropleth"
           }
          ],
          "contour": [
           {
            "colorbar": {
             "outlinewidth": 0,
             "ticks": ""
            },
            "colorscale": [
             [
              0,
              "#0d0887"
             ],
             [
              0.1111111111111111,
              "#46039f"
             ],
             [
              0.2222222222222222,
              "#7201a8"
             ],
             [
              0.3333333333333333,
              "#9c179e"
             ],
             [
              0.4444444444444444,
              "#bd3786"
             ],
             [
              0.5555555555555556,
              "#d8576b"
             ],
             [
              0.6666666666666666,
              "#ed7953"
             ],
             [
              0.7777777777777778,
              "#fb9f3a"
             ],
             [
              0.8888888888888888,
              "#fdca26"
             ],
             [
              1,
              "#f0f921"
             ]
            ],
            "type": "contour"
           }
          ],
          "contourcarpet": [
           {
            "colorbar": {
             "outlinewidth": 0,
             "ticks": ""
            },
            "type": "contourcarpet"
           }
          ],
          "heatmap": [
           {
            "colorbar": {
             "outlinewidth": 0,
             "ticks": ""
            },
            "colorscale": [
             [
              0,
              "#0d0887"
             ],
             [
              0.1111111111111111,
              "#46039f"
             ],
             [
              0.2222222222222222,
              "#7201a8"
             ],
             [
              0.3333333333333333,
              "#9c179e"
             ],
             [
              0.4444444444444444,
              "#bd3786"
             ],
             [
              0.5555555555555556,
              "#d8576b"
             ],
             [
              0.6666666666666666,
              "#ed7953"
             ],
             [
              0.7777777777777778,
              "#fb9f3a"
             ],
             [
              0.8888888888888888,
              "#fdca26"
             ],
             [
              1,
              "#f0f921"
             ]
            ],
            "type": "heatmap"
           }
          ],
          "histogram": [
           {
            "marker": {
             "pattern": {
              "fillmode": "overlay",
              "size": 10,
              "solidity": 0.2
             }
            },
            "type": "histogram"
           }
          ],
          "histogram2d": [
           {
            "colorbar": {
             "outlinewidth": 0,
             "ticks": ""
            },
            "colorscale": [
             [
              0,
              "#0d0887"
             ],
             [
              0.1111111111111111,
              "#46039f"
             ],
             [
              0.2222222222222222,
              "#7201a8"
             ],
             [
              0.3333333333333333,
              "#9c179e"
             ],
             [
              0.4444444444444444,
              "#bd3786"
             ],
             [
              0.5555555555555556,
              "#d8576b"
             ],
             [
              0.6666666666666666,
              "#ed7953"
             ],
             [
              0.7777777777777778,
              "#fb9f3a"
             ],
             [
              0.8888888888888888,
              "#fdca26"
             ],
             [
              1,
              "#f0f921"
             ]
            ],
            "type": "histogram2d"
           }
          ],
          "histogram2dcontour": [
           {
            "colorbar": {
             "outlinewidth": 0,
             "ticks": ""
            },
            "colorscale": [
             [
              0,
              "#0d0887"
             ],
             [
              0.1111111111111111,
              "#46039f"
             ],
             [
              0.2222222222222222,
              "#7201a8"
             ],
             [
              0.3333333333333333,
              "#9c179e"
             ],
             [
              0.4444444444444444,
              "#bd3786"
             ],
             [
              0.5555555555555556,
              "#d8576b"
             ],
             [
              0.6666666666666666,
              "#ed7953"
             ],
             [
              0.7777777777777778,
              "#fb9f3a"
             ],
             [
              0.8888888888888888,
              "#fdca26"
             ],
             [
              1,
              "#f0f921"
             ]
            ],
            "type": "histogram2dcontour"
           }
          ],
          "mesh3d": [
           {
            "colorbar": {
             "outlinewidth": 0,
             "ticks": ""
            },
            "type": "mesh3d"
           }
          ],
          "parcoords": [
           {
            "line": {
             "colorbar": {
              "outlinewidth": 0,
              "ticks": ""
             }
            },
            "type": "parcoords"
           }
          ],
          "pie": [
           {
            "automargin": true,
            "type": "pie"
           }
          ],
          "scatter": [
           {
            "fillpattern": {
             "fillmode": "overlay",
             "size": 10,
             "solidity": 0.2
            },
            "type": "scatter"
           }
          ],
          "scatter3d": [
           {
            "line": {
             "colorbar": {
              "outlinewidth": 0,
              "ticks": ""
             }
            },
            "marker": {
             "colorbar": {
              "outlinewidth": 0,
              "ticks": ""
             }
            },
            "type": "scatter3d"
           }
          ],
          "scattercarpet": [
           {
            "marker": {
             "colorbar": {
              "outlinewidth": 0,
              "ticks": ""
             }
            },
            "type": "scattercarpet"
           }
          ],
          "scattergeo": [
           {
            "marker": {
             "colorbar": {
              "outlinewidth": 0,
              "ticks": ""
             }
            },
            "type": "scattergeo"
           }
          ],
          "scattergl": [
           {
            "marker": {
             "colorbar": {
              "outlinewidth": 0,
              "ticks": ""
             }
            },
            "type": "scattergl"
           }
          ],
          "scattermap": [
           {
            "marker": {
             "colorbar": {
              "outlinewidth": 0,
              "ticks": ""
             }
            },
            "type": "scattermap"
           }
          ],
          "scattermapbox": [
           {
            "marker": {
             "colorbar": {
              "outlinewidth": 0,
              "ticks": ""
             }
            },
            "type": "scattermapbox"
           }
          ],
          "scatterpolar": [
           {
            "marker": {
             "colorbar": {
              "outlinewidth": 0,
              "ticks": ""
             }
            },
            "type": "scatterpolar"
           }
          ],
          "scatterpolargl": [
           {
            "marker": {
             "colorbar": {
              "outlinewidth": 0,
              "ticks": ""
             }
            },
            "type": "scatterpolargl"
           }
          ],
          "scatterternary": [
           {
            "marker": {
             "colorbar": {
              "outlinewidth": 0,
              "ticks": ""
             }
            },
            "type": "scatterternary"
           }
          ],
          "surface": [
           {
            "colorbar": {
             "outlinewidth": 0,
             "ticks": ""
            },
            "colorscale": [
             [
              0,
              "#0d0887"
             ],
             [
              0.1111111111111111,
              "#46039f"
             ],
             [
              0.2222222222222222,
              "#7201a8"
             ],
             [
              0.3333333333333333,
              "#9c179e"
             ],
             [
              0.4444444444444444,
              "#bd3786"
             ],
             [
              0.5555555555555556,
              "#d8576b"
             ],
             [
              0.6666666666666666,
              "#ed7953"
             ],
             [
              0.7777777777777778,
              "#fb9f3a"
             ],
             [
              0.8888888888888888,
              "#fdca26"
             ],
             [
              1,
              "#f0f921"
             ]
            ],
            "type": "surface"
           }
          ],
          "table": [
           {
            "cells": {
             "fill": {
              "color": "#EBF0F8"
             },
             "line": {
              "color": "white"
             }
            },
            "header": {
             "fill": {
              "color": "#C8D4E3"
             },
             "line": {
              "color": "white"
             }
            },
            "type": "table"
           }
          ]
         },
         "layout": {
          "annotationdefaults": {
           "arrowcolor": "#2a3f5f",
           "arrowhead": 0,
           "arrowwidth": 1
          },
          "autotypenumbers": "strict",
          "coloraxis": {
           "colorbar": {
            "outlinewidth": 0,
            "ticks": ""
           }
          },
          "colorscale": {
           "diverging": [
            [
             0,
             "#8e0152"
            ],
            [
             0.1,
             "#c51b7d"
            ],
            [
             0.2,
             "#de77ae"
            ],
            [
             0.3,
             "#f1b6da"
            ],
            [
             0.4,
             "#fde0ef"
            ],
            [
             0.5,
             "#f7f7f7"
            ],
            [
             0.6,
             "#e6f5d0"
            ],
            [
             0.7,
             "#b8e186"
            ],
            [
             0.8,
             "#7fbc41"
            ],
            [
             0.9,
             "#4d9221"
            ],
            [
             1,
             "#276419"
            ]
           ],
           "sequential": [
            [
             0,
             "#0d0887"
            ],
            [
             0.1111111111111111,
             "#46039f"
            ],
            [
             0.2222222222222222,
             "#7201a8"
            ],
            [
             0.3333333333333333,
             "#9c179e"
            ],
            [
             0.4444444444444444,
             "#bd3786"
            ],
            [
             0.5555555555555556,
             "#d8576b"
            ],
            [
             0.6666666666666666,
             "#ed7953"
            ],
            [
             0.7777777777777778,
             "#fb9f3a"
            ],
            [
             0.8888888888888888,
             "#fdca26"
            ],
            [
             1,
             "#f0f921"
            ]
           ],
           "sequentialminus": [
            [
             0,
             "#0d0887"
            ],
            [
             0.1111111111111111,
             "#46039f"
            ],
            [
             0.2222222222222222,
             "#7201a8"
            ],
            [
             0.3333333333333333,
             "#9c179e"
            ],
            [
             0.4444444444444444,
             "#bd3786"
            ],
            [
             0.5555555555555556,
             "#d8576b"
            ],
            [
             0.6666666666666666,
             "#ed7953"
            ],
            [
             0.7777777777777778,
             "#fb9f3a"
            ],
            [
             0.8888888888888888,
             "#fdca26"
            ],
            [
             1,
             "#f0f921"
            ]
           ]
          },
          "colorway": [
           "#636efa",
           "#EF553B",
           "#00cc96",
           "#ab63fa",
           "#FFA15A",
           "#19d3f3",
           "#FF6692",
           "#B6E880",
           "#FF97FF",
           "#FECB52"
          ],
          "font": {
           "color": "#2a3f5f"
          },
          "geo": {
           "bgcolor": "white",
           "lakecolor": "white",
           "landcolor": "#E5ECF6",
           "showlakes": true,
           "showland": true,
           "subunitcolor": "white"
          },
          "hoverlabel": {
           "align": "left"
          },
          "hovermode": "closest",
          "mapbox": {
           "style": "light"
          },
          "paper_bgcolor": "white",
          "plot_bgcolor": "#E5ECF6",
          "polar": {
           "angularaxis": {
            "gridcolor": "white",
            "linecolor": "white",
            "ticks": ""
           },
           "bgcolor": "#E5ECF6",
           "radialaxis": {
            "gridcolor": "white",
            "linecolor": "white",
            "ticks": ""
           }
          },
          "scene": {
           "xaxis": {
            "backgroundcolor": "#E5ECF6",
            "gridcolor": "white",
            "gridwidth": 2,
            "linecolor": "white",
            "showbackground": true,
            "ticks": "",
            "zerolinecolor": "white"
           },
           "yaxis": {
            "backgroundcolor": "#E5ECF6",
            "gridcolor": "white",
            "gridwidth": 2,
            "linecolor": "white",
            "showbackground": true,
            "ticks": "",
            "zerolinecolor": "white"
           },
           "zaxis": {
            "backgroundcolor": "#E5ECF6",
            "gridcolor": "white",
            "gridwidth": 2,
            "linecolor": "white",
            "showbackground": true,
            "ticks": "",
            "zerolinecolor": "white"
           }
          },
          "shapedefaults": {
           "line": {
            "color": "#2a3f5f"
           }
          },
          "ternary": {
           "aaxis": {
            "gridcolor": "white",
            "linecolor": "white",
            "ticks": ""
           },
           "baxis": {
            "gridcolor": "white",
            "linecolor": "white",
            "ticks": ""
           },
           "bgcolor": "#E5ECF6",
           "caxis": {
            "gridcolor": "white",
            "linecolor": "white",
            "ticks": ""
           }
          },
          "title": {
           "x": 0.05
          },
          "xaxis": {
           "automargin": true,
           "gridcolor": "white",
           "linecolor": "white",
           "ticks": "",
           "title": {
            "standoff": 15
           },
           "zerolinecolor": "white",
           "zerolinewidth": 2
          },
          "yaxis": {
           "automargin": true,
           "gridcolor": "white",
           "linecolor": "white",
           "ticks": "",
           "title": {
            "standoff": 15
           },
           "zerolinecolor": "white",
           "zerolinewidth": 2
          }
         }
        },
        "title": {
         "text": "Quarterly Net Revenue (Fiscal)"
        },
        "xaxis": {
         "anchor": "y",
         "domain": [
          0,
          1
         ],
         "title": {
          "text": "QUARTER_KEY"
         }
        },
        "yaxis": {
         "anchor": "x",
         "domain": [
          0,
          1
         ],
         "title": {
          "text": "net_revenue"
         }
        }
       }
      }
     },
     "metadata": {},
     "output_type": "display_data"
    }
   ],
   "source": [
    "import pandas as pd\n",
    "import plotly.express as px\n",
    "import numpy as np\n",
    "\n",
    "# -----------------------------\n",
    "# Pull transactions and fiscal dates from Snowflake\n",
    "# -----------------------------\n",
    "conn = snowflake_conn()\n",
    "df_txn = pd.read_sql(\"\"\"\n",
    "    SELECT ORDERNUMBER, TOTAL_AMOUNT, FINAL_REFUND_AMOUNT, STD_ORDERDATE\n",
    "    FROM TRANSACTIONS\n",
    "\"\"\", conn)\n",
    "\n",
    "df_dates = pd.read_sql(\"\"\"\n",
    "    SELECT CALENDAR_DATE, FISCAL_YEAR, FISCAL_QUARTER, FISCAL_MONTH_NUMBER,\n",
    "           FISCAL_FIRST_DAY_OF_WEEK, FISCAL_LAST_DAY_OF_WEEK,\n",
    "           FISCAL_FIRST_DAY_OF_MONTH, FISCAL_LAST_DAY_OF_MONTH,\n",
    "           FISCAL_YEAR_WEEK, FISCAL_YEAR_MONTH, FISCAL_YEAR_QUARTER\n",
    "    FROM DATES\n",
    "\"\"\", conn)\n",
    "conn.close()\n",
    "\n",
    "# -----------------------------\n",
    "# Convert dates\n",
    "# -----------------------------\n",
    "df_txn['STD_ORDERDATE'] = pd.to_datetime(df_txn['STD_ORDERDATE'], errors='coerce')\n",
    "df_txn = df_txn.dropna(subset=['STD_ORDERDATE'])\n",
    "\n",
    "df_dates['CALENDAR_DATE'] = pd.to_datetime(df_dates['CALENDAR_DATE'], errors='coerce')\n",
    "df_dates = df_dates.dropna(subset=['CALENDAR_DATE'])\n",
    "\n",
    "# Ensure fiscal period columns are datetime\n",
    "for col in ['FISCAL_FIRST_DAY_OF_WEEK', 'FISCAL_LAST_DAY_OF_WEEK',\n",
    "            'FISCAL_FIRST_DAY_OF_MONTH', 'FISCAL_LAST_DAY_OF_MONTH']:\n",
    "    df_dates[col] = pd.to_datetime(df_dates[col], errors='coerce')\n",
    "\n",
    "# -----------------------------\n",
    "# Merge transactions with fiscal dates\n",
    "# -----------------------------\n",
    "df = df_txn.merge(df_dates, left_on='STD_ORDERDATE', right_on='CALENDAR_DATE', how='left')\n",
    "\n",
    "# -----------------------------\n",
    "# Handle any missing fiscal dates\n",
    "# -----------------------------\n",
    "# For transactions without matching fiscal dates, approximate using the transaction date itself\n",
    "df['FISCAL_YEAR'] = df['FISCAL_YEAR'].fillna(df['STD_ORDERDATE'].dt.year)\n",
    "df['FISCAL_QUARTER'] = df['FISCAL_QUARTER'].fillna(df['STD_ORDERDATE'].dt.quarter)\n",
    "df['FISCAL_MONTH_NUMBER'] = df['FISCAL_MONTH_NUMBER'].fillna(df['STD_ORDERDATE'].dt.month)\n",
    "df['FISCAL_YEAR_WEEK'] = df['FISCAL_YEAR_WEEK'].fillna(df['STD_ORDERDATE'].dt.isocalendar().week)\n",
    "df['FISCAL_YEAR_MONTH'] = df['FISCAL_YEAR_MONTH'].fillna(df['STD_ORDERDATE'].dt.month)\n",
    "df['FISCAL_YEAR_QUARTER'] = df['FISCAL_YEAR_QUARTER'].fillna(df['STD_ORDERDATE'].dt.quarter)\n",
    "\n",
    "# -----------------------------\n",
    "# Clean numeric columns\n",
    "# -----------------------------\n",
    "df['TOTAL_AMOUNT'] = pd.to_numeric(df['TOTAL_AMOUNT'], errors='coerce').fillna(0)\n",
    "df['FINAL_REFUND_AMOUNT'] = pd.to_numeric(df['FINAL_REFUND_AMOUNT'], errors='coerce').fillna(0)\n",
    "df['NET_REVENUE'] = df['TOTAL_AMOUNT'] - df['FINAL_REFUND_AMOUNT']\n",
    "\n",
    "# -----------------------------\n",
    "# Generate fiscal period keys\n",
    "# -----------------------------\n",
    "df['WEEK_KEY'] = df['FISCAL_YEAR'].astype(int).astype(str) + \"-W\" + df['FISCAL_YEAR_WEEK'].astype(int).astype(str)\n",
    "df['MONTH_KEY'] = df['FISCAL_YEAR'].astype(int).astype(str) + \"-M\" + df['FISCAL_YEAR_MONTH'].astype(int).astype(str)\n",
    "df['QUARTER_KEY'] = df['FISCAL_YEAR'].astype(int).astype(str) + \"-Q\" + df['FISCAL_YEAR_QUARTER'].astype(int).astype(str)\n",
    "\n",
    "# -----------------------------\n",
    "# Aggregation function\n",
    "# -----------------------------\n",
    "def aggregate_metrics(df, group_col):\n",
    "    return df.groupby(group_col).agg(\n",
    "        total_sales=('TOTAL_AMOUNT','sum'),\n",
    "        total_refunds=('FINAL_REFUND_AMOUNT','sum'),\n",
    "        net_revenue=('NET_REVENUE','sum'),\n",
    "        total_items=('ORDERNUMBER','count')\n",
    "    ).reset_index()\n",
    "\n",
    "# -----------------------------\n",
    "# Aggregate by fiscal week, month, quarter\n",
    "# -----------------------------\n",
    "weekly_agg = aggregate_metrics(df, 'WEEK_KEY')\n",
    "monthly_agg = aggregate_metrics(df, 'MONTH_KEY')\n",
    "quarterly_agg = aggregate_metrics(df, 'QUARTER_KEY')\n",
    "\n",
    "# -----------------------------\n",
    "# Display tables\n",
    "# -----------------------------\n",
    "print(\"📊 Weekly Aggregates\")\n",
    "display(weekly_agg.head(10))\n",
    "\n",
    "print(\"📊 Monthly Aggregates\")\n",
    "display(monthly_agg.head(10))\n",
    "\n",
    "print(\"📊 Quarterly Aggregates\")\n",
    "display(quarterly_agg.head(10))\n",
    "\n",
    "# -----------------------------\n",
    "# Visualizations\n",
    "# -----------------------------\n",
    "px.bar(weekly_agg, x='WEEK_KEY', y='net_revenue', title='Weekly Net Revenue (Fiscal)').show()\n",
    "px.bar(monthly_agg, x='MONTH_KEY', y='net_revenue', title='Monthly Net Revenue (Fiscal)').show()\n",
    "px.bar(quarterly_agg, x='QUARTER_KEY', y='net_revenue', title='Quarterly Net Revenue (Fiscal)').show()\n"
   ]
  }
 ],
 "metadata": {
  "kernelspec": {
   "display_name": "Python 3",
   "language": "python",
   "name": "python3"
  },
  "language_info": {
   "codemirror_mode": {
    "name": "ipython",
    "version": 3
   },
   "file_extension": ".py",
   "mimetype": "text/x-python",
   "name": "python",
   "nbconvert_exporter": "python",
   "pygments_lexer": "ipython3",
   "version": "3.10.11"
  }
 },
 "nbformat": 4,
 "nbformat_minor": 5
}
